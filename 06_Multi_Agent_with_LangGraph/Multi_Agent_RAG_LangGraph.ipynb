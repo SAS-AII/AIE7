{
  "cells": [
    {
      "cell_type": "markdown",
      "metadata": {
        "id": "KxpWDFG11o3G"
      },
      "source": [
        "# Multi-Agent Workflows + RAG - LangGraph\n",
        "\n",
        "Today we'll be looking at an example of a Multi-Agent workflow that's powered by LangGraph, LCEL, and more!\n",
        "\n",
        "We're going to be, more specifically, looking at a \"heirarchical agent teams\" from the [AutoGen: Enabling Next-Gen LLM\n",
        "Applications via Multi-Agent Conversation](https://arxiv.org/pdf/2308.08155) paper.\n",
        "\n",
        "This will be the final \"graph\" of our system:\n",
        "\n",
        "![image](https://i.imgur.com/Xro0QiR.png)\n",
        "\n",
        "It's important to keep in mind that the actual implementation will be constructed of 3 separate graphs, the final one having 2 graphs as nodes! LangGraph is a heckuva tool!\n",
        "\n"
      ]
    },
    {
      "cell_type": "markdown",
      "metadata": {
        "id": "TyzoBrWoYeOZ"
      },
      "source": [
        "# 🤝 BREAKOUT ROOM #1"
      ]
    },
    {
      "cell_type": "markdown",
      "metadata": {
        "id": "mx3oaVoX5cA2"
      },
      "source": [
        "## Dependencies"
      ]
    },
    {
      "cell_type": "markdown",
      "metadata": {
        "id": "Zpv2MWqu5vS9"
      },
      "source": [
        "Since we'll be relying on OpenAI's suite of models to power our agents today, we'll want to provide our OpenAI API Key.\n",
        "\n",
        "We're also going to be using the Tavily search tool - so we'll want to provide that API key as well!\n",
        "\n",
        "Instruction for how to obtain the Tavily API key can be found:\n",
        "\n",
        "1. [Tavily API Key](https://app.tavily.com/sign-in)\n",
        "\n"
      ]
    },
    {
      "cell_type": "code",
      "execution_count": 82,
      "metadata": {
        "colab": {
          "base_uri": "https://localhost:8080/"
        },
        "id": "h30OjkLfeR2Y",
        "outputId": "f75bb26e-b89d-4611-c29b-f339b3e868af"
      },
      "outputs": [],
      "source": [
        "import os\n",
        "import getpass\n",
        "\n",
        "os.environ[\"OPENAI_API_KEY\"] = getpass.getpass(\"OpenAI API Key:\")\n",
        "os.environ[\"TAVILY_API_KEY\"] = getpass.getpass(\"TAVILY_API_KEY\")"
      ]
    },
    {
      "cell_type": "markdown",
      "metadata": {
        "id": "M_LD7rwT6PbO"
      },
      "source": [
        "## Task 1: Simple LangGraph RAG\n",
        "\n",
        "Now that we have our dependencies set-up - let's create a simple RAG graph that works over our Loan PDFs from previous sessions.\n",
        "\n",
        "> NOTE: While this particular example is very straight forward - you can \"plug in\" any complexity of chain you desire as a node in a LangGraph."
      ]
    },
    {
      "cell_type": "markdown",
      "metadata": {
        "id": "JY7T5kxJ6jGn"
      },
      "source": [
        "## Retrieval\n",
        "\n",
        "The 'R' in 'RAG' - this is, at this point, fairly straightforward!"
      ]
    },
    {
      "cell_type": "markdown",
      "metadata": {
        "id": "DGuPxSCk7Ztz"
      },
      "source": [
        "#### Data Collection and Processing\n",
        "\n",
        "A classic first step, at this point, let's grab our desired document!"
      ]
    },
    {
      "cell_type": "code",
      "execution_count": null,
      "metadata": {
        "id": "LfuoEYRCln3H"
      },
      "outputs": [],
      "source": [
        "# from langchain_community.document_loaders import DirectoryLoader\n",
        "# from langchain_community.document_loaders import PyMuPDFLoader\n",
        "\n",
        "# directory_loader = DirectoryLoader(\"data\", glob=\"**/*.pdf\", loader_cls=PyMuPDFLoader)\n",
        "\n",
        "# loan_knowledge_resources = directory_loader.load()\n",
        "\n",
        "# ✅ ACTIVITY 1: Load the data from the arxiv dynamically\n",
        "from langchain_community.document_loaders import ArxivLoader\n",
        "\n",
        "def fetch_arxiv_docs(query: str, max_docs: int = 5):\n",
        "    \"\"\"\n",
        "    Retrieve `max_docs` most-relevant arXiv PDFs for `query`\n",
        "    and return them as LangChain Document objects.\n",
        "    The search uses arXiv’s public RSS interface; no credentials needed.\n",
        "    \"\"\"\n",
        "    loader = ArxivLoader(query=query, load_max_docs=max_docs)\n",
        "    return loader.load()\n",
        "\n",
        "# Example topic\n",
        "arxiv_query = \"student loan policy\"\n",
        "\n",
        "arxiv_docs = fetch_arxiv_docs(arxiv_query, max_docs=5)\n"
      ]
    },
    {
      "cell_type": "markdown",
      "metadata": {
        "id": "r_t_F1zG6vXa"
      },
      "source": [
        "Now we can chunk it down to size!"
      ]
    },
    {
      "cell_type": "code",
      "execution_count": 84,
      "metadata": {
        "id": "5R7A_z8CgL79"
      },
      "outputs": [],
      "source": [
        "import tiktoken\n",
        "from langchain.text_splitter import RecursiveCharacterTextSplitter\n",
        "\n",
        "def tiktoken_len(text):\n",
        "    tokens = tiktoken.encoding_for_model(\"gpt-4o\").encode(\n",
        "        text,\n",
        "    )\n",
        "    return len(tokens)\n",
        "\n",
        "text_splitter = RecursiveCharacterTextSplitter(\n",
        "    chunk_size = 750,\n",
        "    chunk_overlap = 0,\n",
        "    length_function = tiktoken_len,\n",
        ")\n",
        "\n",
        "# loan_knowledge_chunks = text_splitter.split_documents(loan_knowledge_resources)\n",
        "# ✅ ACTIVITY 1: Split the arXiv data into chunks\n",
        "arxiv_chunks = text_splitter.split_documents(arxiv_docs)"
      ]
    },
    {
      "cell_type": "markdown",
      "metadata": {
        "id": "lGE-VuMc7AKv"
      },
      "source": [
        "Now we've successfully split our single PDF into..."
      ]
    },
    {
      "cell_type": "code",
      "execution_count": 85,
      "metadata": {
        "colab": {
          "base_uri": "https://localhost:8080/"
        },
        "id": "pgYBHsdWmLvW",
        "outputId": "aa9a830e-f7db-4bb3-f542-c0614cb01aca"
      },
      "outputs": [
        {
          "data": {
            "text/plain": [
              "61"
            ]
          },
          "execution_count": 85,
          "metadata": {},
          "output_type": "execute_result"
        }
      ],
      "source": [
        "# len(loan_knowledge_chunks)\n",
        "# ✅ ACTIVITY 1\n",
        "len(arxiv_chunks)"
      ]
    },
    {
      "cell_type": "markdown",
      "metadata": {
        "id": "lxaKmmyh7DHD"
      },
      "source": [
        "documents!"
      ]
    },
    {
      "cell_type": "markdown",
      "metadata": {
        "id": "cGWs7KTd7QPS"
      },
      "source": [
        "#### Embedding Model and Vector Store\n",
        "\n",
        "Now that we have our chunked document - lets create a vector store, which will first require us to create an embedding model to get the vector representations of our text!\n",
        "\n",
        "We'll use OpenAI's [`text-embedding-3-small`](https://platform.openai.com/docs/guides/embeddings/embedding-models) model - as it's cheap, and performant."
      ]
    },
    {
      "cell_type": "code",
      "execution_count": 86,
      "metadata": {
        "id": "xLIWMMZCmfrj"
      },
      "outputs": [],
      "source": [
        "from langchain_openai.embeddings import OpenAIEmbeddings\n",
        "\n",
        "embedding_model = OpenAIEmbeddings(model=\"text-embedding-3-small\")"
      ]
    },
    {
      "cell_type": "markdown",
      "metadata": {
        "id": "lTEi7Ww573sc"
      },
      "source": [
        "Now we can create our QDrant backed vector store!"
      ]
    },
    {
      "cell_type": "code",
      "execution_count": 87,
      "metadata": {
        "id": "Xct51f8omVAU"
      },
      "outputs": [],
      "source": [
        "from langchain_community.vectorstores import Qdrant\n",
        "\n",
        "# qdrant_vectorstore = Qdrant.from_documents(\n",
        "#     documents=loan_knowledge_chunks,\n",
        "#     embedding=embedding_model,\n",
        "#     location=\":memory:\"\n",
        "# )\n",
        "\n",
        "# ✅ ACTIVITY 1\n",
        "\n",
        "qdrant_vectorstore = Qdrant.from_documents(\n",
        "    documents=arxiv_chunks,\n",
        "    embedding=embedding_model,\n",
        "    location=\":memory:\"\n",
        ")\n",
        "\n",
        "# ──────────────────────────────────────────────────────\n"
      ]
    },
    {
      "cell_type": "markdown",
      "metadata": {
        "id": "wzGq6o4s79Ar"
      },
      "source": [
        "Let's make sure we can access it as a retriever."
      ]
    },
    {
      "cell_type": "code",
      "execution_count": 88,
      "metadata": {
        "id": "OTnQZbWymi4K"
      },
      "outputs": [],
      "source": [
        "qdrant_retriever = qdrant_vectorstore.as_retriever()"
      ]
    },
    {
      "cell_type": "markdown",
      "metadata": {
        "id": "aU8qSrMS7_D7"
      },
      "source": [
        "### Augmented\n",
        "\n",
        "Now that we have our retrieval process set-up, we need to set up our \"augmentation\" process - AKA a prompt template."
      ]
    },
    {
      "cell_type": "code",
      "execution_count": 89,
      "metadata": {
        "id": "lezTN0zCmk46"
      },
      "outputs": [],
      "source": [
        "from langchain_core.prompts import ChatPromptTemplate\n",
        "\n",
        "HUMAN_TEMPLATE = \"\"\"\n",
        "#CONTEXT:\n",
        "{context}\n",
        "\n",
        "QUERY:\n",
        "{query}\n",
        "\n",
        "Use the provide context to answer the provided user query. Only use the provided context to answer the query. If you do not know the answer, or it's not contained in the provided context respond with \"I don't know\"\n",
        "\"\"\"\n",
        "\n",
        "chat_prompt = ChatPromptTemplate.from_messages([\n",
        "    (\"human\", HUMAN_TEMPLATE)\n",
        "])"
      ]
    },
    {
      "cell_type": "markdown",
      "metadata": {
        "id": "Y9fa63nM7IKK"
      },
      "source": [
        "### Generation\n",
        "\n",
        "Last, but certainly not least, let's put the 'G' in 'RAG' by adding our generator - in this case, we can rely on OpenAI's [`gpt-4o-mini`](https://platform.openai.com/docs/models/gpt-4o-mini) model!"
      ]
    },
    {
      "cell_type": "code",
      "execution_count": 90,
      "metadata": {
        "id": "AwEi29-Jo3a8"
      },
      "outputs": [],
      "source": [
        "from langchain_openai import ChatOpenAI\n",
        "\n",
        "openai_chat_model = ChatOpenAI(model=\"gpt-4.1-nano\")"
      ]
    },
    {
      "cell_type": "markdown",
      "metadata": {
        "id": "qO-ZC0T98XJJ"
      },
      "source": [
        "### RAG - Retrieval Augmented Generation\n",
        "\n",
        "All that's left to do is combine our R, A, and G into a single graph - and we're off!"
      ]
    },
    {
      "cell_type": "code",
      "execution_count": 91,
      "metadata": {
        "id": "nlOJrPm_oT3S"
      },
      "outputs": [],
      "source": [
        "from langgraph.graph import START, StateGraph\n",
        "from typing_extensions import TypedDict\n",
        "from langchain_core.documents import Document\n",
        "from langchain_core.output_parsers import StrOutputParser\n",
        "\n",
        "class State(TypedDict):\n",
        "  question: str\n",
        "  context: list[Document]\n",
        "  response: str\n",
        "\n",
        "def retrieve(state: State) -> State:\n",
        "  retrieved_docs = qdrant_retriever.invoke(state[\"question\"])\n",
        "  return {\"context\" : retrieved_docs}\n",
        "\n",
        "def generate(state: State) -> State:\n",
        "  generator_chain = chat_prompt | openai_chat_model | StrOutputParser()\n",
        "  response = generator_chain.invoke({\"query\" : state[\"question\"], \"context\" : state[\"context\"]})\n",
        "  return {\"response\" : response}\n",
        "\n",
        "graph_builder = StateGraph(State)\n",
        "graph_builder = graph_builder.add_sequence([retrieve, generate])\n",
        "graph_builder.add_edge(START, \"retrieve\")\n",
        "rag_graph = graph_builder.compile()"
      ]
    },
    {
      "cell_type": "code",
      "execution_count": 92,
      "metadata": {},
      "outputs": [
        {
          "data": {
            "image/png": "[encoded data removed]",
            "text/plain": [
              "<langgraph.graph.state.CompiledStateGraph object at 0x75505a708b90>"
            ]
          },
          "execution_count": 92,
          "metadata": {},
          "output_type": "execute_result"
        }
      ],
      "source": [
        "rag_graph"
      ]
    },
    {
      "cell_type": "markdown",
      "metadata": {
        "id": "qiWrbXpu8ggz"
      },
      "source": [
        "Let's test this out and make sure it works."
      ]
    },
    {
      "cell_type": "code",
      "execution_count": 93,
      "metadata": {
        "colab": {
          "base_uri": "https://localhost:8080/",
          "height": 122
        },
        "id": "gJhFlW32pBPe",
        "outputId": "7aee04b6-608f-4639-adca-66225d4d3002"
      },
      "outputs": [
        {
          "data": {
            "text/plain": [
              "{'question': 'What is the maximum loan amount?',\n",
              " 'context': [Document(metadata={'Published': '2018-05-03', 'Title': 'Data-Driven Exploration of Factors Affecting Federal Student Loan Repayment', 'Authors': 'Bin Luo, Qi Zhang, Somya D. Mohanty', 'Summary': 'Student loans occupy a significant portion of the federal budget, as well as,\\nthe largest financial burden in terms of debt for graduates. This paper\\nexplores data-driven approaches towards understanding the repayment of such\\nloans. Using statistical and machine learning models on the College Scorecard\\nData, this research focuses on extracting and identifying key factors affecting\\nthe repayment of a student loan. The specific factors can be used to develop\\nmodels which provide predictive capability towards repayment rate, detect\\nirregularities/non-repayment, and help understand the intricacies of student\\nloans.', '_id': 'f09a084fb9204c1c8d6d79e8b2db7b08', '_collection_name': '3f6d18646e4c4e6da307affbe0b13c5d'}, page_content='Data-Driven Exploration of Factors Affecting\\nFederal Student Loan Repayment\\nBin Luo, Qi Zhang, Somya D. Mohanty\\nAbstract—Student loans occupy a signiﬁcant portion of the\\nfederal budget, as well as, the largest ﬁnancial burden in\\nterms of debt for graduates. This paper explores data-driven\\napproaches towards understanding the repayment of such\\nloans. Using statistical and machine learning models on the\\nCollage Scorecard Data, this research focuses on extracting and\\nidentifying key factors affecting the repayment of a student\\nloan. The speciﬁc factors can be used to develop models\\nwhich provide predictive capability towards repayment rate,\\ndetect irregularities/non-repayment, and help understand the\\nintricacies of student loans.\\nIndex Terms—Student loans, Principle Component Analysis,\\nRandom Forest, Elastic-net, Machine-Learning\\nI. INTRODUCTION\\nIn the United States, a large portion of college education\\nis ﬁnanced through federal student loans. Such loans reduce\\nthe ﬁnancial burden enabling students to participate in higher\\neducation. In such cases, the lender could be a bank, credit\\nunion, the borrowers school, and/or the Department of Educa-\\ntion. The federal government issues $1.45 trillion of student\\nloan debt each year, and more than 90% of student debt today\\nis in the form of federal loans. In recent reports, currently\\nthere are approximately 44.2 million Americans with student\\nloan debts [1].\\nRepayment of such loans includes a multitude of options,\\nbut most participate in a standard ten year plan with 120\\nequal monthly payments. With the federal government being\\none of the largest lenders in student loans, a key objective\\nof the agency is to quantify the repayment capability of the\\nborrower. A report from the federal reserve system states\\nthat individuals currently carry an average of over $37,000\\nin unpaid loans, along with the average monthly student loan\\nrepayment at $351 (for a borrower aged 20 to 30 years)\\n[1]. With a reported $31,099 as the 2016 nominal median\\nincome per capita [2], the statistics illustrate a growing\\nproblem among college graduates in terms of loan repayment.\\nAlthough loans cover the rising cost of higher education,\\nsubsequent debt can make it difﬁcult to reap the beneﬁts of\\nthe investment.\\nB. Luo is with the Department of Mathematics and Statistics, University\\nof North Carolina at Greensboro, Greensboro, NC, 27412 USA e-mail:\\nb luo@uncg.edu.\\nQ. Zhang is with the Department of Mathematics and Statistics, Uni-\\nversity of North Carolina at Greensboro, Greensboro, NC, 27412 USA e-\\nmail:q zhang@uncg.edu.\\nSomya D. Mohanty is with the Department of Computer Science, Uni-\\nversity of North Carolina at Greensboro, Greensboro, NC, 27412 USA e-\\nmail:sdmohant@uncg.edu.\\nAs expected, most college graduates carry student loan\\ndebt for much longer than they expected. The intuition behind\\nincurring student loans, is to enable expansion of employment\\nopportunities or movement towards a better position and/or\\njob prospects, through higher education, where repayment\\ncan be done though additional income of an individual.\\nHowever, students who are unable to complete their college\\neducation, completely counters this intuition. With the addi-\\ntional burden of college loans, and relatively similar income'),\n",
              "  Document(metadata={'Published': '2018-05-03', 'Title': 'Data-Driven Exploration of Factors Affecting Federal Student Loan Repayment', 'Authors': 'Bin Luo, Qi Zhang, Somya D. Mohanty', 'Summary': 'Student loans occupy a significant portion of the federal budget, as well as,\\nthe largest financial burden in terms of debt for graduates. This paper\\nexplores data-driven approaches towards understanding the repayment of such\\nloans. Using statistical and machine learning models on the College Scorecard\\nData, this research focuses on extracting and identifying key factors affecting\\nthe repayment of a student loan. The specific factors can be used to develop\\nmodels which provide predictive capability towards repayment rate, detect\\nirregularities/non-repayment, and help understand the intricacies of student\\nloans.', '_id': '72e3f78c53a54880a158dcc34765298d', '_collection_name': '3f6d18646e4c4e6da307affbe0b13c5d'}, page_content='2)\\n(1)\\nAt α = 1 and α = 0, the algorithm operates as Lasso\\nand Ridge estimator respectively. The Lasso estimator is\\ncapable of selecting variables and estimating coefﬁcients\\nFig. 1. Box-Plot of repayment rates - In different years\\nsimultaneously. However, it has a limitation that, when a\\ngroup of highly correlated variables exist, the Lasso tends to\\nselect a single variable from that group and ignore the others.\\nThe elastic net was designed to overcome this limitation by\\nincorporating an additional L2 penalty. With the advantages\\nof the Elastic Net over the regular Lasso model, the algorithm\\nwas used for identifying important features which affect\\nrepayment rate.\\nD. Random Forest\\nWhile the assumption of the underlying model (in predic-\\ntion of repayment rate) to be linear for regression methods\\nmight be correct, the study also explored utilization of non-\\nlinear models such as Random Forest [15]. Random forests\\nis an ensemble learning method, that constructs a multitude\\nof decision trees [16] during training to ﬁt the data, and\\ncan have a categorical or a continuous value output. For\\nexample, the model is capable of supervised learning with\\nprediction of classes of outcome, and similarly can output\\nprediction values (mean values using regression) from the\\nobservations. Furthermore, the algorithm is also capable of\\nidentifying important features which inﬂuence the decision\\nof the models. Thus, prediction models based on Random\\nForest were developed in the study.\\nIV. ANALYSIS AND RESULTS\\nThe pre-processing on the original dataset lead to the\\nthreshold calculation of top a features as a = 10, and top b\\nfeatures as b = 500 on multiple combinations of (a, b). The\\noutput dataset for analysis consisted of of 500 features and\\n35,027 observations. The ﬁrst step in analysis of the dataset\\nfor features affecting student loan repayment was the period\\nof repayment variable (based on the factors considered in\\nprior literature [6]).\\nFig. 2. Box-Plot of different time periods repayment rate - Students who\\ngraduated in 2006\\nFigure 1, shows the distribution of different years of\\nrepayment rates. The rates have been normalized to be in the\\nrange of 0 to 1. The median repayment rates are observed to\\nbe in the range of 0.4 to 0.6. An overall trend across all of the\\ndifferent categories (number of years) is the gradual decline\\nin loan repayment, indicating fewer borrowers are repaying\\ntheir debt in recent years.\\nFigure 2, describes the repayment rate for different time\\nperiods (1 year, 3 year, 5 year, and 7 year) for students who\\ngraduated in 2006. More speciﬁcally, the one year repayment\\nrate for the 2006 batch was collected in 2007, for 3 year it\\nwas collected in 2009, and so on. Analyzing the repayment\\nrate across the periods shows no signiﬁcant deviation in\\nrepayment behaviour, with a median rate across the time\\nperiods being about 0.6. The study was also conducted across\\nthe batch of 2007 and 2008, resulting in similar results. Due\\nto the similar repayment rate for different time periods and\\nfewer missing value for 1-year repayment rate, the study\\nchoose to proceed with the analysis using 1-year repayment\\nrate only.\\nA. Potential Predictors'),\n",
              "  Document(metadata={'Published': '2024-11-08', 'Title': 'Higher education funding: The value of choice', 'Authors': 'Limor Hatsor, Ronen Bar-El', 'Summary': \"An alternative to the dependence on traditional student loans may offer a\\nviable relief from the tremendous burden that those loans usually incur. This\\narticle establishes that it is desirable for governmental intervention to grant\\nstudents 'more choice' in their funding decisions by allowing them to have\\nportfolios, mixtures of different types of loans. To emphasize this point, a\\nmodel is presented of a situation where students invest in higher education\\nwhile facing uncertainty about their individual earning potential. The model\\nreveals that when students are allowed to have portfolios of loans, some of\\nthem indeed take the opportunity and diversify their loans, benefiting\\nthemselves, but also improving the loan terms of other students. Therefore,\\nwhen governments organize student loans, they should consider providing\\nstudents with more choice in their funding decisions.\", '_id': '3a1ac85281b24c23ae0b942a9fc2eb37', '_collection_name': '3f6d18646e4c4e6da307affbe0b13c5d'}, page_content=\"The government chooses the weighted mean ability of ICL participants, a , so that the \\nloan program breaks even according to Eq. (4); Each individual maximizes the \\nexpected utility in order to choose the share of CML, \\uf071y , as a function of a . \\nSubstituting \\uf071y ( a ) in Eq. (4) solves the equilibrium. \\n \\nDefinition of Equilibrium: \\nGiven the international gross interest rate, the distribution of abilities, the \\ndistribution of signals, and the stock of human capital, H , the equilibrium consists of \\na vector \\uf028\\n\\uf029\\n\\uf077\\n\\uf02b\\n\\uf0ce\\n3\\n,\\n,\\nK H\\nR , and a share of CML, \\uf071y , for each signal group , such that \\ni. \\nFirms: The wage rate and the physical capital satisfy Eq. (5); \\nii. \\nGovernment: The loan program breaks even by a according to Eq. (4); and \\niii. \\nIndividuals: The share of CML, \\uf071y , maximizes their expected utility, \\uf028\\n\\uf029\\n\\uf025y\\nu c\\n. \\uf06f \\n \\n5 The first equality implies that the interest rate, R , uniquely determines the ratio K\\nH  and, thus, K . \\nThen, the wage rate, \\uf077, is uniquely determined by substituting K\\nH  in the second equality. \\nAfter the introduction of the model, the following section reports the results. \\n \\n \\n3. \\nResults \\n     The remainder of the article explores how the various choices of funding available \\nin the market affect students. It is, then, established that granting students 'more \\nchoice' by allowing them to choose portfolios of loans is beneficial for the economy. \\n \\n     Considering the various choices of loans, there are attendant questions. When \\noffered the choice to mix loans, do students practically use this opportunity or prefer \\nto finance their higher education either through one type of loan or the other? And if \\nsome students indeed mix their loans, what are the motivations and features of their \\ndecisions? The answer is not obvious, because it is a choice, not an obligation.  \\n     Some students (also referred to as the portfolio set) indeed use this opportunity and \\nchoose a portfolio of loans. To confirm that, let signal group ˆy  be indifferent between \\none loan (ICL-only, \\uf071\\n\\uf03d0\\ny\\n) or the other (CML-only, \\uf071\\n\\uf03d1\\ny\\n) (see definition 3 on the \\nAppendix), and assume that ˆy  lies in the signal distribution, \\n \\nAssumption 1: Signal group ˆy  lies in the signal distribution, i.e., \\n\\uf028\\n\\uf029\\n\\uf0ce\\n1\\n2\\nˆ\\n,\\ny\\ny\\ny\\n. \\uf06f   \\n     Then, it is easy to verify that the individuals from signal group ˆy  who are \\nindifferent between the two loans, strictly prefer to mix the two loans, because of the \\nrisk-aversion. By diversifying the loans, they gain some insurance against the \\nuncertainty of future incomes. But not only signal group ˆy  prefers portfolios. \\nContinuity implies that signal groups in a sufficiently small neighborhood around ˆy\"),\n",
              "  Document(metadata={'Published': '2024-11-08', 'Title': 'Higher education funding: The value of choice', 'Authors': 'Limor Hatsor, Ronen Bar-El', 'Summary': \"An alternative to the dependence on traditional student loans may offer a\\nviable relief from the tremendous burden that those loans usually incur. This\\narticle establishes that it is desirable for governmental intervention to grant\\nstudents 'more choice' in their funding decisions by allowing them to have\\nportfolios, mixtures of different types of loans. To emphasize this point, a\\nmodel is presented of a situation where students invest in higher education\\nwhile facing uncertainty about their individual earning potential. The model\\nreveals that when students are allowed to have portfolios of loans, some of\\nthem indeed take the opportunity and diversify their loans, benefiting\\nthemselves, but also improving the loan terms of other students. Therefore,\\nwhen governments organize student loans, they should consider providing\\nstudents with more choice in their funding decisions.\", '_id': '08bba81e7b774d4eb8564372aa05bb99', '_collection_name': '3f6d18646e4c4e6da307affbe0b13c5d'}, page_content=\"students also. Even students who prefer using only one type of a loan may benefit. \\nWhile they do not use the opportunity to diversify loans, their borrowing terms hinge \\non the funding decisions of other students. Specifically, their borrowing terms may \\nimprove when other students decide to mix loans. Therefore, it is important that \\ngovernments not only guarantee access for students to loans (see a literature review \\non students' borrowing constraints in Eckwert and Zilcha, 2015) but also ensure that \\nvarious mixtures of loans are available in the market.  \\n \\n     The idea of choice of loans will be illustrated using two common types of student \\nloans. The first, credit market loans (CML), impose fixed loan repayments on all \\nstudents. The fixed repayments may discourage capable but disadvantaged students \\nfrom acquiring higher education. Bearing fixed repayments may be too risky for \\ndisadvantaged students, considering that future incomes are uncertain at the point of \\ntaking the loan (see Del Rey and Racionero, 2010).  \\n \\n     To overcome the under-investment in higher education, several countries, \\nincluding Australia, New Zealand, Chile, Sweden and the United Kingdom, have \\nguaranteed access to a second type of student loans: income-contingent repayment \\nloans (ICL).  \\n     The basic feature of ICL is that repayments are based on a percentage of actual \\nfuture incomes. Accordingly, students with large income realizations (discovered after \\nthey complete higher education) incur larger repayments than those with low income \\nlevels. In contrast to credit market loans (CML), ICL imply cross-subsidization \\namong students with different future incomes: individuals with high incomes \\n‘subsidize’ those with low incomes. As a result, ICL provide 'insurance' (through risk-\\nsharing) against the uncertainty of future incomes1.  \\n      \\n     While other articles analyze these funding channels in isolation, Eckwert and \\nZilcha (2015) model the concept of choice of student loans (see also Del Rey, 2012). \\nTheir ‘equilibrium with funding diversity’ (FDE) allows students to choose one of \\ntwo funding channels, CML or ICL. They prove that FDE reduces the risks on \\ninvestments in higher education, and thereby enhances the opportunity of pursuing \\nhigher education compared to pure CML. Taking the concept of choice one step \\nfurther, while they forbid a mixture of loans, the simple framework of this study \\nindicates that allowing students to choose their own portfolio of both funding \\nchannels is beneficial for the economy.  \\n      \\n \\n1  Milton Friedman (1962) was the first to mention the potential advantages of ICL for students and \\ninvestors. Eckwert and Zilcha (2012) analyze alternative ICL programs that differ in the degree of risk-\\npooling. Chapman (2006) describes the experience in Australia, the first country to implement ICL (see \\nalso Barr and Crawford, 1998; Lleras, 2004; Nerlove, 1975; Woodhall, 1988).  \\n     The model (to be presented later in this paper) assumes that when risk-averse \\nyoung individuals invest in higher education, there is an attendant amplifying of their \\nearning potential as adults. At the point of entering the higher education system, the\")],\n",
              " 'response': \"I don't know\"}"
            ]
          },
          "execution_count": 93,
          "metadata": {},
          "output_type": "execute_result"
        }
      ],
      "source": [
        "rag_graph.invoke({\"question\" : \"What is the maximum loan amount?\"})"
      ]
    },
    {
      "cell_type": "markdown",
      "metadata": {
        "id": "gReMizYk8qd-"
      },
      "source": [
        "### RAG Limitation\n",
        "\n",
        "Notice how we're hard-coding our data, while this is simply meant to be an illustrative example - you could easily extend this to work with any provied paper or document in order to have a more dynamic system.\n",
        "\n",
        "For now, we'll stick with this single hard-coded example in order to keep complexity down in an already very long notebook!"
      ]
    },
    {
      "cell_type": "markdown",
      "metadata": {
        "id": "oxkbuir-H5rE"
      },
      "source": [
        "##### 🏗️ Activity #1 (Bonus Marks)\n",
        "\n",
        "Allow the system to dynamically fetch Arxiv papers instead of hard coding them.\n",
        "\n",
        "> HINT: Tuesday's assignment will be very useful here.\n",
        "\n",
        "# ✅ Done !!"
      ]
    },
    {
      "cell_type": "markdown",
      "metadata": {
        "id": "7U6a_pqQ9uWf"
      },
      "source": [
        "## Task 2: Helper Functions for Agent Graphs\n",
        "\n",
        "We'll be using a number of agents, nodes, and supervisors in the rest of the notebook - and so it will help to have a collection of useful helper functions that we can leverage to make our lives easier going forward.\n",
        "\n",
        "Let's start with the most simple one!"
      ]
    },
    {
      "cell_type": "markdown",
      "metadata": {
        "id": "IDUnpEEl-L_F"
      },
      "source": [
        "#### Import Wall\n",
        "\n",
        "Here's a wall of imports we'll be needing going forward!"
      ]
    },
    {
      "cell_type": "code",
      "execution_count": 94,
      "metadata": {
        "id": "TbzoL3Q3-SG1"
      },
      "outputs": [],
      "source": [
        "from typing import Any, Callable, List, Optional, TypedDict, Union\n",
        "\n",
        "from langchain.agents import AgentExecutor, create_openai_functions_agent\n",
        "from langchain.output_parsers.openai_functions import JsonOutputFunctionsParser\n",
        "from langchain_core.prompts import ChatPromptTemplate, MessagesPlaceholder\n",
        "from langchain_core.messages import AIMessage, BaseMessage, HumanMessage\n",
        "from langchain_core.runnables import Runnable\n",
        "from langchain_core.tools import BaseTool\n",
        "from langchain_openai import ChatOpenAI\n",
        "\n",
        "from langgraph.graph import END, StateGraph"
      ]
    },
    {
      "cell_type": "markdown",
      "metadata": {
        "id": "qb6Z3EEz-Asi"
      },
      "source": [
        "### Agent Node Helper\n",
        "\n",
        "Since we're going to be wrapping each of our agents into a node - it will help to have an easy way to create the node!"
      ]
    },
    {
      "cell_type": "code",
      "execution_count": 95,
      "metadata": {
        "id": "5IF7KWfS-JKd"
      },
      "outputs": [],
      "source": [
        "def agent_node(state, agent, name):\n",
        "    result = agent.invoke(state)\n",
        "    return {\"messages\": [HumanMessage(content=result[\"output\"], name=name)]}"
      ]
    },
    {
      "cell_type": "markdown",
      "metadata": {
        "id": "fwND2teK-WHm"
      },
      "source": [
        "### Agent Creation Helper Function\n",
        "\n",
        "Since we know we'll need to create agents to populate our agent nodes, let's use a helper function for that as well!\n",
        "\n",
        "Notice a few things:\n",
        "\n",
        "1. We have a standard suffix to append to our system messages for each agent to handle the tool calling and boilerplate prompting.\n",
        "2. Each agent has its our scratchpad.\n",
        "3. We're relying on OpenAI's function-calling API for tool selection\n",
        "4. Each agent is its own executor."
      ]
    },
    {
      "cell_type": "code",
      "execution_count": 96,
      "metadata": {
        "id": "NxLyHJt5-eUx"
      },
      "outputs": [],
      "source": [
        "def create_agent(\n",
        "    llm: ChatOpenAI,\n",
        "    tools: list,\n",
        "    system_prompt: str,\n",
        ") -> str:\n",
        "    \"\"\"Create a function-calling agent and add it to the graph.\"\"\"\n",
        "    system_prompt += (\"\\nWork autonomously according to your specialty, using the tools available to you.\"\n",
        "    \" Do not ask for clarification.\"\n",
        "    \" Your other team members (and other teams) will collaborate with you with their own specialties.\"\n",
        "    \" You are chosen for a reason!\")\n",
        "    prompt = ChatPromptTemplate.from_messages(\n",
        "        [\n",
        "            (\n",
        "                \"system\",\n",
        "                system_prompt,\n",
        "            ),\n",
        "            MessagesPlaceholder(variable_name=\"messages\"),\n",
        "            MessagesPlaceholder(variable_name=\"agent_scratchpad\"),\n",
        "        ]\n",
        "    )\n",
        "    agent = create_openai_functions_agent(llm, tools, prompt)\n",
        "    executor = AgentExecutor(agent=agent, tools=tools)\n",
        "    return executor"
      ]
    },
    {
      "cell_type": "markdown",
      "metadata": {
        "id": "S6kmlR9d-1K5"
      },
      "source": [
        "### Supervisor Helper Function\n",
        "\n",
        "Finally, we need a \"supervisor\" that decides and routes tasks to specific agents.\n",
        "\n",
        "Since each \"team\" will have a collection of potential agents - this \"supervisor\" will act as an \"intelligent\" router to make sure that the right agent is selected for the right task.\n",
        "\n",
        "Notice that, at the end of the day, this \"supervisor\" is simply directing who acts next - or if the state is considered \"done\"."
      ]
    },
    {
      "cell_type": "code",
      "execution_count": 97,
      "metadata": {
        "id": "S2MXA83mrYE2"
      },
      "outputs": [],
      "source": [
        "def create_team_supervisor(llm: ChatOpenAI, system_prompt, members) -> str:\n",
        "    \"\"\"An LLM-based router.\"\"\"\n",
        "    options = [\"FINISH\"] + members\n",
        "    function_def = {\n",
        "        \"name\": \"route\",\n",
        "        \"description\": \"Select the next role.\",\n",
        "        \"parameters\": {\n",
        "            \"title\": \"routeSchema\",\n",
        "            \"type\": \"object\",\n",
        "            \"properties\": {\n",
        "                \"next\": {\n",
        "                    \"title\": \"Next\",\n",
        "                    \"anyOf\": [\n",
        "                        {\"enum\": options},\n",
        "                    ],\n",
        "                },\n",
        "            },\n",
        "            \"required\": [\"next\"],\n",
        "        },\n",
        "    }\n",
        "    prompt = ChatPromptTemplate.from_messages(\n",
        "        [\n",
        "            (\"system\", system_prompt),\n",
        "            MessagesPlaceholder(variable_name=\"messages\"),\n",
        "            (\n",
        "                \"system\",\n",
        "                \"Given the conversation above, who should act next?\"\n",
        "                \" Or should we FINISH? Select one of: {options}\",\n",
        "            ),\n",
        "        ]\n",
        "    ).partial(options=str(options), team_members=\", \".join(members))\n",
        "    return (\n",
        "        prompt\n",
        "        | llm.bind_functions(functions=[function_def], function_call=\"route\")\n",
        "        | JsonOutputFunctionsParser()\n",
        "    )"
      ]
    },
    {
      "cell_type": "markdown",
      "metadata": {
        "id": "jd0zfyq48jKb"
      },
      "source": [
        "## Task 3: Research Team - A LangGraph for Researching Loan Policy\n",
        "\n",
        "Now that we have our RAG chain set-up and some awesome helper functions, we want to create a LangGraph related to researching a specific topic, in this case: Loans!\n",
        "\n",
        "We're going to start by equipping our Research Team with a few tools:\n",
        "\n",
        "1. Tavily Search - aka \"Google\", for the most up to date information possible.\n",
        "2. Our RAG chain - specific and high quality information about our topic.\n",
        "\n",
        "Let's create those tools now!"
      ]
    },
    {
      "cell_type": "markdown",
      "metadata": {
        "id": "VNsVTZrH_alw"
      },
      "source": [
        "### Tool Creation\n",
        "\n",
        "As you can see below, some tools already come pre-packaged ready to use!"
      ]
    },
    {
      "cell_type": "code",
      "execution_count": 98,
      "metadata": {
        "id": "ce7FKTZDgAWG"
      },
      "outputs": [],
      "source": [
        "from langchain_community.tools.tavily_search import TavilySearchResults\n",
        "\n",
        "tavily_tool = TavilySearchResults(max_results=5)"
      ]
    },
    {
      "cell_type": "markdown",
      "metadata": {
        "id": "NIR7cbTL9agM"
      },
      "source": [
        "Creating a custom tool, however, is very straightforward.\n",
        "\n",
        "> NOTE: You *must* include a docstring, as that is what the LLM will consider when deciding when to use this tool."
      ]
    },
    {
      "cell_type": "code",
      "execution_count": 99,
      "metadata": {
        "id": "sSwO2L_UqFhm"
      },
      "outputs": [],
      "source": [
        "from typing import Annotated, List, Tuple, Union\n",
        "from langchain_core.tools import tool\n",
        "\n",
        "@tool\n",
        "def retrieve_information(\n",
        "    query: Annotated[str, \"query to ask the retrieve information tool\"]\n",
        "    ):\n",
        "  \"\"\"Use Retrieval Augmented Generation to retrieve information about student loan policies\"\"\"\n",
        "  return rag_graph.invoke({\"question\" : query})"
      ]
    },
    {
      "cell_type": "markdown",
      "metadata": {
        "id": "nxsMnqjpBTCj"
      },
      "source": [
        "> NOTE: We could just as easily use the LCEL chain directly, since nodes can be LCEL objects - but creating a tool helps explain the tool creation process at the same time."
      ]
    },
    {
      "cell_type": "markdown",
      "metadata": {
        "id": "oDHCajO4_gB2"
      },
      "source": [
        "### Research Team State\n",
        "\n",
        "Since we're using LangGraph - we're going to need state!\n",
        "\n",
        "Let's look at how we've created our state below."
      ]
    },
    {
      "cell_type": "code",
      "execution_count": 100,
      "metadata": {
        "id": "mXminK9d_1fa"
      },
      "outputs": [],
      "source": [
        "import functools\n",
        "import operator\n",
        "\n",
        "from langchain_core.messages import AIMessage, BaseMessage, HumanMessage\n",
        "from langchain_openai.chat_models import ChatOpenAI\n",
        "import functools\n",
        "\n",
        "class ResearchTeamState(TypedDict):\n",
        "    messages: Annotated[List[BaseMessage], operator.add]\n",
        "    team_members: List[str]\n",
        "    next: str"
      ]
    },
    {
      "cell_type": "markdown",
      "metadata": {
        "id": "fvPM5msq_18C"
      },
      "source": [
        "Notice how we've used `messages`, `team_members`, and `next`.\n",
        "\n",
        "These states will help us understand:\n",
        "\n",
        "1. What we've done so far (`messages`)\n",
        "2. Which team members we have access to (`team_members`)\n",
        "3. Which team member is up next! (`next`)"
      ]
    },
    {
      "cell_type": "markdown",
      "metadata": {
        "id": "Mu7B_6qHAFjK"
      },
      "source": [
        "### Research Team LLM\n",
        "\n",
        "We'll be using `gpt-4o-mini` today. This LLM is going to be doing a lot of reasoning - but we also want to keep our costs down, so we'll use a lightweight; but powerful, model!"
      ]
    },
    {
      "cell_type": "code",
      "execution_count": 101,
      "metadata": {
        "id": "dTNqrip8AcKR"
      },
      "outputs": [],
      "source": [
        "llm = ChatOpenAI(model=\"gpt-4o-mini\")"
      ]
    },
    {
      "cell_type": "markdown",
      "metadata": {
        "id": "pfb_VCNKIy9w"
      },
      "source": [
        "##### ❓ Question #1:\n",
        "\n",
        "Why is a \"powerful\" LLM important for this use-case?\n",
        "\n",
        "What tasks must our Agent perform that make it such that the LLM's reasoning capability is a potential limiter?\n",
        "\n",
        "#### ✅ Answer \n",
        "\n",
        "#### 1️⃣ Why is a *“powerful”* LLM important for this use-case?\n",
        "\n",
        "This notebook’s agent has to juggle **several high-complexity subtasks in one pass**:\n",
        "\n",
        "| Phase                       | Cognitive load on the model                                                                                              |\n",
        "| --------------------------- | ------------------------------------------------------------------------------------------------------------------------ |\n",
        "| **Query understanding**     | Parse an often-underspecified user question, spot implicit constraints, normalise it into search terms.                  |\n",
        "| **Planning & tool choice**  | Decide *which* tools to call (vector search, calculator, web search, etc.) and in what order.                            |\n",
        "| **Multi-doc reasoning**     | Read partially relevant chunks, pick the truly salient passages, stitch them into a coherent mental model of the answer. |\n",
        "| **Synthesis & explanation** | Express the result fluently, quote or cite correctly, avoid hallucinations, and stay within length limits.               |\n",
        "\n",
        "Each step demands **multi-hop reasoning, long-context attention, and careful citation discipline**. Smaller or earlier-generation models tend to:\n",
        "\n",
        "* drop key constraints (“July 2024” becomes “2024”),\n",
        "* mis-rank retrieved passages,\n",
        "* hallucinate glue text to fill gaps, or\n",
        "* exceed context limits when many docs are fed back in.\n",
        "\n",
        "A more capable LLM (e.g., GPT-4o or Claude 3 Opus) has the depth and context window to keep all of those moving parts straight, so our overall pipeline succeeds more often without brittle hand-coded heuristics.\n",
        "\n",
        "---\n",
        "\n",
        "#### 2️⃣ What tasks must our Agent perform that make the LLM’s reasoning capability a potential limiter?\n",
        "\n",
        "1. **Dynamic tool selection & sequencing**\n",
        "   *The agent* decides when to search arXiv, when to stop, and when to summarise. Choosing the wrong tool—or invoking them in the wrong order—yields irrelevant or partial answers.\n",
        "\n",
        "2. **Relevance filtering in noisy retrieval results**\n",
        "   Vector search can return tangential chunks. The LLM must read and judge which ones really answer the query. Weak reasoning → irrelevant quotes or wasted context budget.\n",
        "\n",
        "3. **Cross-document synthesis**\n",
        "   Many answers require combining claims from multiple papers (e.g., Method A results + Method B limitations). This is classical multi-hop reasoning; small models stumble here.\n",
        "\n",
        "4. **Implicit constraint satisfaction**\n",
        "   Users rarely spell out every detail (“latest”, “best”, “for undergraduates”). The LLM infers and enforces these constraints while searching and composing the reply.\n",
        "\n",
        "5. **Answer structuring & citation**\n",
        "   It must track which passage supports which claim and format citations accordingly—an executive-function task that taxes less powerful models.\n",
        "\n",
        "6. **Guarding against hallucination & error propagation**\n",
        "   Any mis-step early in the chain grows downstream. A stronger LLM provides better self-consistency checks and is more likely to surface uncertainties (“I couldn’t find evidence for X”).\n",
        "\n",
        "Because these tasks are **reasoning-heavy and interdependent**, the ceiling on your agent’s performance is set largely by the LLM’s reasoning strength. Upgrading the model—or offloading some reasoning to specialised modules—directly raises that ceiling.\n"
      ]
    },
    {
      "cell_type": "markdown",
      "metadata": {
        "id": "ZR_1LuMKAekf"
      },
      "source": [
        "### Research Team Agents & Nodes\n",
        "\n",
        "Now we can use our helper functions to create our agent nodes, with their related tools.\n",
        "\n",
        "Let's start with our search agent node."
      ]
    },
    {
      "cell_type": "markdown",
      "metadata": {
        "id": "uzx6wuPoAlPq"
      },
      "source": [
        "#### Research Team: Search Agent\n",
        "\n",
        "We're going to give our agent access to the Tavily tool, power it with our GPT-4o Mini model, and then create its node - and name it `Search`."
      ]
    },
    {
      "cell_type": "code",
      "execution_count": 102,
      "metadata": {
        "id": "FIlLPxj7Atpj"
      },
      "outputs": [],
      "source": [
        "search_agent = create_agent(\n",
        "    llm,\n",
        "    [tavily_tool],\n",
        "    \"You are a research assistant who can search for up-to-date info using the tavily search engine.\",\n",
        ")\n",
        "search_node = functools.partial(agent_node, agent=search_agent, name=\"Search\")"
      ]
    },
    {
      "cell_type": "markdown",
      "metadata": {
        "id": "emLtesudA9Dd"
      },
      "source": [
        "#### Research Team: RAG Agent Node\n",
        "\n",
        "Now we can wrap our LCEL RAG pipeline in an agent node as well, using the LCEL RAG pipeline as the tool, as created above."
      ]
    },
    {
      "cell_type": "code",
      "execution_count": 103,
      "metadata": {
        "id": "z-nnAG9XA_p7"
      },
      "outputs": [],
      "source": [
        "research_agent = create_agent(\n",
        "    llm,\n",
        "    [retrieve_information],\n",
        "    \"You are a research assistant who can provide specific information on the student loan policies\",\n",
        ")\n",
        "research_node = functools.partial(agent_node, agent=research_agent, name=\"LoanRetriever\")"
      ]
    },
    {
      "cell_type": "markdown",
      "metadata": {
        "id": "dA5z6T1CBeSc"
      },
      "source": [
        "### Research Team Supervisor Agent\n",
        "\n",
        "Notice that we're not yet creating our supervisor *node*, simply the agent here.\n",
        "\n",
        "Also notice how we need to provide a few extra pieces of information - including which tools we're using.\n",
        "\n",
        "> NOTE: It's important to use the *exact* tool name, as that is how the LLM will reference the tool. Also, it's important that your tool name is all a single alphanumeric string!\n",
        "\n"
      ]
    },
    {
      "cell_type": "code",
      "execution_count": 104,
      "metadata": {
        "id": "J0g8CQMBrtFs"
      },
      "outputs": [],
      "source": [
        "supervisor_agent = create_team_supervisor(\n",
        "    llm,\n",
        "    (\"You are a supervisor tasked with managing a conversation between the\"\n",
        "    \" following workers:  Search, LoanRetriever. Given the following user request,\"\n",
        "    \" determine the subject to be researched and respond with the worker to act next. Each worker will perform a\"\n",
        "    \" task and respond with their results and status. \"\n",
        "    \" You should never ask your team to do anything beyond research. They are not required to write content or posts.\"\n",
        "    \" You should only pass tasks to workers that are specifically research focused.\"\n",
        "    \" When finished, respond with FINISH.\"),\n",
        "    [\"Search\", \"LoanRetriever\"],\n",
        ")"
      ]
    },
    {
      "cell_type": "markdown",
      "metadata": {
        "id": "qohn0DcgB_U1"
      },
      "source": [
        "### Research Team Graph Creation\n",
        "\n",
        "Now that we have our research team agent nodes created, and our supervisor agent - let's finally construct our graph!\n",
        "\n",
        "We'll start by creating our base graph from our state, and then adding the nodes/agent we've created as nodes on our LangGraph."
      ]
    },
    {
      "cell_type": "code",
      "execution_count": 105,
      "metadata": {
        "id": "p0s2GAgJCN8G"
      },
      "outputs": [
        {
          "data": {
            "text/plain": [
              "<langgraph.graph.state.StateGraph at 0x7550bbf18850>"
            ]
          },
          "execution_count": 105,
          "metadata": {},
          "output_type": "execute_result"
        }
      ],
      "source": [
        "research_graph = StateGraph(ResearchTeamState)\n",
        "\n",
        "research_graph.add_node(\"Search\", search_node)\n",
        "research_graph.add_node(\"LoanRetriever\", research_node)\n",
        "research_graph.add_node(\"supervisor\", supervisor_agent)"
      ]
    },
    {
      "cell_type": "markdown",
      "metadata": {
        "id": "33qixRGNCaAX"
      },
      "source": [
        "Now we can define our edges - include our conditional edge from our supervisor to our agent nodes.\n",
        "\n",
        "Notice how we're always routing our agent nodes back to our supervisor!"
      ]
    },
    {
      "cell_type": "code",
      "execution_count": 106,
      "metadata": {
        "id": "yYSJIhijsGyg"
      },
      "outputs": [
        {
          "data": {
            "text/plain": [
              "<langgraph.graph.state.StateGraph at 0x7550bbf18850>"
            ]
          },
          "execution_count": 106,
          "metadata": {},
          "output_type": "execute_result"
        }
      ],
      "source": [
        "research_graph.add_edge(\"Search\", \"supervisor\")\n",
        "research_graph.add_edge(\"LoanRetriever\", \"supervisor\")\n",
        "research_graph.add_conditional_edges(\n",
        "    \"supervisor\",\n",
        "    lambda x: x[\"next\"],\n",
        "    {\"Search\": \"Search\", \"LoanRetriever\": \"LoanRetriever\", \"FINISH\": END},\n",
        ")"
      ]
    },
    {
      "cell_type": "markdown",
      "metadata": {
        "id": "hgGcuZzkCj1-"
      },
      "source": [
        "Now we can set our supervisor node as the entry point, and compile our graph!"
      ]
    },
    {
      "cell_type": "code",
      "execution_count": 107,
      "metadata": {
        "id": "1l-1I2Z3CnPX"
      },
      "outputs": [],
      "source": [
        "research_graph.set_entry_point(\"supervisor\")\n",
        "compiled_research_graph = research_graph.compile()"
      ]
    },
    {
      "cell_type": "markdown",
      "metadata": {
        "id": "GDwQpYTSEY13"
      },
      "source": [
        "#### Display Graph"
      ]
    },
    {
      "cell_type": "code",
      "execution_count": 108,
      "metadata": {},
      "outputs": [],
      "source": [
        "import nest_asyncio\n",
        "nest_asyncio.apply()"
      ]
    },
    {
      "cell_type": "code",
      "execution_count": 109,
      "metadata": {
        "colab": {
          "base_uri": "https://localhost:8080/",
          "height": 488
        },
        "id": "l8n6SXhpEa2b",
        "outputId": "6dac5e4e-daed-4d7a-d629-cd83119e7e2c"
      },
      "outputs": [
        {
          "name": "stdout",
          "output_type": "stream",
          "text": [
            "[<MermaidDrawMethod.PYPPETEER: 'pyppeteer'>, <MermaidDrawMethod.API: 'api'>]\n"
          ]
        },
        {
          "data": {
            "image/png": "[encoded data removed]",
            "text/plain": [
              "<IPython.core.display.Image object>"
            ]
          },
          "metadata": {},
          "output_type": "display_data"
        }
      ],
      "source": [
        "\n",
        "import os\n",
        "os.environ[\"PYPPETEER_CHROMIUM_ARGS\"] = \"--no-sandbox\"\n",
        "\n",
        "from IPython.display import Image, display\n",
        "from langchain_core.runnables.graph import CurveStyle, MermaidDrawMethod, NodeStyles\n",
        "from langchain_core.runnables.graph import MermaidDrawMethod\n",
        "print(list(MermaidDrawMethod))\n",
        "\n",
        "display(\n",
        "    Image(\n",
        "        compiled_research_graph.get_graph().draw_mermaid_png(\n",
        "            curve_style=CurveStyle.LINEAR,\n",
        "            node_colors=NodeStyles(first=\"#ffdfba\", last=\"#baffc9\", default=\"#fad7de\"),\n",
        "            wrap_label_n_words=9,\n",
        "            output_file_path=None,\n",
        "            draw_method=MermaidDrawMethod.API,\n",
        "            background_color=\"white\",\n",
        "            padding=10,\n",
        "        )\n",
        "    )\n",
        ")"
      ]
    },
    {
      "cell_type": "markdown",
      "metadata": {
        "id": "bfRvA2QfCqFL"
      },
      "source": [
        "The next part is key - since we need to \"wrap\" our LangGraph in order for it to be compatible in the following steps - let's create an LCEL chain out of it!\n",
        "\n",
        "This allows us to \"broadcast\" messages down to our Research Team LangGraph!"
      ]
    },
    {
      "cell_type": "code",
      "execution_count": 110,
      "metadata": {
        "id": "1G7hmEINCx3i"
      },
      "outputs": [],
      "source": [
        "def enter_chain(message: str):\n",
        "    results = {\n",
        "        \"messages\": [HumanMessage(content=message)],\n",
        "    }\n",
        "    return results\n",
        "\n",
        "research_chain = enter_chain | compiled_research_graph"
      ]
    },
    {
      "cell_type": "markdown",
      "metadata": {
        "id": "EGdoCdXWC7Pi"
      },
      "source": [
        "Now, finally, we can take it for a spin!"
      ]
    },
    {
      "cell_type": "code",
      "execution_count": 111,
      "metadata": {
        "colab": {
          "base_uri": "https://localhost:8080/"
        },
        "id": "xIDpFIg2sRUl",
        "outputId": "bb3803d4-5b32-4b0a-c8a1-1a1917425812"
      },
      "outputs": [
        {
          "name": "stdout",
          "output_type": "stream",
          "text": [
            "{'supervisor': {'next': 'LoanRetriever'}}\n",
            "---\n",
            "{'LoanRetriever': {'messages': [HumanMessage(content=\"I'm unable to provide the specific maximum student loan amount for the year 2025 at this time. This information may not yet be available or could vary based on specific policies that may be implemented. Please consult official sources like the Department of Education or financial aid offices for the most accurate and current information.\", additional_kwargs={}, response_metadata={}, name='LoanRetriever')]}}\n",
            "---\n",
            "{'supervisor': {'next': 'Search'}}\n",
            "---\n",
            "{'Search': {'messages': [HumanMessage(content='In 2025, the maximum federal student loan limits are structured as follows:\\n\\n### Annual Loan Limits:\\n- **Dependent Undergraduates:**\\n  - First Year: $5,500 (max $3,500 subsidized)\\n  - Second Year: $6,500 (max $4,500 subsidized)\\n  - Third Year and Beyond: $7,500 (max $5,500 subsidized)\\n\\n- **Independent Undergraduates:**\\n  - First Year: $9,500 (max $3,500 subsidized)\\n  - Second Year: $10,500 (max $4,500 subsidized)\\n  - Third Year and Beyond: $12,500 (max $5,500 subsidized)\\n\\n### Aggregate Loan Limits:\\n- **Dependent Undergraduates:** $31,000 (max $23,000 subsidized)\\n- **Independent Undergraduates:** $57,500 (max $23,000 subsidized)\\n- **Graduate and Professional Students:** $138,500 (max $65,500 subsidized)\\n\\n### Other Loan Limits:\\n- **Parent PLUS Loan:** $20,000 per year, with a total cap of $65,000.\\n- **Graduate Students:** $20,500 per year, with a total limit of $100,000 (not including previous undergraduate debt).\\n- **Professional School Students (e.g., medical, law):** Generally capped at $50,000 per year with a total limit of $200,000.\\n\\nThese limits may vary based on individual circumstances and specific policies implemented by the Department of Education. For the most accurate information, refer to [Federal Student Aid](https://fsapartners.ed.gov/knowledge-center/fsa-handbook/2025-2026) or official sources.', additional_kwargs={}, response_metadata={}, name='Search')]}}\n",
            "---\n",
            "{'supervisor': {'next': 'FINISH'}}\n",
            "---\n"
          ]
        }
      ],
      "source": [
        "for s in research_chain.stream(\n",
        "    \"What is the maximum student loan in 2025?\", {\"recursion_limit\": 100}\n",
        "):\n",
        "    if \"__end__\" not in s:\n",
        "        print(s)\n",
        "        print(\"---\")"
      ]
    },
    {
      "cell_type": "markdown",
      "metadata": {
        "id": "DHAgsbwIIhwj"
      },
      "source": [
        "##### 🏗️ Activity #2:\n",
        "\n",
        "Using whatever drawing application you wish - please label the flow above on a diagram of your graph.\n",
        "\n"
      ]
    },
    {
      "cell_type": "code",
      "execution_count": 132,
      "metadata": {},
      "outputs": [
        {
          "data": {
            "image/png": "[encoded data removed]",
            "text/plain": [
              "<Figure size 640x480 with 1 Axes>"
            ]
          },
          "metadata": {},
          "output_type": "display_data"
        }
      ],
      "source": [
        "import networkx as nx\n",
        "import matplotlib.pyplot as plt\n",
        "\n",
        "G = nx.DiGraph()\n",
        "\n",
        "G.add_edge(\"START\", \"supervisor\")\n",
        "G.add_edge(\"supervisor\", \"LoanRetriever\", label=\"next\")\n",
        "G.add_edge(\"LoanRetriever\", \"supervisor\",  label=\"return\")\n",
        "G.add_edge(\"supervisor\", \"Search\",        label=\"next\")\n",
        "G.add_edge(\"Search\", \"supervisor\",        label=\"return\")\n",
        "G.add_edge(\"supervisor\", \"FINISH\",        label=\"next\")\n",
        "\n",
        "pos = nx.spring_layout(G, seed=42)              # or nx.shell_layout …\n",
        "edge_labels = nx.get_edge_attributes(G, \"label\")\n",
        "\n",
        "nx.draw(G, pos, with_labels=True,\n",
        "        node_shape=\"s\", node_color=\"lightblue\",\n",
        "        arrows=True, arrowstyle=\"->\", arrowsize=12)\n",
        "nx.draw_networkx_edge_labels(G, pos, edge_labels=edge_labels)\n",
        "\n",
        "plt.axis(\"off\")\n",
        "plt.show()"
      ]
    },
    {
      "cell_type": "markdown",
      "metadata": {
        "id": "eH70eHGlJbq4"
      },
      "source": [
        "##### ❓ Question #2:\n",
        "\n",
        "How could you make sure your Agent uses specific tools that you wish it to use? Are there any ways to concretely set a flow through tools?\n",
        "\n",
        "#### ✅ Answer\n",
        "\n",
        "We “lock” an agent’s behaviour by giving it *only* the tools we want and, when order matters, wiring those tools into a fixed LangGraph / LCEL pipeline instead of letting the agent plan freely.\n",
        "\n",
        "---\n",
        "\n",
        "## Concept & How (it works in practice)\n",
        "\n",
        "| Goal                                 | What to do                                                                                                                                                                                                                              | Why it works                                                                                                                   |                                                                                              |\n",
        "| ------------------------------------ | --------------------------------------------------------------------------------------------------------------------------------------------------------------------------------------------------------------------------------------- | ------------------------------------------------------------------------------------------------------------------------------ | -------------------------------------------------------------------------------------------- |\n",
        "| **Guarantee *which* tools are used** | 1. **Register only those tools** when you build the agent:<br>`llm.bind_tools([tool_a, tool_b])` or `AgentExecutor(..., tools=[...])`<br>2. Optionally reinforce with a short system rule (“You must use exactly one tool every turn”). | Function-calling / tools-agent models are limited to the list you provide; anything unregistered is invisible.                 |                                                                                              |\n",
        "| **Guarantee *order* of tools**       | Build a **deterministic flow** (LangGraph or \\`tool\\_a                                                                                                                                                                                  | tool\\_b\\`) where each tool sits in its own node/pipe. The agent then reasons *inside* a node, but the graph dictates sequence. | The graph engine calls nodes in the order you define; the agent cannot skip or reorder them. |\n",
        "| **Detect or block misuse**           | Wrap the agent in a guard: if it returns `\"tool\": <unwanted>`, raise an error or retry with a stricter prompt.                                                                                                                          | Adds a last-resort safety net when absolute enforcement is critical.                                                           |                                                                                              |\n",
        "\n",
        "---\n",
        "\n",
        "## Worked example – fixed *Search → Summarise* flow\n",
        "\n",
        "```python\n",
        "from langchain.tools import Tool\n",
        "from langchain_openai import ChatOpenAI\n",
        "from langchain.agents import AgentExecutor\n",
        "from langgraph.graph import StateGraph\n",
        "\n",
        "# 1) Define the only two tools allowed\n",
        "search_tool = Tool.from_function(\n",
        "    name=\"search_web\",\n",
        "    func=lambda q: my_search_api(q),           # your impl here\n",
        "    description=\"Web search; returns raw passages.\"\n",
        ")\n",
        "summarise_tool = Tool.from_function(\n",
        "    name=\"summarise\",\n",
        "    func=lambda txt: my_llm_summariser(txt),   # your impl here\n",
        "    description=\"Condense long text.\"\n",
        ")\n",
        "\n",
        "# 2) Create an LLM bound *only* to those tools\n",
        "llm = ChatOpenAI(model=\"gpt-4o\").bind_tools([search_tool, summarise_tool])\n",
        "agent = AgentExecutor(agent=llm, tools=[search_tool, summarise_tool])\n",
        "\n",
        "# 3) Build a LangGraph with a hard-coded sequence\n",
        "def node_search(state):\n",
        "    docs = agent.invoke({\"input\": state[\"question\"], \"tool\": \"search_web\"})\n",
        "    return {\"docs\": docs}\n",
        "\n",
        "def node_summarise(state):\n",
        "    answer = agent.invoke({\"input\": state[\"docs\"], \"tool\": \"summarise\"})\n",
        "    return {\"answer\": answer}\n",
        "\n",
        "graph = StateGraph(dict)\n",
        "graph.add_node(\"Search\", node_search)\n",
        "graph.add_node(\"Summarise\", node_summarise)\n",
        "graph.add_edge(\"Search\", \"Summarise\")   # fixed order\n",
        "graph.set_entry_point(\"Search\")\n",
        "\n",
        "result = graph.compile().invoke({\"question\": \"Latest loan limits for 2025?\"})\n",
        "print(result[\"answer\"])\n",
        "```\n",
        "\n",
        "*Outcome*: the agent **must** call `search_web` first and `summarise` second; there is no path to any other tool or order, so the behaviour is guaranteed.\n"
      ]
    },
    {
      "cell_type": "markdown",
      "metadata": {
        "id": "iktcBorGXmAW"
      },
      "source": [
        "# 🤝 BREAKOUT ROOM #2"
      ]
    },
    {
      "cell_type": "markdown",
      "metadata": {
        "id": "ejsHCZZ2EmwM"
      },
      "source": [
        "## Task 4: Document Writing Team - A LangGraph for Planning, Writing, and Editing a Formal Complaint Response.\n",
        "\n",
        "Let's run it all back, this time specifically creating tools, agent nodes, and a graph for Planning, Writing, and Editing a Formal Complaint Response!"
      ]
    },
    {
      "cell_type": "markdown",
      "metadata": {},
      "source": [
        "#### Previous Complaint Data\n",
        "\n",
        "Let's add a retriever for [previous complaint data](./data/complaints.csv) here!\n",
        "\n",
        "This will allow our response writing team reference previous responses!"
      ]
    },
    {
      "cell_type": "code",
      "execution_count": 112,
      "metadata": {},
      "outputs": [
        {
          "data": {
            "text/plain": [
              "Document(metadata={'source': 'data/complaints.csv', 'row': 0}, page_content=\"Consumer complaint narrative: The federal student loan COVID-19 forbearance program ended in XX/XX/XXXX. However, payments were not re-amortized on my federal student loans currently serviced by Nelnet until very recently. The new payment amount that is effective starting with the XX/XX/XXXX payment will nearly double my payment from {$180.00} per month to {$360.00} per month. I'm fortunate that my current financial position allows me to be able to handle the increased payment amount, but I am sure there are likely many borrowers who are not in the same position. The re-amortization should have occurred once the forbearance ended to reduce the impact to borrowers.\\nCompany public response: None\\nCompany response to consumer: Closed with explanation\")"
            ]
          },
          "execution_count": 112,
          "metadata": {},
          "output_type": "execute_result"
        }
      ],
      "source": [
        "from langchain_community.document_loaders import CSVLoader\n",
        "\n",
        "complaint_loader = CSVLoader(\"data/complaints.csv\", content_columns=[\"Consumer complaint narrative\", \"Company public response\", \"Company response to consumer\"])\n",
        "complaints = complaint_loader.load()\n",
        "complaints[0]"
      ]
    },
    {
      "cell_type": "code",
      "execution_count": 113,
      "metadata": {},
      "outputs": [],
      "source": [
        "qdrant_complaint_vectorstore = Qdrant.from_documents(\n",
        "    documents=complaints,\n",
        "    embedding=embedding_model,\n",
        "    location=\":memory:\"\n",
        ")"
      ]
    },
    {
      "cell_type": "code",
      "execution_count": 114,
      "metadata": {},
      "outputs": [],
      "source": [
        "qdrant_complaint_retriever = qdrant_complaint_vectorstore.as_retriever()"
      ]
    },
    {
      "cell_type": "markdown",
      "metadata": {
        "id": "4awQtZ-oFUN-"
      },
      "source": [
        "### Tool Creation\n",
        "\n",
        "Let's create some tools that will help us understand, open, work with, and edit documents to our liking!"
      ]
    },
    {
      "cell_type": "code",
      "execution_count": 115,
      "metadata": {
        "id": "ptXilgparOkq"
      },
      "outputs": [],
      "source": [
        "from pathlib import Path\n",
        "from tempfile import TemporaryDirectory\n",
        "from typing import Dict, Optional\n",
        "from typing_extensions import TypedDict\n",
        "import uuid\n",
        "import os\n",
        "\n",
        "os.makedirs('./content/data', exist_ok=True)\n",
        "\n",
        "def create_random_subdirectory():\n",
        "    random_id = str(uuid.uuid4())[:8]  # Use first 8 characters of a UUID\n",
        "    subdirectory_path = os.path.join('./content/data', random_id)\n",
        "    os.makedirs(subdirectory_path, exist_ok=True)\n",
        "    return subdirectory_path\n",
        "\n",
        "WORKING_DIRECTORY = Path(create_random_subdirectory())\n",
        "\n",
        "@tool\n",
        "def create_outline(\n",
        "    points: Annotated[List[str], \"List of main points or sections.\"],\n",
        "    file_name: Annotated[str, \"File path to save the outline.\"],\n",
        ") -> Annotated[str, \"Path of the saved outline file.\"]:\n",
        "    \"\"\"Create and save an outline.\"\"\"\n",
        "    with (WORKING_DIRECTORY / file_name).open(\"w\") as file:\n",
        "        for i, point in enumerate(points):\n",
        "            file.write(f\"{i + 1}. {point}\\n\")\n",
        "    return f\"Outline saved to {file_name}\"\n",
        "\n",
        "\n",
        "@tool\n",
        "def read_document(\n",
        "    file_name: Annotated[str, \"File path to save the document.\"],\n",
        "    start: Annotated[Optional[int], \"The start line. Default is 0\"] = None,\n",
        "    end: Annotated[Optional[int], \"The end line. Default is None\"] = None,\n",
        ") -> str:\n",
        "    \"\"\"Read the specified document.\"\"\"\n",
        "    with (WORKING_DIRECTORY / file_name).open(\"r\") as file:\n",
        "        lines = file.readlines()\n",
        "    if start is not None:\n",
        "        start = 0\n",
        "    return \"\\n\".join(lines[start:end])\n",
        "\n",
        "@tool\n",
        "def write_document(\n",
        "    content: Annotated[str, \"Text content to be written into the document.\"],\n",
        "    file_name: Annotated[str, \"File path to save the document.\"],\n",
        ") -> Annotated[str, \"Path of the saved document file.\"]:\n",
        "    \"\"\"Create and save a text document.\"\"\"\n",
        "    with (WORKING_DIRECTORY / file_name).open(\"w\") as file:\n",
        "        file.write(content)\n",
        "    return f\"Document saved to {file_name}\"\n",
        "\n",
        "### Previous Complaint Data\n",
        "@tool \n",
        "def reference_previous_responses(\n",
        "    query: Annotated[str, \"The query to search for in the previous responses.\"],\n",
        ") -> Annotated[str, \"The previous responses that match the query.\"]:\n",
        "    \"\"\"Search for previous responses that match the query.\"\"\"\n",
        "    return qdrant_complaint_retriever.invoke(query)\n",
        "\n",
        "\n",
        "@tool\n",
        "def edit_document(\n",
        "    file_name: Annotated[str, \"Path of the document to be edited.\"],\n",
        "    inserts: Annotated[\n",
        "        Dict[int, str],\n",
        "        \"Dictionary where key is the line number (1-indexed) and value is the text to be inserted at that line.\",\n",
        "    ] = {},\n",
        ") -> Annotated[str, \"Path of the edited document file.\"]:\n",
        "    \"\"\"Edit a document by inserting text at specific line numbers.\"\"\"\n",
        "\n",
        "    with (WORKING_DIRECTORY / file_name).open(\"r\") as file:\n",
        "        lines = file.readlines()\n",
        "\n",
        "    sorted_inserts = sorted(inserts.items())\n",
        "\n",
        "    for line_number, text in sorted_inserts:\n",
        "        if 1 <= line_number <= len(lines) + 1:\n",
        "            lines.insert(line_number - 1, text + \"\\n\")\n",
        "        else:\n",
        "            return f\"Error: Line number {line_number} is out of range.\"\n",
        "\n",
        "    with (WORKING_DIRECTORY / file_name).open(\"w\") as file:\n",
        "        file.writelines(lines)\n",
        "\n",
        "    return f\"Document edited and saved to {file_name}\""
      ]
    },
    {
      "cell_type": "markdown",
      "metadata": {
        "id": "n8yH1IAYK7nL"
      },
      "source": [
        "##### 🏗️ Activity #3:\n",
        "\n",
        "Describe, briefly, what each of these tools is doing in your own words.\n",
        "\n",
        "#### ✅ Answer\n",
        "\n",
        "\n",
        "* **create\\_outline** – takes a list of bullet points and saves them as a numbered outline in a new text file.\n",
        "* **read\\_document** – opens a stored file and returns the text (optionally just a slice of lines).\n",
        "* **write\\_document** – writes whatever text you give it into a fresh file.\n",
        "* **reference\\_previous\\_responses** – searches past chatbot answers and brings back any that match your query.\n",
        "* **edit\\_document** – inserts extra lines at specific positions inside an existing file and saves the updated version.\n"
      ]
    },
    {
      "cell_type": "markdown",
      "metadata": {
        "id": "__Jw_XBIFwwa"
      },
      "source": [
        "### Document Writing State\n",
        "\n",
        "Just like with our Research Team state - we want to keep track of a few things, however this time - we also want to keep track of which files we've created - so let's add that here!"
      ]
    },
    {
      "cell_type": "code",
      "execution_count": 116,
      "metadata": {
        "id": "DoU2YwJRu7wD"
      },
      "outputs": [],
      "source": [
        "import operator\n",
        "from pathlib import Path\n",
        "\n",
        "class DocWritingState(TypedDict):\n",
        "    messages: Annotated[List[BaseMessage], operator.add]\n",
        "    team_members: str\n",
        "    next: str\n",
        "    current_files: str"
      ]
    },
    {
      "cell_type": "markdown",
      "metadata": {
        "id": "4p1kQShmGHCh"
      },
      "source": [
        "### Document Writing Prelude Function\n",
        "\n",
        "Since we have a working directory - we want to be clear about what our current working directory looks like - this helper function will allow us to do that cleanly!"
      ]
    },
    {
      "cell_type": "code",
      "execution_count": 117,
      "metadata": {
        "id": "G79mUggQGLVq"
      },
      "outputs": [],
      "source": [
        "def prelude(state):\n",
        "    written_files = []\n",
        "    if not WORKING_DIRECTORY.exists():\n",
        "        WORKING_DIRECTORY.mkdir()\n",
        "    try:\n",
        "        written_files = [\n",
        "            f.relative_to(WORKING_DIRECTORY) for f in WORKING_DIRECTORY.rglob(\"*\")\n",
        "        ]\n",
        "    except:\n",
        "        pass\n",
        "    if not written_files:\n",
        "        return {**state, \"current_files\": \"No files written.\"}\n",
        "    return {\n",
        "        **state,\n",
        "        \"current_files\": \"\\nBelow are files your team has written to the directory:\\n\"\n",
        "        + \"\\n\".join([f\" - {f}\" for f in written_files]),\n",
        "    }"
      ]
    },
    {
      "cell_type": "markdown",
      "metadata": {
        "id": "wbSre9agT9Gb"
      },
      "source": [
        "### Document Writing Node Creation\n",
        "\n"
      ]
    },
    {
      "cell_type": "code",
      "execution_count": 118,
      "metadata": {
        "id": "v7oso327T_wa"
      },
      "outputs": [],
      "source": [
        "doc_writer_agent = create_agent(\n",
        "    llm,\n",
        "    [write_document, edit_document, read_document],\n",
        "    (\"You are an expert writing customer assistance responses.\\n\"\n",
        "    \"Below are files currently in your directory:\\n{current_files}\"),\n",
        ")\n",
        "context_aware_doc_writer_agent = prelude | doc_writer_agent\n",
        "doc_writing_node = functools.partial(\n",
        "    agent_node, agent=context_aware_doc_writer_agent, name=\"DocWriter\"\n",
        ")\n",
        "\n",
        "note_taking_agent = create_agent(\n",
        "    llm,\n",
        "    [create_outline, read_document, reference_previous_responses],\n",
        "    (\"You are an expert senior researcher tasked with writing a customer assistance outline and\"\n",
        "    \" taking notes to craft a customer assistance response.\\n{current_files}\"),\n",
        ")\n",
        "context_aware_note_taking_agent = prelude | note_taking_agent\n",
        "note_taking_node = functools.partial(\n",
        "    agent_node, agent=context_aware_note_taking_agent, name=\"NoteTaker\"\n",
        ")\n",
        "\n",
        "copy_editor_agent = create_agent(\n",
        "    llm,\n",
        "    [write_document, edit_document, read_document],\n",
        "    (\"You are an expert copy editor who focuses on fixing grammar, spelling, and tone issues\\n\"\n",
        "    \"Below are files currently in your directory:\\n{current_files}\"),\n",
        ")\n",
        "context_aware_copy_editor_agent = prelude | copy_editor_agent\n",
        "copy_editing_node = functools.partial(\n",
        "    agent_node, agent=context_aware_copy_editor_agent, name=\"CopyEditor\"\n",
        ")\n",
        "\n",
        "empathy_editor_agent = create_agent(\n",
        "    llm,\n",
        "    [write_document, edit_document, read_document],\n",
        "    (\"You are an expert in empathy, compassion, and understanding - you edit the document to make sure it's empathetic and compassionate.\"\n",
        "    \"Below are files currently in your directory:\\n{current_files}\"),\n",
        ")\n",
        "empathy_editor_agent = prelude | empathy_editor_agent\n",
        "empathy_node = functools.partial(\n",
        "    agent_node, agent=empathy_editor_agent, name=\"EmpathyEditor\"\n",
        ")\n",
        "\n",
        "doc_writing_supervisor = create_team_supervisor(\n",
        "    llm,\n",
        "    (\"You are a supervisor tasked with managing a conversation between the\"\n",
        "    \" following workers: {team_members}. You should always verify the technical\"\n",
        "    \" contents after any edits are made. \"\n",
        "    \"Given the following user request,\"\n",
        "    \" respond with the worker to act next. Each worker will perform a\"\n",
        "    \" task and respond with their results and status. When each team is finished,\"\n",
        "    \" you must respond with FINISH.\"),\n",
        "    [\"DocWriter\", \"NoteTaker\", \"EmpathyEditor\", \"CopyEditor\"],\n",
        ")"
      ]
    },
    {
      "cell_type": "markdown",
      "metadata": {
        "id": "AUiNMpJBGXN0"
      },
      "source": [
        "### Document Writing Team LangGraph Construction\n",
        "\n",
        "This part is almost exactly the same (with a few extra nodes) as our Research Team LangGraph construction - so we'll leave it as one block!"
      ]
    },
    {
      "cell_type": "code",
      "execution_count": 119,
      "metadata": {
        "id": "Q6n8A1ytxVTv"
      },
      "outputs": [],
      "source": [
        "authoring_graph = StateGraph(DocWritingState)\n",
        "authoring_graph.add_node(\"DocWriter\", doc_writing_node)\n",
        "authoring_graph.add_node(\"NoteTaker\", note_taking_node)\n",
        "authoring_graph.add_node(\"CopyEditor\", copy_editing_node)\n",
        "authoring_graph.add_node(\"EmpathyEditor\", empathy_node)\n",
        "authoring_graph.add_node(\"supervisor\", doc_writing_supervisor)\n",
        "\n",
        "authoring_graph.add_edge(\"DocWriter\", \"supervisor\")\n",
        "authoring_graph.add_edge(\"NoteTaker\", \"supervisor\")\n",
        "authoring_graph.add_edge(\"CopyEditor\", \"supervisor\")\n",
        "authoring_graph.add_edge(\"EmpathyEditor\", \"supervisor\")\n",
        "\n",
        "authoring_graph.add_conditional_edges(\n",
        "    \"supervisor\",\n",
        "    lambda x: x[\"next\"],\n",
        "    {\n",
        "        \"DocWriter\": \"DocWriter\",\n",
        "        \"NoteTaker\": \"NoteTaker\",\n",
        "        \"CopyEditor\" : \"CopyEditor\",\n",
        "        \"EmpathyEditor\" : \"EmpathyEditor\",\n",
        "        \"FINISH\": END,\n",
        "    },\n",
        ")\n",
        "\n",
        "authoring_graph.set_entry_point(\"supervisor\")\n",
        "compiled_authoring_graph = authoring_graph.compile()"
      ]
    },
    {
      "cell_type": "markdown",
      "metadata": {
        "id": "Zx-EKGkHKUBO"
      },
      "source": [
        "#### Display Graph"
      ]
    },
    {
      "cell_type": "code",
      "execution_count": 120,
      "metadata": {
        "colab": {
          "base_uri": "https://localhost:8080/",
          "height": 488
        },
        "id": "AZdOb3GZKSM7",
        "outputId": "6b64588d-5568-4234-d062-4dc83ea9abec"
      },
      "outputs": [
        {
          "data": {
            "image/png": "[encoded data removed]",
            "text/plain": [
              "<IPython.core.display.Image object>"
            ]
          },
          "metadata": {},
          "output_type": "display_data"
        }
      ],
      "source": [
        "from IPython.display import Image, display\n",
        "\n",
        "display(\n",
        "    Image(\n",
        "        compiled_authoring_graph.get_graph().draw_mermaid_png(\n",
        "            curve_style=CurveStyle.LINEAR,\n",
        "            node_colors=NodeStyles(first=\"#ffdfba\", last=\"#baffc9\", default=\"#fad7de\"),\n",
        "            wrap_label_n_words=9,\n",
        "            output_file_path=None,\n",
        "            draw_method=MermaidDrawMethod.API,\n",
        "            background_color=\"white\",\n",
        "            padding=10,\n",
        "        )\n",
        "    )\n",
        ")"
      ]
    },
    {
      "cell_type": "markdown",
      "metadata": {
        "id": "yB_rOw1hGpwd"
      },
      "source": [
        "Just as before - we'll need to create an \"interface\" between the level above, and our graph."
      ]
    },
    {
      "cell_type": "code",
      "execution_count": 121,
      "metadata": {
        "id": "G-RbbCKoG_nt"
      },
      "outputs": [],
      "source": [
        "def enter_chain(message: str, members: List[str]):\n",
        "    results = {\n",
        "        \"messages\": [HumanMessage(content=message)],\n",
        "        \"team_members\": \", \".join(members),\n",
        "    }\n",
        "    return results\n",
        "\n",
        "authoring_chain = (\n",
        "    functools.partial(enter_chain, members=authoring_graph.nodes)\n",
        "    | authoring_graph.compile()\n",
        ")"
      ]
    },
    {
      "cell_type": "markdown",
      "metadata": {
        "id": "GgyhpTrRNgQd"
      },
      "source": [
        "Now we can test this out!\n",
        "\n",
        "> NOTE: It is possible you may see an error here - rerun the cell to clear."
      ]
    },
    {
      "cell_type": "code",
      "execution_count": 122,
      "metadata": {
        "colab": {
          "base_uri": "https://localhost:8080/"
        },
        "id": "IWUxv4XDx3kg",
        "outputId": "62ee7d3d-31ba-4348-b852-7fd96f6875ff"
      },
      "outputs": [
        {
          "name": "stdout",
          "output_type": "stream",
          "text": [
            "{'supervisor': {'next': 'DocWriter'}}\n",
            "---\n",
            "{'DocWriter': {'messages': [HumanMessage(content='I have written a customer assistance response regarding the positioning of student loans as they relate to low-income students. The document is saved as \"student_loans_low_income_students_response.txt\". If you need any further assistance or modifications, just let me know!', additional_kwargs={}, response_metadata={}, name='DocWriter')]}}\n",
            "---\n",
            "{'supervisor': {'next': 'NoteTaker'}}\n",
            "---\n",
            "{'NoteTaker': {'messages': [HumanMessage(content='**Customer Assistance Response on Student Loans for Low-Income Students**\\n\\n---\\n\\n**Subject:** Important Information on Student Loans for Low-Income Students\\n\\nDear [Customer Name],\\n\\nThank you for reaching out to us regarding student loans and their implications for low-income students. We understand that financing education can be a significant concern for many, and we are here to help you navigate this process.\\n\\nStudent loans can play a vital role in making education more accessible to low-income students. They provide the necessary funds to cover tuition and other college expenses, allowing students to pursue their academic goals without immediate financial burden. Here are some key points to consider:\\n\\n1. **Types of Student Loans:** \\n   - There are federal and private student loans available. Federal loans typically offer lower interest rates and more flexible repayment options, making them a preferable choice for low-income students.\\n\\n2. **Subsidized Loans:** \\n   - If you qualify based on financial need, you might be eligible for subsidized federal loans, meaning the government covers the interest while you’re in school, significantly reducing your future financial burden.\\n\\n3. **Income-Driven Repayment Plans:** \\n   - After graduation, federal loans offer income-driven repayment plans that adjust monthly payments based on your income, ensuring that repayment remains manageable.\\n\\n4. **Loan Forgiveness Programs:** \\n   - Some federal programs offer loan forgiveness for those who pursue careers in public service or qualifying fields. This can be an excellent opportunity for graduates in low-income sectors to alleviate their student debt significantly.\\n\\n5. **Free Financial Aid Resources:** \\n   - We encourage all students to explore scholarships and grants in addition to loans, as many organizations provide funding specifically aimed at supporting low-income students. \\n\\nIf you have any further questions about the specific loans available to you or how to apply, please do not hesitate to reach out. We are committed to ensuring that you have all the information you need to make informed decisions about your education financing.\\n\\nBest regards,\\n\\n[Your Name]  \\n[Your Position]  \\n[Your Company]  \\n[Contact Information]', additional_kwargs={}, response_metadata={}, name='NoteTaker')]}}\n",
            "---\n",
            "{'supervisor': {'next': 'CopyEditor'}}\n",
            "---\n",
            "{'CopyEditor': {'messages': [HumanMessage(content='The customer assistance response regarding student loans for low-income students has been formatted and saved as \"student_loans_low_income_students_response.txt\". If you need any further edits or additions, feel free to let me know!', additional_kwargs={}, response_metadata={}, name='CopyEditor')]}}\n",
            "---\n",
            "{'supervisor': {'next': 'EmpathyEditor'}}\n",
            "---\n",
            "{'EmpathyEditor': {'messages': [HumanMessage(content='The customer assistance response regarding student loans for low-income students has been empathetically edited and saved as \"student_loans_low_income_students_response.txt.\" If you need any further changes or assistance, feel free to let me know!', additional_kwargs={}, response_metadata={}, name='EmpathyEditor')]}}\n",
            "---\n",
            "{'supervisor': {'next': 'FINISH'}}\n",
            "---\n"
          ]
        }
      ],
      "source": [
        "for s in authoring_chain.stream(\n",
        "    \"Write a customer assistance response on the positioning of Student Loans as it relates to low income students.\",\n",
        "    {\"recursion_limit\": 100},\n",
        "):\n",
        "    if \"__end__\" not in s:\n",
        "        print(s)\n",
        "        print(\"---\")"
      ]
    },
    {
      "cell_type": "markdown",
      "metadata": {
        "id": "zpW2R9SUHGUq"
      },
      "source": [
        "## Task 5: Meta-Supervisor and Full Graph\n",
        "\n",
        "Finally, now that we have our two LangGraph agents (some of which are already multi-agent), we can build a supervisor that sits above all of them!\n",
        "\n",
        "The final process, surprisingly, is quite straight forward!\n",
        "\n",
        "Let's jump in!\n",
        "\n",
        "First off - we'll need to create our supervisor agent node."
      ]
    },
    {
      "cell_type": "code",
      "execution_count": 123,
      "metadata": {
        "id": "wkpxeUf9ygKp"
      },
      "outputs": [],
      "source": [
        "from langchain_core.messages import AIMessage, BaseMessage, HumanMessage\n",
        "from langchain_openai.chat_models import ChatOpenAI\n",
        "\n",
        "llm = ChatOpenAI(model=\"gpt-4o-mini\")\n",
        "\n",
        "supervisor_node = create_team_supervisor(\n",
        "    llm,\n",
        "    \"You are a supervisor tasked with managing a conversation between the\"\n",
        "    \" following teams: {team_members}. Given the following user request,\"\n",
        "    \" respond with the worker to act next. Each worker will perform a\"\n",
        "    \" task and respond with their results and status. When all workers are finished,\"\n",
        "    \" you must respond with FINISH.\",\n",
        "    [\"Research team\", \"Response team\"],\n",
        ")"
      ]
    },
    {
      "cell_type": "markdown",
      "metadata": {
        "id": "hUvOh_xWIKig"
      },
      "source": [
        "We'll also create our new state - as well as some methods to help us navigate the new state and the subgraphs.\n",
        "\n",
        "> NOTE: We only pass the most recent message from the parent graph to the subgraph, and we only extract the most recent message from the subgraph to include in the state of the parent graph."
      ]
    },
    {
      "cell_type": "code",
      "execution_count": 124,
      "metadata": {
        "id": "O7HJ8MF0yh_i"
      },
      "outputs": [],
      "source": [
        "class State(TypedDict):\n",
        "    messages: Annotated[List[BaseMessage], operator.add]\n",
        "    next: str\n",
        "\n",
        "def get_last_message(state: State) -> str:\n",
        "    return state[\"messages\"][-1].content\n",
        "\n",
        "def join_graph(response: dict):\n",
        "    return {\"messages\": [response[\"messages\"][-1]]}"
      ]
    },
    {
      "cell_type": "markdown",
      "metadata": {
        "id": "B5RHao1sIanG"
      },
      "source": [
        "Next, we'll create our base graph.\n",
        "\n",
        "Notice how each node we're adding is *AN ENTIRE LANGGRAPH AGENT* (wrapped into an LCEL chain with our helper functions above)."
      ]
    },
    {
      "cell_type": "code",
      "execution_count": 125,
      "metadata": {
        "id": "PfCWABCMIaFy"
      },
      "outputs": [
        {
          "data": {
            "text/plain": [
              "<langgraph.graph.state.StateGraph at 0x75505a676810>"
            ]
          },
          "execution_count": 125,
          "metadata": {},
          "output_type": "execute_result"
        }
      ],
      "source": [
        "super_graph = StateGraph(State)\n",
        "\n",
        "super_graph.add_node(\"Research team\", get_last_message | research_chain | join_graph)\n",
        "super_graph.add_node(\"Response team\", get_last_message | authoring_chain | join_graph)\n",
        "super_graph.add_node(\"supervisor\", supervisor_node)"
      ]
    },
    {
      "cell_type": "markdown",
      "metadata": {
        "id": "dpwpUXMtI62E"
      },
      "source": [
        "Next, we'll create our edges!\n",
        "\n",
        "This process is completely idenctical to what we've seen before - just addressing the LangGraph subgraph nodes instead of individual nodes."
      ]
    },
    {
      "cell_type": "code",
      "execution_count": 126,
      "metadata": {
        "id": "tLtjRuUYI-fx"
      },
      "outputs": [],
      "source": [
        "super_graph.add_edge(\"Research team\", \"supervisor\")\n",
        "super_graph.add_edge(\"Response team\", \"supervisor\")\n",
        "super_graph.add_conditional_edges(\n",
        "    \"supervisor\",\n",
        "    lambda x: x[\"next\"],\n",
        "    {\n",
        "        \"Response team\": \"Response team\",\n",
        "        \"Research team\": \"Research team\",\n",
        "        \"FINISH\": END,\n",
        "    },\n",
        ")\n",
        "super_graph.set_entry_point(\"supervisor\")\n",
        "compiled_super_graph = super_graph.compile()"
      ]
    },
    {
      "cell_type": "markdown",
      "metadata": {
        "id": "K1KMfFqgJKw8"
      },
      "source": [
        "That's it!\n",
        "\n",
        "Now we can finally use our full agent!"
      ]
    },
    {
      "cell_type": "code",
      "execution_count": 127,
      "metadata": {
        "colab": {
          "base_uri": "https://localhost:8080/"
        },
        "id": "3M6wUDR-yk8s",
        "outputId": "056fe89e-5a81-4852-f0cb-35367da8cef0"
      },
      "outputs": [
        {
          "name": "stdout",
          "output_type": "stream",
          "text": [
            "{'supervisor': {'next': 'Research team'}}\n",
            "---\n",
            "{'Research team': {'messages': [HumanMessage(content=\"**Customer Assistance Response Regarding Student Loans for Low-Income Students**\\n\\nDear [Customer's Name],\\n\\nThank you for reaching out to us regarding student loans and how they impact low-income students. Navigating the world of student loans can be challenging, especially for those with limited financial resources. We want to ensure you have all the information you need.\\n\\n### Overview of Student Loans for Low-Income Students\\n\\nIn the U.S., the federal student loan system offers two primary types of loans: subsidized and unsubsidized. **Subsidized loans** are particularly advantageous for low-income students. These loans are need-based, meaning interest does not accrue while you are enrolled at least half-time in school, during the grace period, or during deferment periods. This significantly reduces the financial burden for students who may be working to cover living expenses while studying.\\n\\n#### Income-Based Repayment Options\\n\\nFor borrowers facing financial challenges, Income-Based Repayment (IBR) plans can be an excellent option. IBR adjusts monthly payments based on income, ensuring that payments remain manageable. After a specified period—usually 20 to 25 years—any remaining direct loans may be eligible for forgiveness. However, it's vital to understand that forgiven amounts may be taxed as income in the year they are discharged.\\n\\n#### Annual Loan Limits\\n\\nWhen considering student loans, it’s crucial to be aware of annual borrowing limits, which vary based on your year in school and dependency status. For example:\\n- **Dependent first-year undergraduates** can borrow up to $5,500, with $3,500 being eligible for subsidized loans.\\n- **Independent first-year undergraduates** may secure up to $9,500 total, with $3,500 of that being eligible for subsidized loans.\\n\\nUnderstanding these limits is vital when planning your financing strategy, especially for low-income families.\\n\\n### Navigating the Application Process\\n\\nIf you are a low-income student or from a family facing financial difficulties, we encourage you to apply for federal student aid. Completing the Free Application for Federal Student Aid (FAFSA) is the first step in determining your eligibility for loans, grants, and work-study programs. \\n\\n### Conclusion\\n\\nWe understand that financial barriers can create significant stress, and our goal is to help you find the best possible solutions tailored to your needs. Key policies, such as diverse loan options and income-contingent repayment plans, can further support students with different financial backgrounds by reducing repayment risks and increasing access to higher education. Please do not hesitate to reach out with any more questions or for further assistance regarding your specific circumstances.\\n\\nThank you for allowing us to assist you in this important matter.\\n\\nBest regards,\\n\\n[Your Name]  \\n[Your Title]  \\n[Your Company]  \\n[Contact Information]  \\n\\n---\\n\\n### Next Steps\\n- Please review this response for accuracy and tone.\\n- Ensure final copy editing is done for clarity and professionalism.\\n- Save this document for future reference.\", additional_kwargs={}, response_metadata={}, name='LoanRetriever')]}}\n",
            "---\n",
            "{'supervisor': {'next': 'Research team'}}\n",
            "---\n",
            "{'Research team': {'messages': [HumanMessage(content='The information available does not explicitly detail policies specifically aimed at low-income students, subsidized loans, income-based repayment options, teacher loan forgiveness programs, or the FAFSA application process. However, I can summarize the main points regarding these aspects based on my training.\\n\\n### Summary of Student Loan Policies for Low-Income Students\\n\\n1. **Subsidized Loans**: These are need-based federal loans where interest does not accrue while you are enrolled at least half-time in school. They are beneficial for low-income students aiming to minimize their financial burden.\\n\\n2. **Income-Based Repayment Plans**: IBR adjusts monthly payments based on income and family size, making repayments more manageable for those under financial strain. After 20 to 25 years of qualifying payments, any remaining balance may be forgiven, although forgiven amounts may be taxable.\\n\\n3. **Teacher Loan Forgiveness**: This program offers forgiveness up to $17,500 for teachers who work in low-income schools for five consecutive years, further providing targeted financial relief for educators.\\n\\n4. **Annual Loan Limits**: Borrowing limits vary based on dependency status and year in school, crucial for budgeting. For example, first-year dependent undergraduates can borrow up to $5,500 total, with $3,500 eligible for subsidized loans.\\n\\n5. **FAFSA Application Process**: Completing the Free Application for Federal Student Aid is essential for determining eligibility for federal aid, including loans and grants. It is recommended for low-income students to apply to maximize available financial assistance.\\n\\nPlease let me know if you would like more detailed information on any specific area or aspect of student loans.', additional_kwargs={}, response_metadata={}, name='LoanRetriever')]}}\n",
            "---\n",
            "{'supervisor': {'next': 'Response team'}}\n",
            "---\n",
            "{'Response team': {'messages': [HumanMessage(content='The outline summarizing the main points regarding student loan policies for low-income students has been edited to reflect a more empathetic and compassionate tone. It has been saved as \"Student_Loan_Policies_Low_Income_Students_Outline_Empathetic.\" If you need further adjustments or additional details, please feel free to let me know!', additional_kwargs={}, response_metadata={}, name='CopyEditor')]}}\n",
            "---\n",
            "{'supervisor': {'next': 'FINISH'}}\n",
            "---\n"
          ]
        }
      ],
      "source": [
        "WORKING_DIRECTORY = Path(create_random_subdirectory())\n",
        "\n",
        "for s in compiled_super_graph.stream(\n",
        "    {\n",
        "        \"messages\": [\n",
        "            HumanMessage(\n",
        "                content=\"Write a customer assistance response on the positioning of Student Loans as it relates to low income students. First consult the research team. Then make sure you consult the response team, and check for copy editing and dopeness, and write the file to disk.\"\n",
        "            )\n",
        "        ],\n",
        "    },\n",
        "    {\"recursion_limit\": 30},\n",
        "):\n",
        "    if \"__end__\" not in s:\n",
        "        print(s)\n",
        "        print(\"---\")"
      ]
    },
    {
      "cell_type": "markdown",
      "metadata": {
        "id": "PuZAvSlJJpPP"
      },
      "source": [
        "## SAMPLE POST!"
      ]
    },
    {
      "cell_type": "markdown",
      "metadata": {
        "id": "lOEMCrXTJaxW"
      },
      "source": [
        "**Subject: Assistance Regarding Student Loans for Low-Income Students**\n",
        "\n",
        "Dear [Customer's Name],\n",
        "\n",
        "Thank you for reaching out regarding student loans and their implications for low-income students. We understand that navigating the financial aid landscape can be daunting, and we’re here to provide guidance and support.\n",
        "\n",
        "Student loans are instrumental in granting low-income students access to higher education, especially when scholarships and grants may fall short of covering the full cost of attendance. The federal student loan program presents various options designed to make borrowing more manageable for those in need.\n",
        "\n",
        "**1. Understanding Loan Types:**\n",
        "   - **Subsidized Loans**: These loans are available to undergraduate students who demonstrate financial need. The government covers the interest while the borrower is enrolled at least half-time, which can significantly alleviate the overall debt burden upon graduation.\n",
        "   - **Unsubsidized Loans**: Accessible to both undergraduate and graduate students, these loans do not require a demonstration of financial need. However, interest starts accruing from the moment the loan is disbursed.\n",
        "\n",
        "**2. Income-Based Repayment Options:**\n",
        "For low-income borrowers, Income-Based Repayment (IBR) plans can be especially advantageous. These plans ensure that monthly payments are based on income and family size, which helps keep payments manageable. Additionally, after 20-25 years of qualifying payments, any remaining loan balance may be eligible for forgiveness. \n",
        "\n",
        "**3. Key Benefits:**\n",
        "   - **Lower Payments**: IBR plans decrease the monthly payment amount, making it easier for low-income students to manage their loans successfully.\n",
        "   - **Forgiveness Opportunities**: Those who pursue careers in public service may qualify for further loan forgiveness options.\n",
        "\n",
        "**4. The Importance of Financial Aid Awareness:**\n",
        "It is vital for low-income students to be aware of their options concerning financial aid and student loans. We recommend that students and families familiarize themselves with the array of resources available, such as [Federal Student Aid](https://studentaid.gov), which provides comprehensive information on eligibility and application processes.\n",
        "\n",
        "If you need further assistance or have specific questions, please don’t hesitate to reach out. Our goal is to ensure that every student can pursue their educational aspirations without the fear of overwhelming debt.\n",
        "\n",
        "Best regards,\n",
        "\n",
        "[Your Name]  \n",
        "[Your Position]  \n",
        "[Your Contact Information]  \n",
        "[Your Organization]"
      ]
    }
  ],
  "metadata": {
    "colab": {
      "provenance": []
    },
    "kernelspec": {
      "display_name": ".venv",
      "language": "python",
      "name": "python3"
    },
    "language_info": {
      "codemirror_mode": {
        "name": "ipython",
        "version": 3
      },
      "file_extension": ".py",
      "mimetype": "text/x-python",
      "name": "python",
      "nbconvert_exporter": "python",
      "pygments_lexer": "ipython3",
      "version": "3.11.13"
    }
  },
  "nbformat": 4,
  "nbformat_minor": 0
}
