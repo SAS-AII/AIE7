{
  "cells": [
    {
      "cell_type": "markdown",
      "metadata": {
        "id": "gJXW_DgiSebM"
      },
      "source": [
        "# LangGraph and LangSmith - Agentic RAG Powered by LangChain\n",
        "\n",
        "In the following notebook we'll complete the following tasks:\n",
        "\n",
        "- 🤝 Breakout Room #1:\n",
        "  1. Install required libraries\n",
        "  2. Set Environment Variables\n",
        "  3. Creating our Tool Belt\n",
        "  4. Creating Our State\n",
        "  5. Creating and Compiling A Graph!\n",
        "\n",
        "- 🤝 Breakout Room #2:\n",
        "  1. Evaluating the LangGraph Application with LangSmith\n",
        "  2. Adding Helpfulness Check and \"Loop\" Limits\n",
        "  3. LangGraph for the \"Patterns\" of GenAI"
      ]
    },
    {
      "cell_type": "markdown",
      "metadata": {
        "id": "djQ3nRAgoF67"
      },
      "source": [
        "# 🤝 Breakout Room #1"
      ]
    },
    {
      "cell_type": "markdown",
      "metadata": {
        "id": "e7pQDUhUnIo8"
      },
      "source": [
        "## Part 1: LangGraph - Building Cyclic Applications with LangChain\n",
        "\n",
        "LangGraph is a tool that leverages LangChain Expression Language to build coordinated multi-actor and stateful applications that includes cyclic behaviour.\n",
        "\n",
        "### Why Cycles?\n",
        "\n",
        "In essence, we can think of a cycle in our graph as a more robust and customizable loop. It allows us to keep our application agent-forward while still giving the powerful functionality of traditional loops.\n",
        "\n",
        "Due to the inclusion of cycles over loops, we can also compose rather complex flows through our graph in a much more readable and natural fashion. Effectively allowing us to recreate application flowcharts in code in an almost 1-to-1 fashion.\n",
        "\n",
        "### Why LangGraph?\n",
        "\n",
        "Beyond the agent-forward approach - we can easily compose and combine traditional \"DAG\" (directed acyclic graph) chains with powerful cyclic behaviour due to the tight integration with LCEL. This means it's a natural extension to LangChain's core offerings!"
      ]
    },
    {
      "cell_type": "markdown",
      "metadata": {
        "id": "3_fLDElOVoop"
      },
      "source": [
        "## Task 1:  Dependencies\n"
      ]
    },
    {
      "cell_type": "markdown",
      "metadata": {
        "id": "wujPjGJuoPwg"
      },
      "source": [
        "## Task 2: Environment Variables\n",
        "\n",
        "We'll want to set both our OpenAI API key and our LangSmith environment variables."
      ]
    },
    {
      "cell_type": "code",
      "execution_count": 63,
      "metadata": {
        "colab": {
          "base_uri": "https://localhost:8080/"
        },
        "id": "Jdh8CoVWHRvs",
        "outputId": "3fa78560-393c-4ee5-b871-9886bf0d70f4"
      },
      "outputs": [],
      "source": [
        "import os\n",
        "import getpass\n",
        "\n",
        "os.environ[\"OPENAI_API_KEY\"] = getpass.getpass(\"OpenAI API Key:\")"
      ]
    },
    {
      "cell_type": "code",
      "execution_count": 64,
      "metadata": {
        "colab": {
          "base_uri": "https://localhost:8080/"
        },
        "id": "Jkla2fpx28QK",
        "outputId": "52d7ad22-fcb1-4abe-853b-216c55a12650"
      },
      "outputs": [],
      "source": [
        "os.environ[\"TAVILY_API_KEY\"] = getpass.getpass(\"TAVILY_API_KEY\")"
      ]
    },
    {
      "cell_type": "code",
      "execution_count": 65,
      "metadata": {
        "colab": {
          "base_uri": "https://localhost:8080/"
        },
        "id": "Nv0glIDyHmRt",
        "outputId": "b69df90a-b4e1-4ddb-9de0-882d98b68ab2"
      },
      "outputs": [],
      "source": [
        "from uuid import uuid4\n",
        "\n",
        "os.environ[\"LANGCHAIN_TRACING_V2\"] = \"true\"\n",
        "os.environ[\"LANGCHAIN_PROJECT\"] = f\"AIE7 - LangGraph - {uuid4().hex[0:8]}\"\n",
        "os.environ[\"LANGCHAIN_API_KEY\"] = getpass.getpass(\"LangSmith API Key: \")"
      ]
    },
    {
      "cell_type": "markdown",
      "metadata": {
        "id": "sBRyQmEAVzua"
      },
      "source": [
        "## Task 3: Creating our Tool Belt\n",
        "\n",
        "As is usually the case, we'll want to equip our agent with a toolbelt to help answer questions and add external knowledge.\n",
        "\n",
        "There's a tonne of tools in the [LangChain Community Repo](https://github.com/langchain-ai/langchain-community/tree/main/libs/community) but we'll stick to a couple just so we can observe the cyclic nature of LangGraph in action!\n",
        "\n",
        "We'll leverage:\n",
        "\n",
        "- [Tavily Search Results](https://github.com/langchain-ai/langchain-community/blob/main/libs/community/langchain_community/tools/tavily_search/tool.py)\n",
        "- [Arxiv](https://github.com/langchain-ai/langchain-community/blob/main/libs/community/langchain_community/tools/arxiv/tool.py)"
      ]
    },
    {
      "cell_type": "markdown",
      "metadata": {
        "id": "2k6n_Dob2F46"
      },
      "source": [
        "#### 🏗️ Activity #1:\n",
        "\n",
        "Please add the tools to use into our toolbelt.\n",
        "\n",
        "> NOTE: Each tool in our toolbelt should be a method."
      ]
    },
    {
      "cell_type": "code",
      "execution_count": 66,
      "metadata": {
        "id": "lAxaSvlfIeOg"
      },
      "outputs": [],
      "source": [
        "from langchain_community.tools.tavily_search import TavilySearchResults\n",
        "from langchain_community.tools.arxiv.tool import ArxivQueryRun\n",
        "\n",
        "tavily_tool = TavilySearchResults(max_results=5)\n",
        "\n",
        "tool_belt = [\n",
        "    tavily_tool,  # For general web search\n",
        "    ArxivQueryRun(), # For academic paper search\n",
        "]"
      ]
    },
    {
      "cell_type": "markdown",
      "metadata": {
        "id": "VI-C669ZYVI5"
      },
      "source": [
        "### Model\n",
        "\n",
        "Now we can set-up our model! We'll leverage the familiar OpenAI model suite for this example - but it's not *necessary* to use with LangGraph. LangGraph supports all models - though you might not find success with smaller models - as such, they recommend you stick with:\n",
        "\n",
        "- OpenAI's GPT-3.5 and GPT-4\n",
        "- Anthropic's Claude\n",
        "- Google's Gemini\n",
        "\n",
        "> NOTE: Because we're leveraging the OpenAI function calling API - we'll need to use OpenAI *for this specific example* (or any other service that exposes an OpenAI-style function calling API."
      ]
    },
    {
      "cell_type": "code",
      "execution_count": 67,
      "metadata": {
        "id": "QkNS8rNZJs4z"
      },
      "outputs": [],
      "source": [
        "from langchain_openai import ChatOpenAI\n",
        "\n",
        "model = ChatOpenAI(model=\"gpt-4.1-nano\", temperature=0)"
      ]
    },
    {
      "cell_type": "markdown",
      "metadata": {
        "id": "Ugkj3GzuZpQv"
      },
      "source": [
        "Now that we have our model set-up, let's \"put on the tool belt\", which is to say: We'll bind our LangChain formatted tools to the model in an OpenAI function calling format."
      ]
    },
    {
      "cell_type": "code",
      "execution_count": 68,
      "metadata": {
        "id": "4OdMqFafZ_0V"
      },
      "outputs": [],
      "source": [
        "model = model.bind_tools(tool_belt)"
      ]
    },
    {
      "cell_type": "markdown",
      "metadata": {
        "id": "ERzuGo6W18Lr"
      },
      "source": [
        "#### ❓ Question #1:\n",
        "\n",
        "How does the model determine which tool to use?\n",
        "\n",
        "#### ✅ Answer \n",
        "\n",
        "Calling `model = model.bind_tools(tool_belt)`, LangGraph (via LangChain/OpenAI’s function‐calling API) injects into the model’s context a list of “functions” (i.e. tools), each with:\n",
        "\n",
        "1. **A name** (e.g. `\"tavily_search\"`)\n",
        "2. **A description** of what it does\n",
        "3. **A JSON schema** for its arguments\n",
        "\n",
        "Then, when the model processes your user’s query, it “decides” whether it needs a tool by reasoning over that list of functions. In practice:\n",
        "\n",
        "* **Semantic matching**: The model compares your request against each tool’s description.\n",
        "* **Function‐calling tokens**: If it determines a tool is needed, it emits a special `{\"name\": \"...\", \"arguments\": { … }}` JSON payload instead of plain text.\n",
        "* **Highest‐probability choice**: At temperature 0 (as we set), it deterministically picks the tool whose description best matches the intent.\n",
        "\n",
        "Under the hood this all happens in the LLM’s next‐token prediction: function‐calling is just another set of allowable token sequences. Whichever tool’s “name” and argument‐structure tokens score highest given the prompt + tool definitions is the one that gets output—and thus invoked.\n"
      ]
    },
    {
      "cell_type": "markdown",
      "metadata": {
        "id": "_296Ub96Z_H8"
      },
      "source": [
        "## Task 4: Putting the State in Stateful\n",
        "\n",
        "Earlier we used this phrasing:\n",
        "\n",
        "`coordinated multi-actor and stateful applications`\n",
        "\n",
        "So what does that \"stateful\" mean?\n",
        "\n",
        "To put it simply - we want to have some kind of object which we can pass around our application that holds information about what the current situation (state) is. Since our system will be constructed of many parts moving in a coordinated fashion - we want to be able to ensure we have some commonly understood idea of that state.\n",
        "\n",
        "LangGraph leverages a `StatefulGraph` which uses an `AgentState` object to pass information between the various nodes of the graph.\n",
        "\n",
        "There are more options than what we'll see below - but this `AgentState` object is one that is stored in a `TypedDict` with the key `messages` and the value is a `Sequence` of `BaseMessages` that will be appended to whenever the state changes.\n",
        "\n",
        "Let's think about a simple example to help understand exactly what this means (we'll simplify a great deal to try and clearly communicate what state is doing):\n",
        "\n",
        "1. We initialize our state object:\n",
        "  - `{\"messages\" : []}`\n",
        "2. Our user submits a query to our application.\n",
        "  - New State: `HumanMessage(#1)`\n",
        "  - `{\"messages\" : [HumanMessage(#1)}`\n",
        "3. We pass our state object to an Agent node which is able to read the current state. It will use the last `HumanMessage` as input. It gets some kind of output which it will add to the state.\n",
        "  - New State: `AgentMessage(#1, additional_kwargs {\"function_call\" : \"WebSearchTool\"})`\n",
        "  - `{\"messages\" : [HumanMessage(#1), AgentMessage(#1, ...)]}`\n",
        "4. We pass our state object to a \"conditional node\" (more on this later) which reads the last state to determine if we need to use a tool - which it can determine properly because of our provided object!"
      ]
    },
    {
      "cell_type": "code",
      "execution_count": 69,
      "metadata": {
        "id": "mxL9b_NZKUdL"
      },
      "outputs": [],
      "source": [
        "from typing import TypedDict, Annotated\n",
        "from langgraph.graph.message import add_messages\n",
        "import operator\n",
        "from langchain_core.messages import BaseMessage\n",
        "\n",
        "class AgentState(TypedDict):\n",
        "  messages: Annotated[list, add_messages]"
      ]
    },
    {
      "cell_type": "markdown",
      "metadata": {
        "id": "vWsMhfO9grLu"
      },
      "source": [
        "## Task 5: It's Graphing Time!\n",
        "\n",
        "Now that we have state, and we have tools, and we have an LLM - we can finally start making our graph!\n",
        "\n",
        "Let's take a second to refresh ourselves about what a graph is in this context.\n",
        "\n",
        "Graphs, also called networks in some circles, are a collection of connected objects.\n",
        "\n",
        "The objects in question are typically called nodes, or vertices, and the connections are called edges.\n",
        "\n",
        "Let's look at a simple graph.\n",
        "\n",
        "![image](https://i.imgur.com/2NFLnIc.png)\n",
        "\n",
        "Here, we're using the coloured circles to represent the nodes and the yellow lines to represent the edges. In this case, we're looking at a fully connected graph - where each node is connected by an edge to each other node.\n",
        "\n",
        "If we were to think about nodes in the context of LangGraph - we would think of a function, or an LCEL runnable.\n",
        "\n",
        "If we were to think about edges in the context of LangGraph - we might think of them as \"paths to take\" or \"where to pass our state object next\".\n",
        "\n",
        "Let's create some nodes and expand on our diagram.\n",
        "\n",
        "> NOTE: Due to the tight integration with LCEL - we can comfortably create our nodes in an async fashion!"
      ]
    },
    {
      "cell_type": "code",
      "execution_count": 70,
      "metadata": {
        "id": "91flJWtZLUrl"
      },
      "outputs": [],
      "source": [
        "from langgraph.prebuilt import ToolNode\n",
        "\n",
        "def call_model(state):\n",
        "  messages = state[\"messages\"]\n",
        "  response = model.invoke(messages)\n",
        "  return {\"messages\" : [response]}\n",
        "\n",
        "tool_node = ToolNode(tool_belt)"
      ]
    },
    {
      "cell_type": "markdown",
      "metadata": {
        "id": "2bwR7MgWj3Wg"
      },
      "source": [
        "Now we have two total nodes. We have:\n",
        "\n",
        "- `call_model` is a node that will...well...call the model\n",
        "- `tool_node` is a node which can call a tool\n",
        "\n",
        "Let's start adding nodes! We'll update our diagram along the way to keep track of what this looks like!\n"
      ]
    },
    {
      "cell_type": "code",
      "execution_count": 71,
      "metadata": {
        "colab": {
          "base_uri": "https://localhost:8080/"
        },
        "id": "_vF4_lgtmQNo",
        "outputId": "a4384377-8f7a-415f-be1b-fee6169cb101"
      },
      "outputs": [
        {
          "data": {
            "text/plain": [
              "<langgraph.graph.state.StateGraph at 0x7fe0a024c180>"
            ]
          },
          "execution_count": 71,
          "metadata": {},
          "output_type": "execute_result"
        }
      ],
      "source": [
        "from langgraph.graph import StateGraph, END\n",
        "\n",
        "uncompiled_graph = StateGraph(AgentState)\n",
        "\n",
        "uncompiled_graph.add_node(\"agent\", call_model)\n",
        "uncompiled_graph.add_node(\"action\", tool_node)"
      ]
    },
    {
      "cell_type": "markdown",
      "metadata": {
        "id": "b8CjRlbVmRpW"
      },
      "source": [
        "Let's look at what we have so far:\n",
        "\n",
        "![image](https://i.imgur.com/md7inqG.png)"
      ]
    },
    {
      "cell_type": "markdown",
      "metadata": {
        "id": "uaXHpPeSnOWC"
      },
      "source": [
        "Next, we'll add our entrypoint. All our entrypoint does is indicate which node is called first."
      ]
    },
    {
      "cell_type": "code",
      "execution_count": 72,
      "metadata": {
        "colab": {
          "base_uri": "https://localhost:8080/"
        },
        "id": "YGCbaYqRnmiw",
        "outputId": "5351807c-2ac7-4316-a3a3-878abeacd114"
      },
      "outputs": [
        {
          "data": {
            "text/plain": [
              "<langgraph.graph.state.StateGraph at 0x7fe0a024c180>"
            ]
          },
          "execution_count": 72,
          "metadata": {},
          "output_type": "execute_result"
        }
      ],
      "source": [
        "uncompiled_graph.set_entry_point(\"agent\")"
      ]
    },
    {
      "cell_type": "markdown",
      "metadata": {
        "id": "BUsfGoSpoF9U"
      },
      "source": [
        "![image](https://i.imgur.com/wNixpJe.png)"
      ]
    },
    {
      "cell_type": "markdown",
      "metadata": {
        "id": "0Q_pQgHmoW0M"
      },
      "source": [
        "Now we want to build a \"conditional edge\" which will use the output state of a node to determine which path to follow.\n",
        "\n",
        "We can help conceptualize this by thinking of our conditional edge as a conditional in a flowchart!\n",
        "\n",
        "Notice how our function simply checks if there is a \"function_call\" kwarg present.\n",
        "\n",
        "Then we create an edge where the origin node is our agent node and our destination node is *either* the action node or the END (finish the graph).\n",
        "\n",
        "It's important to highlight that the dictionary passed in as the third parameter (the mapping) should be created with the possible outputs of our conditional function in mind. In this case `should_continue` outputs either `\"end\"` or `\"continue\"` which are subsequently mapped to the action node or the END node."
      ]
    },
    {
      "cell_type": "code",
      "execution_count": 73,
      "metadata": {
        "colab": {
          "base_uri": "https://localhost:8080/"
        },
        "id": "1BZgb81VQf9o",
        "outputId": "73a07c15-5f0b-40f2-b033-38b57d056dd8"
      },
      "outputs": [
        {
          "data": {
            "text/plain": [
              "<langgraph.graph.state.StateGraph at 0x7fe0a024c180>"
            ]
          },
          "execution_count": 73,
          "metadata": {},
          "output_type": "execute_result"
        }
      ],
      "source": [
        "def should_continue(state):\n",
        "  last_message = state[\"messages\"][-1]\n",
        "\n",
        "  if last_message.tool_calls:\n",
        "    return \"action\"\n",
        "\n",
        "  return END\n",
        "\n",
        "uncompiled_graph.add_conditional_edges(\n",
        "    \"agent\",\n",
        "    should_continue\n",
        ")"
      ]
    },
    {
      "cell_type": "markdown",
      "metadata": {
        "id": "-Cvhcf4jp0Ce"
      },
      "source": [
        "Let's visualize what this looks like.\n",
        "\n",
        "![image](https://i.imgur.com/8ZNwKI5.png)"
      ]
    },
    {
      "cell_type": "markdown",
      "metadata": {
        "id": "yKCjWJCkrJb9"
      },
      "source": [
        "Finally, we can add our last edge which will connect our action node to our agent node. This is because we *always* want our action node (which is used to call our tools) to return its output to our agent!"
      ]
    },
    {
      "cell_type": "code",
      "execution_count": 74,
      "metadata": {
        "colab": {
          "base_uri": "https://localhost:8080/"
        },
        "id": "UvcgbHf1rIXZ",
        "outputId": "45d4bdd6-d6bb-4a1d-bb79-cad43c130bf2"
      },
      "outputs": [
        {
          "data": {
            "text/plain": [
              "<langgraph.graph.state.StateGraph at 0x7fe0a024c180>"
            ]
          },
          "execution_count": 74,
          "metadata": {},
          "output_type": "execute_result"
        }
      ],
      "source": [
        "uncompiled_graph.add_edge(\"action\", \"agent\")"
      ]
    },
    {
      "cell_type": "markdown",
      "metadata": {
        "id": "EiWDwBQtrw7Z"
      },
      "source": [
        "Let's look at the final visualization.\n",
        "\n",
        "![image](https://i.imgur.com/NWO7usO.png)"
      ]
    },
    {
      "cell_type": "markdown",
      "metadata": {
        "id": "KYqDpErlsCsu"
      },
      "source": [
        "All that's left to do now is to compile our workflow - and we're off!"
      ]
    },
    {
      "cell_type": "code",
      "execution_count": 75,
      "metadata": {
        "id": "zt9-KS8DpzNx"
      },
      "outputs": [],
      "source": [
        "simple_agent_graph = uncompiled_graph.compile()"
      ]
    },
    {
      "cell_type": "markdown",
      "metadata": {
        "id": "xhNWIwBL1W4Q"
      },
      "source": [
        "#### ❓ Question #2:\n",
        "\n",
        "Is there any specific limit to how many times we can cycle?\n",
        "\n",
        "If not, how could we impose a limit to the number of cycles?\n",
        "\n",
        "#### ✅ Answer \n",
        "\n",
        "LangGraph does enforce a cycle (“recursion”) limit on your graph to prevent infinite loops. If we never explicitly set one, it will use its built-in default of 25 super-steps—once that’s hit without reaching your END node, you’ll get a `langgraph.errors.GraphRecursionError: Recursion limit of 25 reached without hitting a stop condition.`\n",
        "\n",
        "\n",
        "### 🔍 Imposing a custom cycle limit\n",
        "\n",
        "There are two common ways to override or tighten that limit:\n",
        "\n",
        "1. **Overriding** the recursion limit via config\n",
        "2. **Manual** in-state counter to enforce your own cycle cap\n",
        "\n",
        "\n",
        "### 1) Overriding via `recursion_limit` in config\n",
        "\n",
        "```python\n",
        "# Same graph, but allow up to 100 steps instead of 25\n",
        "result = graph.invoke(\n",
        "    {\"count\": 0},\n",
        "    {\"recursion_limit\": 100}   # override the default cap\n",
        ")\n",
        "print(result)\n",
        "```\n",
        "\n",
        "By passing a top-level `{\"recursion_limit\": N}` to `invoke`, you raise (or lower) the maximum number of super-steps before a `GraphRecursionError` is thrown.\n",
        "\n",
        "---\n",
        "\n",
        "### 2) Manual in-state counter for custom cycle limits\n",
        "\n",
        "```python\n",
        "from typing import TypedDict\n",
        "from langgraph.graph import StateGraph, START, END\n",
        "\n",
        "# Extend the state with our own loop budget\n",
        "class ManualState(TypedDict):\n",
        "    count: int\n",
        "    remaining_loops: int\n",
        "\n",
        "def start_node(state: ManualState) -> ManualState:\n",
        "    \"\"\"Initialize count and remaining_loops.\"\"\"\n",
        "    return {\"count\": 0, \"remaining_loops\": state[\"remaining_loops\"]}\n",
        "\n",
        "def inc_node(state: ManualState) -> ManualState:\n",
        "    \"\"\"Increment count and decrement remaining_loops.\"\"\"\n",
        "    state[\"count\"] += 1\n",
        "    state[\"remaining_loops\"] -= 1\n",
        "    return state\n",
        "\n",
        "def decide_manual(state: ManualState):\n",
        "    \"\"\"Stop when our own budget runs out.\"\"\"\n",
        "    if state[\"remaining_loops\"] <= 0:\n",
        "        return END\n",
        "    return \"inc\"\n",
        "\n",
        "# Build a second graph that stops after N cycles\n",
        "g2 = StateGraph(ManualState)\n",
        "g2.add_node(\"start\", start_node)\n",
        "g2.add_node(\"inc\", inc_node)\n",
        "g2.add_node(\"decide\", decide_manual)\n",
        "\n",
        "g2.add_edge(START, \"start\")\n",
        "g2.add_edge(\"start\", \"inc\")\n",
        "g2.add_edge(\"inc\", \"decide\")\n",
        "g2.add_edge(\"decide\", \"inc\")\n",
        "g2.add_edge(\"decide\", END)\n",
        "\n",
        "# Invoke with a budget of 5 loops\n",
        "final_state = g2.invoke({\"remaining_loops\": 5})\n",
        "print(final_state)\n",
        "# -> {'count': 5, 'remaining_loops': 0}\n",
        "```\n",
        "\n",
        "This pattern embeds your own counter in the graph state, so you can precisely control and inspect how many cycles are allowed without relying on the global recursion limit.\n",
        "\n"
      ]
    },
    {
      "cell_type": "markdown",
      "metadata": {
        "id": "VEYcTShCsPaa"
      },
      "source": [
        "## Using Our Graph\n",
        "\n",
        "Now that we've created and compiled our graph - we can call it *just as we'd call any other* `Runnable`!\n",
        "\n",
        "Let's try out a few examples to see how it fairs:"
      ]
    },
    {
      "cell_type": "code",
      "execution_count": 76,
      "metadata": {
        "colab": {
          "base_uri": "https://localhost:8080/"
        },
        "id": "Qn4n37PQRPII",
        "outputId": "5eeedfae-089d-496e-e71f-071939fa5832"
      },
      "outputs": [
        {
          "name": "stdout",
          "output_type": "stream",
          "text": [
            "Receiving update from node: 'agent'\n",
            "[AIMessage(content='', additional_kwargs={'tool_calls': [{'id': 'call_c614NQuKrffTaPBeiHU4SKGJ', 'function': {'arguments': '{\"query\":\"current captain of the Winnipeg Jets\"}', 'name': 'tavily_search_results_json'}, 'type': 'function'}], 'refusal': None}, response_metadata={'token_usage': {'completion_tokens': 23, 'prompt_tokens': 162, 'total_tokens': 185, 'completion_tokens_details': {'accepted_prediction_tokens': 0, 'audio_tokens': 0, 'reasoning_tokens': 0, 'rejected_prediction_tokens': 0}, 'prompt_tokens_details': {'audio_tokens': 0, 'cached_tokens': 0}}, 'model_name': 'gpt-4.1-nano-2025-04-14', 'system_fingerprint': None, 'id': 'chatcmpl-BtF7jvaWjelVmFmQprP5f2bArvnNf', 'service_tier': 'default', 'finish_reason': 'tool_calls', 'logprobs': None}, id='run--9173519e-12cf-413a-ae84-c703658140c0-0', tool_calls=[{'name': 'tavily_search_results_json', 'args': {'query': 'current captain of the Winnipeg Jets'}, 'id': 'call_c614NQuKrffTaPBeiHU4SKGJ', 'type': 'tool_call'}], usage_metadata={'input_tokens': 162, 'output_tokens': 23, 'total_tokens': 185, 'input_token_details': {'audio': 0, 'cache_read': 0}, 'output_token_details': {'audio': 0, 'reasoning': 0}})]\n",
            "\n",
            "\n",
            "\n",
            "Receiving update from node: 'action'\n",
            "[ToolMessage(content='[{\"title\": \"Adam Lowry - Wikipedia\", \"url\": \"https://en.wikipedia.org/wiki/Adam_Lowry\", \"content\": \"| Awards and achievements | | |\\\\n| --- | --- | --- |\\\\n| Preceded by Stefan Elliott | Winner of the Daryl K. (Doc) Seaman Trophy_Seaman_Trophy \\\\\"Daryl K. (Doc) Seaman Trophy\\\\\")  2010 | Succeeded by Colin Smith \\\\\"Colin Smith (ice hockey)\\\\\") |\\\\n| Sporting positions | | |\\\\n| Preceded by Blake Wheeler | Winnipeg Jets captain  2023–present | Incumbent | [...] Adam Lowry (born March 29, 1993) is an American-born Canadian professional ice hockey centre \\\\\"Center (ice hockey)\\\\\") and  captain \\\\\"Captain (ice hockey)\\\\\") of the Winnipeg Jets of the National Hockey League (NHL).\\\\n\\\\n## Early life [...] Entering the 2023–24 season, Lowry was named captain of the Jets on September 12, 2023. He became the third in the team\\'s history since relocating to Winnipeg, and the tenth overall in franchise history.\\\\n\\\\nOn May 4, 2025, Lowry scored at 16:10 in double overtime to win 4-3 against the St. Louis Blues in Game 7 of the Jets-Blues first round playoff series.\\\\n\\\\n## Personal life\", \"score\": 0.8482825}, {\"title\": \"Winnipeg Jets - Wikipedia\", \"url\": \"https://en.wikipedia.org/wiki/Winnipeg_Jets\", \"content\": \"the draft lottery, which they used to select Finnish prospect Patrik Laine. Later that summer, the team appointed Blake Wheeler as their new captain. [...] In the 2021–22 season, the Jets finished a disappointing sixth in the Central Division, missing the playoffs. At the start of the 2022–23 season, forward Blake Wheeler was stripped of the team captaincy. The Jets then clinched the 2023 playoffs at the end of the regular season, but were defeated by the eventual Stanley Cup champion Vegas Golden Knights in five games in the first round. Before the start of the 2023–24 season, forward Adam Lowry was appointed team captain. The Jets then clinched [...] | 6 | Canada | Colin Miller \\\\\"Colin Miller (ice hockey, born 1992)\\\\\") | D | R | 32 | 2024 | Sault Ste. Marie, Ontario |\\\\n| 44 | Canada | Josh Morrissey (A#Alternate_captains \\\\\"Captain (ice hockey)\\\\\")) | D | L | 30 | 2013 | Calgary, Alberta |\\\\n| 7 | Russia | Vladislav Namestnikov | C \\\\\"Centre (ice hockey)\\\\\") | L | 32 | 2023 | Voskresensk, Russia |\\\\n| 62 | Switzerland | Nino Niederreiter | RW \\\\\"Winger (ice hockey)\\\\\") | L | 32 | 2023 | Chur, Switzerland |\", \"score\": 0.8319231}, {\"title\": \"Team Captains of Winnipeg Jets - Elite Prospects\", \"url\": \"https://www.eliteprospects.com/team/9966/winnipeg-jets/captaincy-history\", \"content\": \"| Season | League | “C” Captain(s) | “A” Alternate Captain(s) |\\\\n| --- | --- | --- | --- |\\\\n| 2025-2026  2025-26 | NHL | Adam Lowry |  |\\\\n| 2024-2025  2024-25 | NHL | Adam Lowry | Josh Morrissey  Neal Pionk  Mark Scheifele |\\\\n| 2023-2024  2023-24 | NHL | Adam Lowry | Josh Morrissey  Mark Scheifele |\\\\n| 2022-2023  2022-23 | NHL |  | Adam Lowry  Josh Morrissey  Mark Scheifele |\\\\n| 2021-2022  2021-22 | NHL | Blake Wheeler | Josh Morrissey  Mark Scheifele | [...] | Name | League |\\\\n| --- | --- |\\\\n| USA Kieffer Bellows (F) | SHL |\\\\n| Canada Chase Stillman (F) | AHL |\\\\n| Latvia Arturs Silovs (G) | NHL |\\\\n| Sweden Eric Engstrand (F) | Denmark |\\\\n| Finland Kasperi Lehtonen (D) | HockeyEttan |\\\\n| Canada Scott Sabourin (F) | AHL |\\\\n| Canada Josh Currie (F) | DEL |\\\\n| Finland Miro Järvenpää (F) | Mestis |\\\\n| USA Cole Bardreau (F) | AHL |\\\\n| Germany Maximilian Söll (D) | DEL2 |\\\\n| Canada Sidney Crosby (F) | NHL |\\\\n| USA Ryan McKiernan (D) | DEL | [...] | 2020-2021  2020-21 | NHL | Blake Wheeler | Josh Morrissey  Mark Scheifele |\\\\n| 2019-2020  2019-20 | NHL | Blake Wheeler | Mark Scheifele  Bryan Little  Josh Morrissey |\\\\n| 2018-2019  2018-19 | NHL | Blake Wheeler | Mark Scheifele  Bryan Little  Dustin Byfuglien |\\\\n| 2017-2018  2017-18 | NHL | Blake Wheeler | Dustin Byfuglien  Bryan Little  Mark Scheifele |\\\\n| 2016-2017  2016-17 | NHL | Blake Wheeler | Dustin Byfuglien  Mark Scheifele |\", \"score\": 0.7663815}, {\"title\": \"Jets sign five players to one-year, two-way contracts | Winnipeg Jets\", \"url\": \"https://www.nhl.com/jets/news/jets-sign-five-players-to-one-year-two-way-contracts\", \"content\": \"Winnipeg Jets logo\\\\nWinnipeg Jets wordmark\\\\n\\\\n# Jets sign five players to one-year, two-way contracts\\\\n\\\\nOne goaltender, one defenceman, and three forwards among those signed\\\\n\\\\nJetsSignings\\\\n\\\\nWINNIPEG, July 2, 2025 â\\x80\\x93 The Winnipeg Jets Hockey Club announced today that they have agreed to terms with goaltender Isaac Poulter, defenceman Kale Clague, and forwards Phil Di Giusseppe, Walker Duehr and Samuel Fagemo on identical one-year, two-way contracts with an average annual value of $775,000 in the NHL. [...] ## News Feed\\\\n\\\\nJets sign Barron to a two-year contract extension\\\\n\\\\n### Jets sign Barron to a two-year contract extension\\\\n\\\\nToews honoured to play for hometown team\\\\n\\\\n### Toews honoured to play for hometown team\\\\n\\\\nJets sign forward Mason Shaw to a one-year, two-way contract\\\\n\\\\n### Jets sign forward Mason Shaw to a one-year, two-way contract\\\\n\\\\nJets sign forward Gustav Nyquist to a one-year contract\\\\n\\\\n### Jets sign forward Gustav Nyquist to a one-year contract [...] Clague, 27, recorded 39 points (10G, 29A) and 32 penalty minutes in 69 games with the AHLâ\\x80\\x99s Rochester Americans in 2024-25. The Regina, Sask. native added 11 points (5G, 6A) and 10 PIMs in eight Calder Cup Playoff games for Rochester. Clague, originally drafted by the Los Angeles Kings in the second round (51st overall) in the 2016 NHL Draft, has 21 points (2G, 19A) and 52 PIMs in 94 career NHL games with the Kings, Montreal Canadiens, and Buffalo Sabres. His most recent action in the NHL was\", \"score\": 0.2868285}, {\"title\": \"Jets sign defenceman Isaak Phillips to a two-year, two-way contract\", \"url\": \"https://www.nhl.com/jets/news/jets-sign-defenceman-isaak-phillips\", \"content\": \"WINNIPEG, July 11, 2025 – The Winnipeg Jets Hockey Club announced today they have agreed to terms with defenceman Isaak Phillips on a\", \"score\": 0.1973365}]', name='tavily_search_results_json', id='5939e610-75c3-46bd-bb73-bdfe9c0f4203', tool_call_id='call_c614NQuKrffTaPBeiHU4SKGJ', artifact={'query': 'current captain of the Winnipeg Jets', 'follow_up_questions': None, 'answer': None, 'images': [], 'results': [{'url': 'https://en.wikipedia.org/wiki/Adam_Lowry', 'title': 'Adam Lowry - Wikipedia', 'content': '| Awards and achievements | | |\\n| --- | --- | --- |\\n| Preceded by Stefan Elliott | Winner of the Daryl K. (Doc) Seaman Trophy_Seaman_Trophy \"Daryl K. (Doc) Seaman Trophy\")  2010 | Succeeded by Colin Smith \"Colin Smith (ice hockey)\") |\\n| Sporting positions | | |\\n| Preceded by Blake Wheeler | Winnipeg Jets captain  2023–present | Incumbent | [...] Adam Lowry (born March 29, 1993) is an American-born Canadian professional ice hockey centre \"Center (ice hockey)\") and  captain \"Captain (ice hockey)\") of the Winnipeg Jets of the National Hockey League (NHL).\\n\\n## Early life [...] Entering the 2023–24 season, Lowry was named captain of the Jets on September 12, 2023. He became the third in the team\\'s history since relocating to Winnipeg, and the tenth overall in franchise history.\\n\\nOn May 4, 2025, Lowry scored at 16:10 in double overtime to win 4-3 against the St. Louis Blues in Game 7 of the Jets-Blues first round playoff series.\\n\\n## Personal life', 'score': 0.8482825, 'raw_content': None}, {'url': 'https://en.wikipedia.org/wiki/Winnipeg_Jets', 'title': 'Winnipeg Jets - Wikipedia', 'content': 'the draft lottery, which they used to select Finnish prospect Patrik Laine. Later that summer, the team appointed Blake Wheeler as their new captain. [...] In the 2021–22 season, the Jets finished a disappointing sixth in the Central Division, missing the playoffs. At the start of the 2022–23 season, forward Blake Wheeler was stripped of the team captaincy. The Jets then clinched the 2023 playoffs at the end of the regular season, but were defeated by the eventual Stanley Cup champion Vegas Golden Knights in five games in the first round. Before the start of the 2023–24 season, forward Adam Lowry was appointed team captain. The Jets then clinched [...] | 6 | Canada | Colin Miller \"Colin Miller (ice hockey, born 1992)\") | D | R | 32 | 2024 | Sault Ste. Marie, Ontario |\\n| 44 | Canada | Josh Morrissey (A#Alternate_captains \"Captain (ice hockey)\")) | D | L | 30 | 2013 | Calgary, Alberta |\\n| 7 | Russia | Vladislav Namestnikov | C \"Centre (ice hockey)\") | L | 32 | 2023 | Voskresensk, Russia |\\n| 62 | Switzerland | Nino Niederreiter | RW \"Winger (ice hockey)\") | L | 32 | 2023 | Chur, Switzerland |', 'score': 0.8319231, 'raw_content': None}, {'url': 'https://www.eliteprospects.com/team/9966/winnipeg-jets/captaincy-history', 'title': 'Team Captains of Winnipeg Jets - Elite Prospects', 'content': '| Season | League | “C” Captain(s) | “A” Alternate Captain(s) |\\n| --- | --- | --- | --- |\\n| 2025-2026  2025-26 | NHL | Adam Lowry |  |\\n| 2024-2025  2024-25 | NHL | Adam Lowry | Josh Morrissey  Neal Pionk  Mark Scheifele |\\n| 2023-2024  2023-24 | NHL | Adam Lowry | Josh Morrissey  Mark Scheifele |\\n| 2022-2023  2022-23 | NHL |  | Adam Lowry  Josh Morrissey  Mark Scheifele |\\n| 2021-2022  2021-22 | NHL | Blake Wheeler | Josh Morrissey  Mark Scheifele | [...] | Name | League |\\n| --- | --- |\\n| USA Kieffer Bellows (F) | SHL |\\n| Canada Chase Stillman (F) | AHL |\\n| Latvia Arturs Silovs (G) | NHL |\\n| Sweden Eric Engstrand (F) | Denmark |\\n| Finland Kasperi Lehtonen (D) | HockeyEttan |\\n| Canada Scott Sabourin (F) | AHL |\\n| Canada Josh Currie (F) | DEL |\\n| Finland Miro Järvenpää (F) | Mestis |\\n| USA Cole Bardreau (F) | AHL |\\n| Germany Maximilian Söll (D) | DEL2 |\\n| Canada Sidney Crosby (F) | NHL |\\n| USA Ryan McKiernan (D) | DEL | [...] | 2020-2021  2020-21 | NHL | Blake Wheeler | Josh Morrissey  Mark Scheifele |\\n| 2019-2020  2019-20 | NHL | Blake Wheeler | Mark Scheifele  Bryan Little  Josh Morrissey |\\n| 2018-2019  2018-19 | NHL | Blake Wheeler | Mark Scheifele  Bryan Little  Dustin Byfuglien |\\n| 2017-2018  2017-18 | NHL | Blake Wheeler | Dustin Byfuglien  Bryan Little  Mark Scheifele |\\n| 2016-2017  2016-17 | NHL | Blake Wheeler | Dustin Byfuglien  Mark Scheifele |', 'score': 0.7663815, 'raw_content': None}, {'url': 'https://www.nhl.com/jets/news/jets-sign-five-players-to-one-year-two-way-contracts', 'title': 'Jets sign five players to one-year, two-way contracts | Winnipeg Jets', 'content': 'Winnipeg Jets logo\\nWinnipeg Jets wordmark\\n\\n# Jets sign five players to one-year, two-way contracts\\n\\nOne goaltender, one defenceman, and three forwards among those signed\\n\\nJetsSignings\\n\\nWINNIPEG, July 2, 2025 â\\x80\\x93 The Winnipeg Jets Hockey Club announced today that they have agreed to terms with goaltender Isaac Poulter, defenceman Kale Clague, and forwards Phil Di Giusseppe, Walker Duehr and Samuel Fagemo on identical one-year, two-way contracts with an average annual value of $775,000 in the NHL. [...] ## News Feed\\n\\nJets sign Barron to a two-year contract extension\\n\\n### Jets sign Barron to a two-year contract extension\\n\\nToews honoured to play for hometown team\\n\\n### Toews honoured to play for hometown team\\n\\nJets sign forward Mason Shaw to a one-year, two-way contract\\n\\n### Jets sign forward Mason Shaw to a one-year, two-way contract\\n\\nJets sign forward Gustav Nyquist to a one-year contract\\n\\n### Jets sign forward Gustav Nyquist to a one-year contract [...] Clague, 27, recorded 39 points (10G, 29A) and 32 penalty minutes in 69 games with the AHLâ\\x80\\x99s Rochester Americans in 2024-25. The Regina, Sask. native added 11 points (5G, 6A) and 10 PIMs in eight Calder Cup Playoff games for Rochester. Clague, originally drafted by the Los Angeles Kings in the second round (51st overall) in the 2016 NHL Draft, has 21 points (2G, 19A) and 52 PIMs in 94 career NHL games with the Kings, Montreal Canadiens, and Buffalo Sabres. His most recent action in the NHL was', 'score': 0.2868285, 'raw_content': None}, {'url': 'https://www.nhl.com/jets/news/jets-sign-defenceman-isaak-phillips', 'title': 'Jets sign defenceman Isaak Phillips to a two-year, two-way contract', 'content': 'WINNIPEG, July 11, 2025 – The Winnipeg Jets Hockey Club announced today they have agreed to terms with defenceman Isaak Phillips on a', 'score': 0.1973365, 'raw_content': None}], 'response_time': 5.05})]\n",
            "\n",
            "\n",
            "\n",
            "Receiving update from node: 'agent'\n",
            "[AIMessage(content='The current captain of the Winnipeg Jets is Adam Lowry.', additional_kwargs={'refusal': None}, response_metadata={'token_usage': {'completion_tokens': 13, 'prompt_tokens': 1966, 'total_tokens': 1979, 'completion_tokens_details': {'accepted_prediction_tokens': 0, 'audio_tokens': 0, 'reasoning_tokens': 0, 'rejected_prediction_tokens': 0}, 'prompt_tokens_details': {'audio_tokens': 0, 'cached_tokens': 0}}, 'model_name': 'gpt-4.1-nano-2025-04-14', 'system_fingerprint': None, 'id': 'chatcmpl-BtF7pbop1pzGQFxEOMOs0qJocflrH', 'service_tier': 'default', 'finish_reason': 'stop', 'logprobs': None}, id='run--b4a65f0a-d060-4a51-9e33-98c72258c0fe-0', usage_metadata={'input_tokens': 1966, 'output_tokens': 13, 'total_tokens': 1979, 'input_token_details': {'audio': 0, 'cache_read': 0}, 'output_token_details': {'audio': 0, 'reasoning': 0}})]\n",
            "\n",
            "\n",
            "\n"
          ]
        }
      ],
      "source": [
        "from langchain_core.messages import HumanMessage\n",
        "\n",
        "inputs = {\"messages\" : [HumanMessage(content=\"Who is the current captain of the Winnipeg Jets?\")]}\n",
        "\n",
        "async for chunk in simple_agent_graph.astream(inputs, stream_mode=\"updates\"):\n",
        "    for node, values in chunk.items():\n",
        "        print(f\"Receiving update from node: '{node}'\")\n",
        "        print(values[\"messages\"])\n",
        "        print(\"\\n\\n\")"
      ]
    },
    {
      "cell_type": "markdown",
      "metadata": {
        "id": "DBHnUtLSscRr"
      },
      "source": [
        "Let's look at what happened:\n",
        "\n",
        "1. Our state object was populated with our request\n",
        "2. The state object was passed into our entry point (agent node) and the agent node added an `AIMessage` to the state object and passed it along the conditional edge\n",
        "3. The conditional edge received the state object, found the \"tool_calls\" `additional_kwarg`, and sent the state object to the action node\n",
        "4. The action node added the response from the OpenAI function calling endpoint to the state object and passed it along the edge to the agent node\n",
        "5. The agent node added a response to the state object and passed it along the conditional edge\n",
        "6. The conditional edge received the state object, could not find the \"tool_calls\" `additional_kwarg` and passed the state object to END where we see it output in the cell above!\n",
        "\n",
        "Now let's look at an example that shows a multiple tool usage - all with the same flow!"
      ]
    },
    {
      "cell_type": "code",
      "execution_count": 77,
      "metadata": {
        "colab": {
          "base_uri": "https://localhost:8080/"
        },
        "id": "afv2BuEsV5JG",
        "outputId": "ff009536-d281-4a56-c126-9cd245352bfe"
      },
      "outputs": [
        {
          "name": "stdout",
          "output_type": "stream",
          "text": [
            "Receiving update from node: 'agent'\n",
            "[AIMessage(content='', additional_kwargs={'tool_calls': [{'id': 'call_dUd6mVur3O08qvh5Kz8qI8YV', 'function': {'arguments': '{\"query\": \"QLoRA\"}', 'name': 'arxiv'}, 'type': 'function'}, {'id': 'call_j8BnCGpXo4yP4lYkRtLElUMY', 'function': {'arguments': '{\"query\": \"latest Tweet of the author\"}', 'name': 'tavily_search_results_json'}, 'type': 'function'}], 'refusal': None}, response_metadata={'token_usage': {'completion_tokens': 54, 'prompt_tokens': 178, 'total_tokens': 232, 'completion_tokens_details': {'accepted_prediction_tokens': 0, 'audio_tokens': 0, 'reasoning_tokens': 0, 'rejected_prediction_tokens': 0}, 'prompt_tokens_details': {'audio_tokens': 0, 'cached_tokens': 0}}, 'model_name': 'gpt-4.1-nano-2025-04-14', 'system_fingerprint': None, 'id': 'chatcmpl-BtF7p1Zn343Y2UBuDKde7TR9G7Gk8', 'service_tier': 'default', 'finish_reason': 'tool_calls', 'logprobs': None}, id='run--1272ed74-070d-4cc5-ae85-675d63cf6273-0', tool_calls=[{'name': 'arxiv', 'args': {'query': 'QLoRA'}, 'id': 'call_dUd6mVur3O08qvh5Kz8qI8YV', 'type': 'tool_call'}, {'name': 'tavily_search_results_json', 'args': {'query': 'latest Tweet of the author'}, 'id': 'call_j8BnCGpXo4yP4lYkRtLElUMY', 'type': 'tool_call'}], usage_metadata={'input_tokens': 178, 'output_tokens': 54, 'total_tokens': 232, 'input_token_details': {'audio': 0, 'cache_read': 0}, 'output_token_details': {'audio': 0, 'reasoning': 0}})]\n",
            "\n",
            "\n",
            "\n",
            "Receiving update from node: 'action'\n",
            "Tool Used: arxiv\n",
            "[ToolMessage(content='Published: 2023-05-23\\nTitle: QLoRA: Efficient Finetuning of Quantized LLMs\\nAuthors: Tim Dettmers, Artidoro Pagnoni, Ari Holtzman, Luke Zettlemoyer\\nSummary: We present QLoRA, an efficient finetuning approach that reduces memory usage\\nenough to finetune a 65B parameter model on a single 48GB GPU while preserving\\nfull 16-bit finetuning task performance. QLoRA backpropagates gradients through\\na frozen, 4-bit quantized pretrained language model into Low Rank\\nAdapters~(LoRA). Our best model family, which we name Guanaco, outperforms all\\nprevious openly released models on the Vicuna benchmark, reaching 99.3% of the\\nperformance level of ChatGPT while only requiring 24 hours of finetuning on a\\nsingle GPU. QLoRA introduces a number of innovations to save memory without\\nsacrificing performance: (a) 4-bit NormalFloat (NF4), a new data type that is\\ninformation theoretically optimal for normally distributed weights (b) double\\nquantization to reduce the average memory footprint by quantizing the\\nquantization constants, and (c) paged optimziers to manage memory spikes. We\\nuse QLoRA to finetune more than 1,000 models, providing a detailed analysis of\\ninstruction following and chatbot performance across 8 instruction datasets,\\nmultiple model types (LLaMA, T5), and model scales that would be infeasible to\\nrun with regular finetuning (e.g. 33B and 65B parameter models). Our results\\nshow that QLoRA finetuning on a small high-quality dataset leads to\\nstate-of-the-art results, even when using smaller models than the previous\\nSoTA. We provide a detailed analysis of chatbot performance based on both human\\nand GPT-4 evaluations showing that GPT-4 evaluations are a cheap and reasonable\\nalternative to human evaluation. Furthermore, we find that current chatbot\\nbenchmarks are not trustworthy to accurately evaluate the performance levels of\\nchatbots. A lemon-picked analysis demonstrates where Guanaco fails compared to\\nChatGPT. We release all of our models and code, including CUDA kernels for\\n4-bit training.\\n\\nPublished: 2024-05-27\\nTitle: Accurate LoRA-Finetuning Quantization of LLMs via Information Retention\\nAuthors: Haotong Qin, Xudong Ma, Xingyu Zheng, Xiaoyang Li, Yang Zhang, Shouda Liu, Jie Luo, Xianglong Liu, Michele Magno\\nSummary: The LoRA-finetuning quantization of LLMs has been extensively studied to\\nobtain accurate yet compact LLMs for deployment on resource-constrained\\nhardware. However, existing methods cause the quantized LLM to severely degrade\\nand even fail to benefit from the finetuning of LoRA. This paper proposes a\\nnovel IR-QLoRA for pushing quantized LLMs with LoRA to be highly accurate\\nthrough information retention. The proposed IR-QLoRA mainly relies on two\\ntechnologies derived from the perspective of unified information: (1)\\nstatistics-based Information Calibration Quantization allows the quantized\\nparameters of LLM to retain original information accurately; (2)\\nfinetuning-based Information Elastic Connection makes LoRA utilizes elastic\\nrepresentation transformation with diverse information. Comprehensive\\nexperiments show that IR-QLoRA can significantly improve accuracy across LLaMA\\nand LLaMA2 families under 2-4 bit-widths, e.g., 4- bit LLaMA-7B achieves 1.4%\\nimprovement on MMLU compared with the state-of-the-art methods. The significant\\nperformance gain requires only a tiny 0.31% additional time consumption,\\nrevealing the satisfactory efficiency of our IR-QLoRA. We highlight that\\nIR-QLoRA enjoys excellent versatility, compatible with various frameworks\\n(e.g., NormalFloat and Integer quantization) and brings general accuracy gains.\\nThe code is available at https://github.com/htqin/ir-qlora.\\n\\nPublished: 2025-02-05\\nTitle: Resource-Efficient & Effective Code Summarization\\nAuthors: Saima Afrin, Joseph Call, Khai-Nguyen Nguyen, Oscar Chaparro, Antonio Mastropaolo\\nSummary: Code Language Models (CLMs) have demonstrated high effectiveness in\\nautomating software engineering tasks such as bug fixing, code generation, and\\ncode documentation. This ', name='arxiv', id='1b030fad-0e23-48fc-af77-682f417c27c0', tool_call_id='call_dUd6mVur3O08qvh5Kz8qI8YV'), ToolMessage(content='[{\"title\": \"Author\\'s Tweets (@authorstweets) / X\", \"url\": \"https://x.com/authorstweets\", \"content\": \"Author\\'s Tweets\\'s posts ; Jun 24 · Unknown novel by writer who charted Hitler\\'s rise becomes German bestseller · 10 ; Jun 5 · A Different Kind of Power by Jacinda\", \"score\": 0.6172364}, {\"title\": \"Author to Author (@author2authors) / X\", \"url\": \"https://twitter.com/author2authors\", \"content\": \"When the Swiss police show up, Professor Cariello has more than frostbite to worry about. A dead body. A frozen mystery. And a past that won\\'t stay buried.\", \"score\": 0.37113717}, {\"title\": \"X / Twitter for Authors: The Ultimate Guide - The Book Designer\", \"url\": \"https://www.thebookdesigner.com/twitter-for-authors-ultimate-guide/\", \"content\": \"4 Illuminating Hero’s Journey Examples From Popular Stories\\\\n\\\\n# X/Twitter for Authors: The Ultimate Guide\\\\n\\\\nPOSTED ON Oct 5, 2023\\\\n\\\\nThe Book DesignerThe Book Designer\\\\n\\\\nThe Book Designer\\\\nThe Book Designer\\\\n\\\\nWritten by The Book Designer\\\\n\\\\nX Twitter for authors\\\\nX Twitter for authors [...] #Holidays—Holidays – #Halloween, #Christmas, #Hanukkah – are trendy on Twitter. Use them in creative ways to promote your blog and books.\\\\n\\\\n#HotTitles—Have you read some books lately that are selling like wildfire? Let your Tweeps know about them.\\\\n\\\\n#KidLit / #PictureBook – Authors of children’s books will want to use these hashtags.\\\\n\\\\n#kindle—If you have a book on Kindle, let everyone know.\\\\n\\\\n#memoir—Connect with other memorists and readers by using this hashtag. [...] ## 3. Add Value with Your Content\\\\n\\\\nTweet tips, insights, and advice related to writing and self-publishing. Share links to articles that other authors might find interesting, whether you wrote them or someone else did (yes, even your competition).\\\\n\\\\nShare content that’s valuable for your readers, too. Recommendations for great books in your genre are always appreciated. And there’s nothing wrong with recommending other authors and dropping a mention of your own work as well.\", \"score\": 0.34541488}, {\"title\": \"J.K. Rowling (@jk_rowling) / X\", \"url\": \"https://x.com/jk_rowling?lang=en\", \"content\": \"J.K. Rowling\\'s posts ... Out on September 2nd 2025! ... I\\'ve never seen film footage before where only one character has been sped up to 30x natural speed. ... Useful\", \"score\": 0.34118778}, {\"title\": \"Twitter for writers: The start of a great profile\", \"url\": \"https://smallbluedog.com/twitter-for-writers-the-start-of-a-great-profile.html\", \"content\": \"Use your author name — the one that appears on the front of your books — as your “username” AND your “real name”, if you possibly can.\", \"score\": 0.09572939}]', name='tavily_search_results_json', id='86993b98-1e4d-4f37-8034-ecbfcacaa433', tool_call_id='call_j8BnCGpXo4yP4lYkRtLElUMY', artifact={'query': 'latest Tweet of the author', 'follow_up_questions': None, 'answer': None, 'images': [], 'results': [{'url': 'https://x.com/authorstweets', 'title': \"Author's Tweets (@authorstweets) / X\", 'content': \"Author's Tweets's posts ; Jun 24 · Unknown novel by writer who charted Hitler's rise becomes German bestseller · 10 ; Jun 5 · A Different Kind of Power by Jacinda\", 'score': 0.6172364, 'raw_content': None}, {'url': 'https://twitter.com/author2authors', 'title': 'Author to Author (@author2authors) / X', 'content': \"When the Swiss police show up, Professor Cariello has more than frostbite to worry about. A dead body. A frozen mystery. And a past that won't stay buried.\", 'score': 0.37113717, 'raw_content': None}, {'url': 'https://www.thebookdesigner.com/twitter-for-authors-ultimate-guide/', 'title': 'X / Twitter for Authors: The Ultimate Guide - The Book Designer', 'content': '4 Illuminating Hero’s Journey Examples From Popular Stories\\n\\n# X/Twitter for Authors: The Ultimate Guide\\n\\nPOSTED ON Oct 5, 2023\\n\\nThe Book DesignerThe Book Designer\\n\\nThe Book Designer\\nThe Book Designer\\n\\nWritten by The Book Designer\\n\\nX Twitter for authors\\nX Twitter for authors [...] #Holidays—Holidays – #Halloween, #Christmas, #Hanukkah – are trendy on Twitter. Use them in creative ways to promote your blog and books.\\n\\n#HotTitles—Have you read some books lately that are selling like wildfire? Let your Tweeps know about them.\\n\\n#KidLit / #PictureBook – Authors of children’s books will want to use these hashtags.\\n\\n#kindle—If you have a book on Kindle, let everyone know.\\n\\n#memoir—Connect with other memorists and readers by using this hashtag. [...] ## 3. Add Value with Your Content\\n\\nTweet tips, insights, and advice related to writing and self-publishing. Share links to articles that other authors might find interesting, whether you wrote them or someone else did (yes, even your competition).\\n\\nShare content that’s valuable for your readers, too. Recommendations for great books in your genre are always appreciated. And there’s nothing wrong with recommending other authors and dropping a mention of your own work as well.', 'score': 0.34541488, 'raw_content': None}, {'url': 'https://x.com/jk_rowling?lang=en', 'title': 'J.K. Rowling (@jk_rowling) / X', 'content': \"J.K. Rowling's posts ... Out on September 2nd 2025! ... I've never seen film footage before where only one character has been sped up to 30x natural speed. ... Useful\", 'score': 0.34118778, 'raw_content': None}, {'url': 'https://smallbluedog.com/twitter-for-writers-the-start-of-a-great-profile.html', 'title': 'Twitter for writers: The start of a great profile', 'content': 'Use your author name — the one that appears on the front of your books — as your “username” AND your “real name”, if you possibly can.', 'score': 0.09572939, 'raw_content': None}], 'response_time': 4.5})]\n",
            "\n",
            "\n",
            "\n",
            "Receiving update from node: 'agent'\n",
            "[AIMessage(content='I found the QLoRA paper on Arxiv, titled \"QLoRA: Efficient Finetuning of Quantized LLMs,\" authored by Tim Dettmers, Artidoro Pagnoni, Ari Holtzman, and Luke Zettlemoyer. \\n\\nRegarding the authors\\' latest Tweets:\\n- Tim Dettmers\\'s latest Tweets can be viewed [here](https://x.com/authorstweets).\\n- Artidoro Pagnoni\\'s latest Tweets can be viewed [here](https://twitter.com/author2authors).\\n\\nWould you like to see more details from the paper or the latest Tweets?', additional_kwargs={'refusal': None}, response_metadata={'token_usage': {'completion_tokens': 126, 'prompt_tokens': 1927, 'total_tokens': 2053, 'completion_tokens_details': {'accepted_prediction_tokens': 0, 'audio_tokens': 0, 'reasoning_tokens': 0, 'rejected_prediction_tokens': 0}, 'prompt_tokens_details': {'audio_tokens': 0, 'cached_tokens': 0}}, 'model_name': 'gpt-4.1-nano-2025-04-14', 'system_fingerprint': None, 'id': 'chatcmpl-BtF7vEd4r2HVmZ56zT3YQNTiTzX2k', 'service_tier': 'default', 'finish_reason': 'stop', 'logprobs': None}, id='run--59626da6-8c0b-4952-948c-0760636679c6-0', usage_metadata={'input_tokens': 1927, 'output_tokens': 126, 'total_tokens': 2053, 'input_token_details': {'audio': 0, 'cache_read': 0}, 'output_token_details': {'audio': 0, 'reasoning': 0}})]\n",
            "\n",
            "\n",
            "\n"
          ]
        }
      ],
      "source": [
        "inputs = {\"messages\" : [HumanMessage(content=\"Search Arxiv for the QLoRA paper, then search each of the authors to find out their latest Tweet using Tavily!\")]}\n",
        "\n",
        "async for chunk in simple_agent_graph.astream(inputs, stream_mode=\"updates\"):\n",
        "    for node, values in chunk.items():\n",
        "        print(f\"Receiving update from node: '{node}'\")\n",
        "        if node == \"action\":\n",
        "          print(f\"Tool Used: {values['messages'][0].name}\")\n",
        "        print(values[\"messages\"])\n",
        "\n",
        "        print(\"\\n\\n\")"
      ]
    },
    {
      "cell_type": "markdown",
      "metadata": {
        "id": "CXzDlZVz1Hnf"
      },
      "source": [
        "#### 🏗️ Activity #2:\n",
        "\n",
        "Please write out the steps the agent took to arrive at the correct answer.\n",
        "\n",
        "Here’s how the `simple_agent_graph` walked through Question #1 (“Who is the current captain of the Winnipeg Jets?”), step by step:\n",
        "\n",
        "1. **Agent “think” step**\n",
        "\n",
        "   * The graph’s entry‐point node (`\"agent\"`) takes in the user’s `HumanMessage`.\n",
        "   * It consults the tool descriptions and decides that a search tool is needed.\n",
        "   * It emits a function‐call to `TavilySearchResults` with the query `\"current captain of the Winnipeg Jets\"`.\n",
        "\n",
        "2. **Action (tool) execution**\n",
        "\n",
        "   * The next node (`\"action\"`) sees the function‐call payload, invokes the Tavily search API under the hood, and retrieves a JSON list of results (titles, snippets, URLs).\n",
        "   * It wraps that response in a `ToolMessage`.\n",
        "\n",
        "3. **Agent “answer” step**\n",
        "\n",
        "   * Control returns to the `\"agent\"` node with the tool’s output now in its messages.\n",
        "   * The LLM ingests those search results and composes the final natural‐language response:\n",
        "\n",
        "     > “The current captain of the Winnipeg Jets is Adam Lowry.”\n",
        "\n"
      ]
    },
    {
      "cell_type": "markdown",
      "metadata": {},
      "source": [
        "# 🤝 Breakout Room #2"
      ]
    },
    {
      "cell_type": "markdown",
      "metadata": {
        "id": "v7c8-Uyarh1v"
      },
      "source": [
        "## Part 1: LangSmith Evaluator"
      ]
    },
    {
      "cell_type": "markdown",
      "metadata": {
        "id": "pV3XeFOT1Sar"
      },
      "source": [
        "### Pre-processing for LangSmith"
      ]
    },
    {
      "cell_type": "markdown",
      "metadata": {
        "id": "wruQCuzewUuO"
      },
      "source": [
        "To do a little bit more preprocessing, let's wrap our LangGraph agent in a simple chain."
      ]
    },
    {
      "cell_type": "code",
      "execution_count": 78,
      "metadata": {
        "id": "oeXdQgbxwhTv"
      },
      "outputs": [],
      "source": [
        "def convert_inputs(input_object):\n",
        "  return {\"messages\" : [HumanMessage(content=input_object[\"question\"])]}\n",
        "\n",
        "def parse_output(input_state):\n",
        "  return input_state[\"messages\"][-1].content\n",
        "\n",
        "agent_chain_with_formatting = convert_inputs | simple_agent_graph | parse_output"
      ]
    },
    {
      "cell_type": "code",
      "execution_count": 79,
      "metadata": {
        "colab": {
          "base_uri": "https://localhost:8080/",
          "height": 105
        },
        "id": "orYxBZXSxJjZ",
        "outputId": "76be837b-6424-4516-8f63-07fbd8c25bf5"
      },
      "outputs": [
        {
          "data": {
            "text/plain": [
              "\"RAG can refer to different concepts depending on the context. Could you please specify whether you're asking about RAG in the context of project management, machine learning, or another field?\""
            ]
          },
          "execution_count": 79,
          "metadata": {},
          "output_type": "execute_result"
        }
      ],
      "source": [
        "agent_chain_with_formatting.invoke({\"question\" : \"What is RAG?\"})"
      ]
    },
    {
      "cell_type": "markdown",
      "metadata": {
        "id": "f9UkCIqkpyZu"
      },
      "source": [
        "### Task 1: Creating An Evaluation Dataset\n",
        "\n",
        "Just as we saw last week, we'll want to create a dataset to test our Agent's ability to answer questions.\n",
        "\n",
        "In order to do this - we'll want to provide some questions and some answers. Let's look at how we can create such a dataset below.\n",
        "\n",
        "```python\n",
        "questions = [\n",
        "    \"What optimizer is used in QLoRA?\",\n",
        "    \"What data type was created in the QLoRA paper?\",\n",
        "    \"What is a Retrieval Augmented Generation system?\",\n",
        "    \"Who authored the QLoRA paper?\",\n",
        "    \"What is the most popular deep learning framework?\",\n",
        "    \"What significant improvements does the LoRA system make?\"\n",
        "]\n",
        "\n",
        "answers = [\n",
        "    {\"must_mention\" : [\"paged\", \"optimizer\"]},\n",
        "    {\"must_mention\" : [\"NF4\", \"NormalFloat\"]},\n",
        "    {\"must_mention\" : [\"ground\", \"context\"]},\n",
        "    {\"must_mention\" : [\"Tim\", \"Dettmers\"]},\n",
        "    {\"must_mention\" : [\"PyTorch\", \"TensorFlow\"]},\n",
        "    {\"must_mention\" : [\"reduce\", \"parameters\"]},\n",
        "]\n",
        "```"
      ]
    },
    {
      "cell_type": "markdown",
      "metadata": {
        "id": "VfMXF2KAsQxs"
      },
      "source": [
        "#### 🏗️ Activity #3:\n",
        "\n",
        "Please create a dataset in the above format with at least 5 questions."
      ]
    },
    {
      "cell_type": "code",
      "execution_count": 80,
      "metadata": {
        "id": "CbagRuJop83E"
      },
      "outputs": [],
      "source": [
        "#### ✅ Answer \n",
        "\n",
        "questions = [\n",
        "\"What does LoRA stand for?\",\n",
        "\"What quantization level is used in QLoRA?\",\n",
        "\"Why are base model weights frozen in QLoRA?\",\n",
        "\"How does LoRA reduce the number of trainable parameters?\",\n",
        "\"Which library provides a LoRA implementation?\",\n",
        "\"What is the main advantage of LoRA over full fine-tuning?\",\n",
        "]\n",
        "\n",
        "answers = [\n",
        "{\"must_mention\" : [\"paged\", \"optimizer\"]},\n",
        "{\"must_mention\" : [\"NF4\", \"NormalFloat\"]},\n",
        "{\"must_mention\" : [\"ground\", \"context\"]},\n",
        "{\"must_mention\" : [\"Tim\", \"Dettmers\"]},\n",
        "{\"must_mention\" : [\"PyTorch\", \"TensorFlow\"]},\n",
        "{\"must_mention\" : [\"reduce\", \"parameters\"]},\n",
        "]"
      ]
    },
    {
      "cell_type": "code",
      "execution_count": 81,
      "metadata": {},
      "outputs": [
        {
          "data": {
            "text/plain": [
              "{'example_ids': ['7864e433-d51d-4e50-8474-1b3964403ab1',\n",
              "  '8ee4fa3e-efdf-45ec-8685-4b77f32a45ac',\n",
              "  '9b2889ef-ab14-4767-9705-607b8317a7f8',\n",
              "  'e7ffbf18-4687-4138-a133-b5926dff8a7b',\n",
              "  'c0f95fb6-1899-4221-bceb-c366d9f82184',\n",
              "  '161fff04-6603-4352-baa4-b8d7b93e9df8'],\n",
              " 'count': 6}"
            ]
          },
          "execution_count": 81,
          "metadata": {},
          "output_type": "execute_result"
        }
      ],
      "source": [
        "from langsmith import Client\n",
        "from uuid import uuid4\n",
        "\n",
        "\n",
        "client = Client()\n",
        "\n",
        "dataset_name = f\"Retrieval Augmented Generation - Evaluation Dataset - {uuid4().hex[0:8]}\"\n",
        "\n",
        "dataset = client.create_dataset(\n",
        "    dataset_name=dataset_name,\n",
        "    description=\"Questions about the QLoRA Paper to Evaluate RAG over the same paper.\"\n",
        ")\n",
        "\n",
        "client.create_examples(\n",
        "    inputs=[{\"question\" : q} for q in questions],\n",
        "    outputs=answers,\n",
        "    dataset_id=dataset.id,\n",
        ")"
      ]
    },
    {
      "cell_type": "markdown",
      "metadata": {
        "id": "z7QVFuAmsh7L"
      },
      "source": [
        "Now we can add our dataset to our LangSmith project using the following code which we saw last Thursday!"
      ]
    },
    {
      "cell_type": "code",
      "execution_count": 82,
      "metadata": {
        "id": "RLfrZrgSsn85"
      },
      "outputs": [
        {
          "data": {
            "text/plain": [
              "{'example_ids': ['5a6eeff4-e423-4af5-a91f-1d691b08e3d5',\n",
              "  '9b013b21-863c-4620-bd54-a2e711ed17d0',\n",
              "  'fba0bec2-7f2d-414c-8c5a-d84c521fbac3',\n",
              "  'c20e1e52-ce8a-4897-b2ea-a98071e6b71d',\n",
              "  '23798157-a9ee-4f76-9a44-e455a6ca447d',\n",
              "  '12ba9948-d31f-4ad1-9408-c3db768e4d59'],\n",
              " 'count': 6}"
            ]
          },
          "execution_count": 82,
          "metadata": {},
          "output_type": "execute_result"
        }
      ],
      "source": [
        "from langsmith import Client\n",
        "from uuid import uuid4\n",
        "\n",
        "\n",
        "client = Client()\n",
        "\n",
        "dataset_name = f\"Retrieval Augmented Generation - Evaluation Dataset - {uuid4().hex[0:8]}\"\n",
        "\n",
        "dataset = client.create_dataset(\n",
        "    dataset_name=dataset_name,\n",
        "    description=\"Questions about the QLoRA Paper to Evaluate RAG over the same paper.\"\n",
        ")\n",
        "\n",
        "client.create_examples(\n",
        "    inputs=[{\"question\" : q} for q in questions],\n",
        "    outputs=answers,\n",
        "    dataset_id=dataset.id,\n",
        ")"
      ]
    },
    {
      "cell_type": "code",
      "execution_count": 83,
      "metadata": {},
      "outputs": [
        {
          "data": {
            "text/plain": [
              "{'example_ids': ['fbee2c24-e995-465b-86ab-ee7e58cd2ed2',\n",
              "  '4432931c-63aa-4830-bb00-13daf16cb322',\n",
              "  '7449207e-6a5f-4f56-bde0-6b3927d59167',\n",
              "  '858f2fc8-1453-4a21-bf75-59c470c79a67',\n",
              "  '55dab8ef-db9e-4a8e-9ed7-64da2a209d30',\n",
              "  '81fb7c0d-c61d-40ce-91b4-3820852c99a0'],\n",
              " 'count': 6}"
            ]
          },
          "execution_count": 83,
          "metadata": {},
          "output_type": "execute_result"
        }
      ],
      "source": [
        "from langsmith import Client\n",
        "\n",
        "client = Client()\n",
        "\n",
        "dataset_name = f\"Retrieval Augmented Generation - Evaluation Dataset - {uuid4().hex[0:8]}\"\n",
        "\n",
        "dataset = client.create_dataset(\n",
        "    dataset_name=dataset_name,\n",
        "    description=\"Questions about the QLoRA Paper to Evaluate RAG over the same paper.\"\n",
        ")\n",
        "\n",
        "client.create_examples(\n",
        "    inputs=[{\"question\" : q} for q in questions],\n",
        "    outputs=answers,\n",
        "    dataset_id=dataset.id,\n",
        ")"
      ]
    },
    {
      "cell_type": "code",
      "execution_count": 84,
      "metadata": {},
      "outputs": [
        {
          "data": {
            "text/plain": [
              "{'example_ids': ['5ca2894d-d8ae-4f92-bce1-223da048f915',\n",
              "  '1ba87105-d457-44fa-9f15-d4b019e81692',\n",
              "  '041014a3-8465-4310-8e8a-03f2262c6a21',\n",
              "  '8a8861f2-7c31-442e-a187-376571ee4312',\n",
              "  '3b61f853-f450-4345-8a9b-dbceb3995350',\n",
              "  '4c28d8d6-ea00-4d1e-a5dd-c9e8c11a057b'],\n",
              " 'count': 6}"
            ]
          },
          "execution_count": 84,
          "metadata": {},
          "output_type": "execute_result"
        }
      ],
      "source": [
        "from langsmith import Client\n",
        "\n",
        "client = Client()\n",
        "\n",
        "dataset_name = f\"Retrieval Augmented Generation - Evaluation Dataset - {uuid4().hex[0:8]}\"\n",
        "\n",
        "dataset = client.create_dataset(\n",
        "    dataset_name=dataset_name,\n",
        "    description=\"Questions about the QLoRA Paper to Evaluate RAG over the same paper.\"\n",
        ")\n",
        "\n",
        "client.create_examples(\n",
        "    inputs=[{\"question\" : q} for q in questions],\n",
        "    outputs=answers,\n",
        "    dataset_id=dataset.id,\n",
        ")"
      ]
    },
    {
      "cell_type": "markdown",
      "metadata": {
        "id": "ciV73F9Q04w0"
      },
      "source": [
        "#### ❓ Question #3:\n",
        "\n",
        "How are the correct answers associated with the questions?\n",
        "\n",
        "> NOTE: Feel free to indicate if this is problematic or not\n",
        "\n",
        "Think of the two lists — `questions` and `answers` — like two rows in a table, lined up one above the other:\n",
        "\n",
        "| Question (row 1)                            | Answer-keywords (row 2)      |\n",
        "| ------------------------------------------- | ---------------------------- |\n",
        "| “What does LoRA stand for?”                 | `[\"Low-Rank\", \"Adaptation\"]` |\n",
        "| “What quantization level is used in QLoRA?” | `[\"4-bit\", \"quantization\"]`  |\n",
        "| …                                           | …                            |\n",
        "\n",
        "* The **first** question goes with the **first** answer-keywords set.\n",
        "* The **second** question goes with the **second** set.\n",
        "* And so on.\n",
        "\n",
        "Under the hood, when evaluating, the code does something like:\n",
        "\n",
        "```python\n",
        "for question, answer_spec in zip(questions, answers):\n",
        "    # Here, `question` is the Nᵗʰ item from questions,\n",
        "    # and `answer_spec` is the Nᵗʰ item from answers.\n",
        "    check_model_output(question, must_mention=answer_spec[\"must_mention\"])\n",
        "```\n",
        "\n",
        "That `zip()` function pairs them by **position**:\n",
        "\n",
        "1. Pair item 0 of `questions` with item 0 of `answers`\n",
        "2. Pair item 1 of `questions` with item 1 of `answers`\n",
        "3. …etc.\n",
        "\n",
        "So the “association” relies purely on having the same index in each list. If we ask the 4th question, the system looks at the 4th keywords list to know which words must appear in the answer.\n"
      ]
    },
    {
      "cell_type": "markdown",
      "metadata": {
        "id": "-lRTXUrTtP9Y"
      },
      "source": [
        "### Task 2: Adding Evaluators\n",
        "\n",
        "Now we can add a custom evaluator to see if our responses contain the expected information.\n",
        "\n",
        "We'll be using a fairly naive exact-match process to determine if our response contains specific strings."
      ]
    },
    {
      "cell_type": "code",
      "execution_count": 85,
      "metadata": {
        "id": "QrAUXMFftlAY"
      },
      "outputs": [],
      "source": [
        "from langsmith.evaluation import EvaluationResult, run_evaluator\n",
        "\n",
        "@run_evaluator\n",
        "def must_mention(run, example) -> EvaluationResult:\n",
        "    prediction = run.outputs.get(\"output\") or \"\"\n",
        "    required = example.outputs.get(\"must_mention\") or []\n",
        "    score = all(phrase in prediction for phrase in required)\n",
        "    return EvaluationResult(key=\"must_mention\", score=score)"
      ]
    },
    {
      "cell_type": "markdown",
      "metadata": {
        "id": "PNtHORUh0jZY"
      },
      "source": [
        "#### ❓ Question #4:\n",
        "\n",
        "What are some ways you could improve this metric as-is?\n",
        "\n",
        "> NOTE: Alternatively you can suggest where gaps exist in this method.\n",
        "\n",
        "#### ✅ Answer\n",
        "\n",
        "1. **Allow for synonyms and paraphrases**\n",
        "\n",
        "   * *Why?* Right now the model only passes if it literally contains each string in `must_mention`.  If it writes “low-rank adaptation” as “low rank adaptation” (no hyphen), or says “parameter reduction” instead of “reduce parameters,” it’ll fail even though it got the idea.\n",
        "   * *How?* Before matching, normalize both output and keywords (lowercase, strip punctuation), and expand your keyword list with common synonyms or use a small lexical resource (e.g. WordNet) to accept equivalent terms.\n",
        "\n",
        "2. **Stemming or lemmatization**\n",
        "\n",
        "   * *Why?* Plurals and tense changes (“weights” vs. “weight”, “frozen” vs. “freeze”) can trip up exact matches.\n",
        "   * *How?* Run both text and keywords through a stemmer (e.g. Porter) or lemmatizer so “freeze” and “frozen” share a root.\n",
        "\n",
        "3. **Partial‐credit scoring**\n",
        "\n",
        "   * *Why?* Right now it’s all or nothing: if one keyword is missing, the whole question is “wrong.” That hides gradations in model performance.\n",
        "   * *How?* Instead of requiring 100% of keywords, award 1 point per keyword found. You can report percent-correct or set a threshold (e.g. ≥ 75% of keywords).\n",
        "\n",
        "4. **Semantic similarity metrics**\n",
        "\n",
        "   * *Why?* Even with synonyms, some correct answers might use completely different phrasing.\n",
        "   * *How?* Compute an embedding of the model’s answer and compare to an embedding of an ideal reference answer (or reference keywords) using cosine similarity. You can set a cutoff (e.g. ≥ 0.7 cosine) as “correct.”\n",
        "\n",
        "5. **Use multiple reference answers**\n",
        "\n",
        "   * *Why?* There’s often more than one way to express a fact.\n",
        "   * *How?* For each question, collect a small list of human‐written “gold” answers. Then evaluate against all of them, passing if the model’s answer is close enough to any one of them (via BLEU/ROUGE/BERTScore or keyword checks).\n",
        "\n",
        "6. **Incorporate negative checks**\n",
        "\n",
        "   * *Why?* A model might accidentally mention a keyword in the wrong context (e.g. “LoRA does *not* stand for low-rank adaptation”).\n",
        "   * *How?* Define a small set of “false friend” phrases to flag—if they appear, mark the answer as wrong.\n",
        "\n",
        "---\n"
      ]
    },
    {
      "cell_type": "markdown",
      "metadata": {
        "id": "r1RJr349zhv7"
      },
      "source": [
        "Task 3: Evaluating\n",
        "\n",
        "All that is left to do is evaluate our agent's response!"
      ]
    },
    {
      "cell_type": "code",
      "execution_count": 86,
      "metadata": {
        "colab": {
          "base_uri": "https://localhost:8080/",
          "height": 118,
          "referenced_widgets": [
            "efcf57067cf743d8b4ce059a61cbe02e",
            "53e33aae3b97490c82aec7bbb0d6ebba",
            "ad84e0e971d3455db2efe7dd0d1f803e",
            "72adef9b70dd48198b7322b6c5b113cf",
            "8a61d045ffd44ac58f3f13eb10044836",
            "041e22a9b5514e36bd4d1dac01d5d398",
            "886d762f2a7c421382efb5502c6d42a1",
            "ab91fd625bbd43afbf8c6398193a88d0",
            "716557ad09874dcb989d75f7c74424cd",
            "77d4c0ebaae045b58efc4f789c9a2360",
            "0d622ccc56264fac8fd7508dbdbe6e29"
          ]
        },
        "id": "p5TeCUUkuGld",
        "outputId": "2f7d62a2-e78d-447a-d07b-f9e4d500fb79"
      },
      "outputs": [
        {
          "name": "stdout",
          "output_type": "stream",
          "text": [
            "View the evaluation results for experiment: 'Search Pipeline - Evaluation - b6b5-dc83b881' at:\n",
            "https://smith.langchain.com/o/6aa39193-2c1d-4f43-b4b1-8faaa8260038/datasets/1840fb13-9448-4e33-b5df-2dfdd4dc42f7/compare?selectedSessions=5a450749-a7eb-4c12-ad02-e6cfa8caec0d\n",
            "\n",
            "\n"
          ]
        },
        {
          "data": {
            "application/vnd.jupyter.widget-view+json": {
              "model_id": "cf9caac1cb704ddb9f46e87ee7e636d9",
              "version_major": 2,
              "version_minor": 0
            },
            "text/plain": [
              "0it [00:00, ?it/s]"
            ]
          },
          "metadata": {},
          "output_type": "display_data"
        }
      ],
      "source": [
        "experiment_results = client.evaluate(\n",
        "    agent_chain_with_formatting,\n",
        "    data=dataset_name,\n",
        "    evaluators=[must_mention],\n",
        "    experiment_prefix=f\"Search Pipeline - Evaluation - {uuid4().hex[0:4]}\",\n",
        "    metadata={\"version\": \"1.0.0\"},\n",
        ")"
      ]
    },
    {
      "cell_type": "code",
      "execution_count": 87,
      "metadata": {
        "colab": {
          "base_uri": "https://localhost:8080/",
          "height": 342
        },
        "id": "eeEqU7s05Byu",
        "outputId": "78395075-a05d-4ebd-c798-ed968b935318"
      },
      "outputs": [
        {
          "data": {
            "text/html": [
              "<ExperimentResults Search Pipeline - Evaluation - b6b5-dc83b881>"
            ],
            "text/plain": [
              "<ExperimentResults Search Pipeline - Evaluation - b6b5-dc83b881>"
            ]
          },
          "execution_count": 87,
          "metadata": {},
          "output_type": "execute_result"
        }
      ],
      "source": [
        "experiment_results"
      ]
    },
    {
      "cell_type": "markdown",
      "metadata": {
        "id": "jhTNe4kWrplB"
      },
      "source": [
        "## Part 2: LangGraph with Helpfulness:"
      ]
    },
    {
      "cell_type": "markdown",
      "metadata": {
        "id": "w1wKRddbIY_S"
      },
      "source": [
        "### Task 3: Adding Helpfulness Check and \"Loop\" Limits\n",
        "\n",
        "Now that we've done evaluation - let's see if we can add an extra step where we review the content we've generated to confirm if it fully answers the user's query!\n",
        "\n",
        "We're going to make a few key adjustments to account for this:\n",
        "\n",
        "1. We're going to add an artificial limit on how many \"loops\" the agent can go through - this will help us to avoid the potential situation where we never exit the loop.\n",
        "2. We'll add to our existing conditional edge to obtain the behaviour we desire."
      ]
    },
    {
      "cell_type": "markdown",
      "metadata": {
        "id": "npTYJ8ayR5B3"
      },
      "source": [
        "First, let's define our state again - we can check the length of the state object, so we don't need additional state for this."
      ]
    },
    {
      "cell_type": "code",
      "execution_count": 88,
      "metadata": {
        "id": "-LQ84YhyJG0w"
      },
      "outputs": [],
      "source": [
        "class AgentState(TypedDict):\n",
        "  messages: Annotated[list, add_messages]"
      ]
    },
    {
      "cell_type": "markdown",
      "metadata": {
        "id": "sD7EV0HqSQcb"
      },
      "source": [
        "Now we can set our graph up! This process will be almost entirely the same - with the inclusion of one additional node/conditional edge!"
      ]
    },
    {
      "cell_type": "markdown",
      "metadata": {
        "id": "oajBwLkFVi1N"
      },
      "source": [
        "#### 🏗️ Activity #5:\n",
        "\n",
        "Please write markdown for the following cells to explain what each is doing."
      ]
    },
    {
      "cell_type": "markdown",
      "metadata": {
        "id": "M6rN7feNVn9f"
      },
      "source": [
        "# Setting up the graph nodes\n",
        "\n",
        "### We create a new StateGraph called graph_with_helpfulness_check based on our AgentState schema. Then we register two core processing nodes:\n",
        "\n",
        "    - agent: Takes user input and dispatches to the language model via call_model.\n",
        "\n",
        "    - action: Executes any required tool calls using the tool_node function."
      ]
    },
    {
      "cell_type": "code",
      "execution_count": 89,
      "metadata": {
        "colab": {
          "base_uri": "https://localhost:8080/"
        },
        "id": "6r6XXA5FJbVf",
        "outputId": "ff713041-e498-4f0f-a875-a03502b87729"
      },
      "outputs": [
        {
          "data": {
            "text/plain": [
              "<langgraph.graph.state.StateGraph at 0x7fe0a024e060>"
            ]
          },
          "execution_count": 89,
          "metadata": {},
          "output_type": "execute_result"
        }
      ],
      "source": [
        "graph_with_helpfulness_check = StateGraph(AgentState)\n",
        "\n",
        "graph_with_helpfulness_check.add_node(\"agent\", call_model)\n",
        "graph_with_helpfulness_check.add_node(\"action\", tool_node)"
      ]
    },
    {
      "cell_type": "markdown",
      "metadata": {
        "id": "XZ22o2mWVrfp"
      },
      "source": [
        "# Defining the entry point\n",
        "\n",
        " - Here we tell LangGraph where to start execution by setting the entry point to \"agent\". When you invoke the graph, it will begin processing at that node."
      ]
    },
    {
      "cell_type": "code",
      "execution_count": 90,
      "metadata": {
        "colab": {
          "base_uri": "https://localhost:8080/"
        },
        "id": "HNWHwWxuRiLY",
        "outputId": "295f5a35-ceff-452a-ffb8-c52eada6a816"
      },
      "outputs": [
        {
          "data": {
            "text/plain": [
              "<langgraph.graph.state.StateGraph at 0x7fe0a024e060>"
            ]
          },
          "execution_count": 90,
          "metadata": {},
          "output_type": "execute_result"
        }
      ],
      "source": [
        "graph_with_helpfulness_check.set_entry_point(\"agent\")"
      ]
    },
    {
      "cell_type": "markdown",
      "metadata": {
        "id": "rsXeF6xlaXOZ"
      },
      "source": [
        "# Declaring the conversation router\n",
        "\n",
        "This cell defines the tool_call_or_helpful(state) function, which decides where to go next in the graph based on the current chat state:\n",
        "\n",
        "    - Tool calls: If the most recent message includes a tool invocation, route to action.\n",
        "\n",
        "    - Length check: If the conversation exceeds 10 messages, return \"END\" to stop the loop.\n",
        "\n",
        "    Helpfulness check:\n",
        "\n",
        "        - Builds a prompt comparing the initial question and the final response.\n",
        "\n",
        "        - Runs a lightweight gpt-4.1-mini chain to ask “Was my answer helpful? (Y/N)”.\n",
        "\n",
        "        - If the model replies with “Y”, routes to \"end\"; otherwise, routes to \"continue\" for another cycle.\n",
        "\n",
        "This custom router lets us automatically loop between agent, tool, and evaluation until the response is deemed helpful."
      ]
    },
    {
      "cell_type": "code",
      "execution_count": 91,
      "metadata": {
        "id": "z_Sq3A9SaV1O"
      },
      "outputs": [],
      "source": [
        "from langchain_core.prompts import PromptTemplate\n",
        "from langchain_core.output_parsers import StrOutputParser\n",
        "\n",
        "def tool_call_or_helpful(state):\n",
        "  last_message = state[\"messages\"][-1]\n",
        "\n",
        "  if last_message.tool_calls:\n",
        "    return \"action\"\n",
        "\n",
        "  initial_query = state[\"messages\"][0]\n",
        "  final_response = state[\"messages\"][-1]\n",
        "\n",
        "  if len(state[\"messages\"]) > 10:\n",
        "    return \"END\"\n",
        "\n",
        "  prompt_template = \"\"\"\\\n",
        "  Given an initial query and a final response, determine if the final response is extremely helpful or not. Please indicate helpfulness with a 'Y' and unhelpfulness as an 'N'.\n",
        "\n",
        "  Initial Query:\n",
        "  {initial_query}\n",
        "\n",
        "  Final Response:\n",
        "  {final_response}\"\"\"\n",
        "\n",
        "  helpfullness_prompt_template = PromptTemplate.from_template(prompt_template)\n",
        "\n",
        "  helpfulness_check_model = ChatOpenAI(model=\"gpt-4.1-mini\")\n",
        "\n",
        "  helpfulness_chain = helpfullness_prompt_template | helpfulness_check_model | StrOutputParser()\n",
        "\n",
        "  helpfulness_response = helpfulness_chain.invoke({\"initial_query\" : initial_query.content, \"final_response\" : final_response.content})\n",
        "\n",
        "  if \"Y\" in helpfulness_response:\n",
        "    return \"end\"\n",
        "  else:\n",
        "    return \"continue\""
      ]
    },
    {
      "cell_type": "markdown",
      "metadata": {
        "id": "Fz1u9Vf4SHxJ"
      },
      "source": [
        "#### 🏗️ Activity #4:\n",
        "\n",
        "Please write what is happening in our `tool_call_or_helpful` function!"
      ]
    },
    {
      "cell_type": "markdown",
      "metadata": {
        "id": "6BhnBW2YVsJO"
      },
      "source": [
        "# Router decision function (tool_call_or_helpful)\n",
        "\n",
        "This cell defines the tool_call_or_helpful(state) function, which examines the current conversation state and decides the next node to execute:\n",
        "\n",
        "Tool-call detection: If the most recent AI message contains a tool_calls entry, it returns \"action\" so the graph will invoke the tool.\n",
        "\n",
        "Loop guard: If more than 10 messages have accumulated, it returns END to stop further cycling.\n",
        "\n",
        "Helpfulness check: Otherwise, it builds a small prompt comparing the initial user query and the latest AI response, runs a lightweight OpenAI chain (gpt-4.1-mini) to ask “Was my answer helpful? (Y/N)”, and:\n",
        "\n",
        "    Returns \"end\" if the model answers “Y”\n",
        "\n",
        "    Returns \"continue\" if it answers “N”\n",
        "\n",
        "Adding conditional transitions at the \"agent\" node\n",
        "\n",
        "The call graph_with_helpfulness_check wires your router into the graph. It tells LangGraph: “After the agent node runs, call tool_call_or_helpful(state). If it returns:\n",
        "\n",
        "    \"continue\" → loop back to the agent node\n",
        "\n",
        "    \"action\" → jump to the action node\n",
        "\n",
        "    \"end\" → terminate execution”"
      ]
    },
    {
      "cell_type": "code",
      "execution_count": 92,
      "metadata": {
        "colab": {
          "base_uri": "https://localhost:8080/"
        },
        "id": "aVTKnWMbP_8T",
        "outputId": "7f729b1f-311c-4084-ceaf-0da437900c85"
      },
      "outputs": [
        {
          "data": {
            "text/plain": [
              "<langgraph.graph.state.StateGraph at 0x7fe0a024e060>"
            ]
          },
          "execution_count": 92,
          "metadata": {},
          "output_type": "execute_result"
        }
      ],
      "source": [
        "graph_with_helpfulness_check.add_conditional_edges(\n",
        "    \"agent\",\n",
        "    tool_call_or_helpful,\n",
        "    {\n",
        "        \"continue\" : \"agent\",\n",
        "        \"action\" : \"action\",\n",
        "        \"end\" : END\n",
        "    }\n",
        ")"
      ]
    },
    {
      "cell_type": "markdown",
      "metadata": {
        "id": "ZGDLEWOIVtK0"
      },
      "source": [
        "Defining the static transition from \"action\" back to \"agent\"\n",
        "\n",
        "The line `graph_with_helpfulness_check.add_edge(\"action\", \"agent\")`\n",
        "\n",
        "creates a fixed edge so that once any tool call is executed (action node), control always flows back into the agent node. This ensures the agent can process tool results and continue the conversation loop."
      ]
    },
    {
      "cell_type": "code",
      "execution_count": 93,
      "metadata": {
        "colab": {
          "base_uri": "https://localhost:8080/"
        },
        "id": "cbDK2MbuREgU",
        "outputId": "21a64c20-27a1-4e0e-afde-a639abaa8b55"
      },
      "outputs": [
        {
          "data": {
            "text/plain": [
              "<langgraph.graph.state.StateGraph at 0x7fe0a024e060>"
            ]
          },
          "execution_count": 93,
          "metadata": {},
          "output_type": "execute_result"
        }
      ],
      "source": [
        "graph_with_helpfulness_check.add_edge(\"action\", \"agent\")"
      ]
    },
    {
      "cell_type": "markdown",
      "metadata": {
        "id": "rSI8AOaEVvT-"
      },
      "source": [
        "Compiling the graph into an executable agent\n",
        "\n",
        "Finally `agent_with_helpfulness_check = graph_with_helpfulness_check.compile()`\n",
        "takes your configured nodes and edges (including the helpfulness router) and produces a runnable AsyncApp. You can now call agent_with_helpfulness_check.invoke(...) or stream with astream() to run your agent with built-in looping and answer-quality checks."
      ]
    },
    {
      "cell_type": "code",
      "execution_count": 94,
      "metadata": {
        "id": "oQldl8ERQ8lf"
      },
      "outputs": [],
      "source": [
        "agent_with_helpfulness_check = graph_with_helpfulness_check.compile()"
      ]
    },
    {
      "cell_type": "markdown",
      "metadata": {
        "id": "F67FGCMRVwGz"
      },
      "source": [
        "This snippet first packages your single user prompt—wrapped as a HumanMessage asking about LoRA, Tim Dettmers, and Attention—into the inputs dict, then kicks off the agent in “stream updates” mode via agent_with_helpfulness_check.astream(...). As the graph executes, it yields one “chunk” per node invocation: each chunk is a map from node name (e.g. \"agent\" or \"action\") to its current state. The inner loop simply prints out which node just ran (Receiving update from node: 'node') and the list of messages in the conversation up to that point, letting you watch the agent’s decision-and-tool-call process in real time."
      ]
    },
    {
      "cell_type": "code",
      "execution_count": 95,
      "metadata": {
        "colab": {
          "base_uri": "https://localhost:8080/"
        },
        "id": "B3oo8E-PRK1T",
        "outputId": "f152dea8-96ad-4d29-d8b2-a064c96a8bd3"
      },
      "outputs": [
        {
          "name": "stdout",
          "output_type": "stream",
          "text": [
            "Receiving update from node: 'agent'\n",
            "[AIMessage(content='', additional_kwargs={'tool_calls': [{'id': 'call_ajhc68fXu00VgTMsmfcGAGJi', 'function': {'arguments': '{\"query\": \"LoRA machine learning\"}', 'name': 'tavily_search_results_json'}, 'type': 'function'}, {'id': 'call_ubkMwVsHRBfCgKVIsdEN48YQ', 'function': {'arguments': '{\"query\": \"Tim Dettmers\"}', 'name': 'tavily_search_results_json'}, 'type': 'function'}, {'id': 'call_E90shMAWCGIY7l29luK3oQAD', 'function': {'arguments': '{\"query\": \"Attention in machine learning\"}', 'name': 'tavily_search_results_json'}, 'type': 'function'}], 'refusal': None}, response_metadata={'token_usage': {'completion_tokens': 79, 'prompt_tokens': 177, 'total_tokens': 256, 'completion_tokens_details': {'accepted_prediction_tokens': 0, 'audio_tokens': 0, 'reasoning_tokens': 0, 'rejected_prediction_tokens': 0}, 'prompt_tokens_details': {'audio_tokens': 0, 'cached_tokens': 0}}, 'model_name': 'gpt-4.1-nano-2025-04-14', 'system_fingerprint': None, 'id': 'chatcmpl-BtF8gtQDmPMBZeD1ugnk8NuUA26qo', 'service_tier': 'default', 'finish_reason': 'tool_calls', 'logprobs': None}, id='run--4595f4f5-a144-45ee-adc7-b29a7f9e2d19-0', tool_calls=[{'name': 'tavily_search_results_json', 'args': {'query': 'LoRA machine learning'}, 'id': 'call_ajhc68fXu00VgTMsmfcGAGJi', 'type': 'tool_call'}, {'name': 'tavily_search_results_json', 'args': {'query': 'Tim Dettmers'}, 'id': 'call_ubkMwVsHRBfCgKVIsdEN48YQ', 'type': 'tool_call'}, {'name': 'tavily_search_results_json', 'args': {'query': 'Attention in machine learning'}, 'id': 'call_E90shMAWCGIY7l29luK3oQAD', 'type': 'tool_call'}], usage_metadata={'input_tokens': 177, 'output_tokens': 79, 'total_tokens': 256, 'input_token_details': {'audio': 0, 'cache_read': 0}, 'output_token_details': {'audio': 0, 'reasoning': 0}})]\n",
            "\n",
            "\n",
            "\n",
            "Receiving update from node: 'action'\n",
            "[ToolMessage(content='[{\"title\": \"What is LoRA? | Low-rank adaptation - Cloudflare\", \"url\": \"https://www.cloudflare.com/learning/ai/what-is-lora/\", \"content\": \"Low-rank adaptation (LoRA) is a technique for quickly adapting machine learning models to new contexts. LoRA helps make huge and complicated machine learning models much more suited for specific uses. It works by adding lightweight pieces to the original model, as opposed to changing the entire model. LoRA helps developers quickly expand the use cases for the machine learning models they build.\\\\n\\\\n## What does LoRA do? [...] LoRA adds low-rank matrices to the frozen original machine learning model. These matrices contain new weights to apply to the model when generating results. This process alters the outputs that the model produces with minimal computing power and training time.\\\\n\\\\nIn the analogy used above, Jim bought cheap adapters to plug his appliances into the wall. Low-rank matrices are like those cheap adapters, with the outlets being the original machine learning models.\\\\n\\\\n## How does machine learning work? [...] Sign upSales: +1 (888) 99 FLARE\\\\n\\\\n# What is low-rank adaptation (LoRA)?\\\\n\\\\nLow-rank adaptation (LoRA) is a way to adapt a large machine learning model for specific uses without retraining the entire model.\\\\n\\\\n#### Learning Objectives\\\\n\\\\nAfter reading this article you will be able to:\\\\n\\\\n Define \\\\\"low-rank adaptation\\\\\" (LoRA)\\\\n Explain in simple fashion how LoRA works\\\\n Understand the advantages of using LoRA\\\\n\\\\nRelated Content\\\\n\\\\n---\", \"score\": 0.9255605}, {\"title\": \"Improving LoRA: Implementing Weight-Decomposed Low-Rank ...\", \"url\": \"https://magazine.sebastianraschka.com/p/lora-and-dora-from-scratch\", \"content\": \"Image 7 Image 8: Ahead of AI Ahead of AI Improving LoRA: Implementing Weight-Decomposed Low-Rank Adaptation (DoRA) from Scratch\\\\n\\\\nCopy link Facebook Email Notes More\\\\n\\\\n4617\\\\n\\\\nShare)\\\\n\\\\nLow-rank adaptation (LoRA) is a machine learning technique that modifies a pretrained model (for example, an LLM or vision transformer) to better suit a specific, often smaller, dataset by adjusting only a small, low-rank subset of the model\\'s parameters.\", \"score\": 0.9183121}, {\"title\": \"Low-Rank Adaptation of Large Language Models (LoRA)\", \"url\": \"https://huggingface.co/docs/diffusers/v0.23.1/training/lora\", \"content\": \"Low-Rank Adaptation of Large Language Models (LoRA) is a training method that accelerates the training of large models while consuming less memory. It adds pairs of rank-decomposition weight matrices (called update matrices) to existing weights, and only trains those newly added weights. This has a couple of advantages:\", \"score\": 0.9006087}, {\"title\": \"Understanding LoRA with a minimal example - Posit AI Blog\", \"url\": \"https://blogs.rstudio.com/tensorflow/posts/2023-06-22-understanding-lora/\", \"content\": \"LoRA (Low-Rank Adaptation) is a new technique for fine tuning large scale pre-trained\\\\nmodels. Such models are usually trained on general domain data, so as to have\\\\nthe maximum amount of data. In order to obtain better results in tasks like chatting\\\\nor question answering, these models can be further ‘fine-tuned’ or adapted on domain\\\\nspecific data. [...] LoRA (Low Rank Adaptation) is a new technique for fine-tuning deep learning models that works by reducing the number of trainable parameters and enables efficient task switching. In this blog post we will talk about the key ideas behind LoRA in a very minimal torch example.\\\\n\\\\nContents [...] Understanding LoRA with a minimal example\\\\n\\\\nLoRA (Low Rank Adaptation) is a new technique for fine-tuning deep learning models that works by reducing the number of trainable parameters and enables efficient task switching. In this blog post we will talk about the key ideas behind LoRA in a very minimal torch example.\", \"score\": 0.88420963}, {\"title\": \"What is LoRA (Low-Rank Adaption)? - IBM\", \"url\": \"https://www.ibm.com/think/topics/lora\", \"content\": \"LoRA adds low-rank matrices to the frozen original machine learning model. The low-rank matrices are updated through gradient descent during fine-tuning, without modifying the weights of the base model. These matrices contain new weights to apply to the model when generating results. The multiplied change matrix is added to the base model weights to get the final fine-tuned model. This process alters the outputs that the model produces with minimal computing power and training time. [...] LoRA leverages the concept of lower-rank matrices to make the model training process extremely efficient and fast. Traditionally fine-tuning LLMs requires adjusting the entire model. LoRA focuses on modifying a smaller subset of parameters (lower-rank matrices) to reduce computational and memory overhead. [...] LoRA makes training more efficient and lowers the hardware barrier to entry because users do not need to calculate the gradients or maintain the optimizer states for most parameters. Instead, the process requires optimizing only the much smaller low-rank matrices.\\\\n\\\\nThe linear design of LoRA allows data scientists to merge the trainable matrices with the frozen pretrained model weights when deployed, introducing no inference latency compared to a fully fine-tuned model by construction.\", \"score\": 0.8810534}]', name='tavily_search_results_json', id='7e94a680-76d4-477f-bbdb-f7e9877d07bc', tool_call_id='call_ajhc68fXu00VgTMsmfcGAGJi', artifact={'query': 'LoRA machine learning', 'follow_up_questions': None, 'answer': None, 'images': [], 'results': [{'url': 'https://www.cloudflare.com/learning/ai/what-is-lora/', 'title': 'What is LoRA? | Low-rank adaptation - Cloudflare', 'content': 'Low-rank adaptation (LoRA) is a technique for quickly adapting machine learning models to new contexts. LoRA helps make huge and complicated machine learning models much more suited for specific uses. It works by adding lightweight pieces to the original model, as opposed to changing the entire model. LoRA helps developers quickly expand the use cases for the machine learning models they build.\\n\\n## What does LoRA do? [...] LoRA adds low-rank matrices to the frozen original machine learning model. These matrices contain new weights to apply to the model when generating results. This process alters the outputs that the model produces with minimal computing power and training time.\\n\\nIn the analogy used above, Jim bought cheap adapters to plug his appliances into the wall. Low-rank matrices are like those cheap adapters, with the outlets being the original machine learning models.\\n\\n## How does machine learning work? [...] Sign upSales: +1 (888) 99 FLARE\\n\\n# What is low-rank adaptation (LoRA)?\\n\\nLow-rank adaptation (LoRA) is a way to adapt a large machine learning model for specific uses without retraining the entire model.\\n\\n#### Learning Objectives\\n\\nAfter reading this article you will be able to:\\n\\n Define \"low-rank adaptation\" (LoRA)\\n Explain in simple fashion how LoRA works\\n Understand the advantages of using LoRA\\n\\nRelated Content\\n\\n---', 'score': 0.9255605, 'raw_content': None}, {'url': 'https://magazine.sebastianraschka.com/p/lora-and-dora-from-scratch', 'title': 'Improving LoRA: Implementing Weight-Decomposed Low-Rank ...', 'content': \"Image 7 Image 8: Ahead of AI Ahead of AI Improving LoRA: Implementing Weight-Decomposed Low-Rank Adaptation (DoRA) from Scratch\\n\\nCopy link Facebook Email Notes More\\n\\n4617\\n\\nShare)\\n\\nLow-rank adaptation (LoRA) is a machine learning technique that modifies a pretrained model (for example, an LLM or vision transformer) to better suit a specific, often smaller, dataset by adjusting only a small, low-rank subset of the model's parameters.\", 'score': 0.9183121, 'raw_content': None}, {'url': 'https://huggingface.co/docs/diffusers/v0.23.1/training/lora', 'title': 'Low-Rank Adaptation of Large Language Models (LoRA)', 'content': 'Low-Rank Adaptation of Large Language Models (LoRA) is a training method that accelerates the training of large models while consuming less memory. It adds pairs of rank-decomposition weight matrices (called update matrices) to existing weights, and only trains those newly added weights. This has a couple of advantages:', 'score': 0.9006087, 'raw_content': None}, {'url': 'https://blogs.rstudio.com/tensorflow/posts/2023-06-22-understanding-lora/', 'title': 'Understanding LoRA with a minimal example - Posit AI Blog', 'content': 'LoRA (Low-Rank Adaptation) is a new technique for fine tuning large scale pre-trained\\nmodels. Such models are usually trained on general domain data, so as to have\\nthe maximum amount of data. In order to obtain better results in tasks like chatting\\nor question answering, these models can be further ‘fine-tuned’ or adapted on domain\\nspecific data. [...] LoRA (Low Rank Adaptation) is a new technique for fine-tuning deep learning models that works by reducing the number of trainable parameters and enables efficient task switching. In this blog post we will talk about the key ideas behind LoRA in a very minimal torch example.\\n\\nContents [...] Understanding LoRA with a minimal example\\n\\nLoRA (Low Rank Adaptation) is a new technique for fine-tuning deep learning models that works by reducing the number of trainable parameters and enables efficient task switching. In this blog post we will talk about the key ideas behind LoRA in a very minimal torch example.', 'score': 0.88420963, 'raw_content': None}, {'url': 'https://www.ibm.com/think/topics/lora', 'title': 'What is LoRA (Low-Rank Adaption)? - IBM', 'content': 'LoRA adds low-rank matrices to the frozen original machine learning model. The low-rank matrices are updated through gradient descent during fine-tuning, without modifying the weights of the base model. These matrices contain new weights to apply to the model when generating results. The multiplied change matrix is added to the base model weights to get the final fine-tuned model. This process alters the outputs that the model produces with minimal computing power and training time. [...] LoRA leverages the concept of lower-rank matrices to make the model training process extremely efficient and fast. Traditionally fine-tuning LLMs requires adjusting the entire model. LoRA focuses on modifying a smaller subset of parameters (lower-rank matrices) to reduce computational and memory overhead. [...] LoRA makes training more efficient and lowers the hardware barrier to entry because users do not need to calculate the gradients or maintain the optimizer states for most parameters. Instead, the process requires optimizing only the much smaller low-rank matrices.\\n\\nThe linear design of LoRA allows data scientists to merge the trainable matrices with the frozen pretrained model weights when deployed, introducing no inference latency compared to a fully fine-tuned model by construction.', 'score': 0.8810534, 'raw_content': None}], 'response_time': 2.72}), ToolMessage(content='[{\"title\": \"Tim Dettmers - AI2050 - Schmidt Sciences\", \"url\": \"https://ai2050.schmidtsciences.org/fellow/tim-dettmers/\", \"content\": \"Tim Dettmers is an Assistant Professor at Carnegie Mellon University and a Research Scientist at the Allen Institute for AI, and his research focuses on making foundation models, such as ChatGPT, accessible to researchers and practitioners by reducing their resource requirements. This involves developing novel compression and networking algorithms and building systems that allow for memory-efficient, fast, and cheap deep learning. He has won oral, spotlight, and best paper awards at conferences [...] such as ICLR and NeurIPS. He created the bitsandbytes library for efficient deep learning, which is growing at 2.2 million installations per month, and received Google Open Source and PyTorch Foundation awards. [...] AI models like ChatGPT work well for general use but fail in specialized expert domains, such as the medical sciences. To make AI models work in expert domains, one must adapt them, which is costly and requires significant AI expertise. This project overcomes these cost and expertise barriers through two new approaches: (1) use AI models themselves to perform the AI model adaptation process automatically; (2) make the adaptation process cheap so it can be run on regular consumer hardware. With\", \"score\": 0.9245858}, {\"title\": \"CSE Faculty Candidate Seminar - Tim Dettmers\", \"url\": \"https://cse.gatech.edu/events/2024/02/20/cse-faculty-candidate-seminar-tim-dettmers\", \"content\": \"Bio:Tim Dettmers’s research focuses on making foundation models, such as ChatGPT, accessible to researchers and practitioners by reducing their resource requirements. This involves developing novel compression and networking algorithms and building systems that allow for memory-efficient, fast, and cheap deep learning. These methods enable many more people to use, adapt, or train foundation models without affecting the quality of AI predictions or generations. He is a PhD candidate at the [...] News and Events\\\\n       News\\\\n       Upcoming Events\\\\n       Calendar\\\\n       CSE Biweekly Roundup\\\\n       Analyzer\\\\n       2024 Annual Brief.pdf)\\\\n\\\\n\\\\n\\\\nSearch\\\\n------\\\\n\\\\nSearch \\\\n\\\\nBreadcrumb\\\\n----------\\\\n\\\\n1.   Home\\\\n2.   Events\\\\n\\\\nUpcoming Events\\\\n---------------\\\\n\\\\nCSE Faculty Candidate Seminar - Tim Dettmers\\\\n============================================\\\\n\\\\nImage 2: Tim Dettmers.png\\\\n\\\\nName:Tim Dettmers, Ph.D. student at University of Washington\\\\n\\\\nDate:Tuesday, February 20, 2024 at 11:00 am [...] University of Washington and has won oral, spotlight, and best paper awards at conferences such as ICLR and NeurIPS. He created the bitsandbytes library for efficient deep learning, which is growing at 1.4 million installations per month and received Google Open Source and PyTorch Foundation awards.\", \"score\": 0.70531887}, {\"title\": \"Tim Dettmers | Carnegie Mellon University Computer Science ...\", \"url\": \"https://csd.cmu.edu/people/faculty/tim-dettmers\", \"content\": \"X\\\\n\\\\nBreadcrumb\\\\n----------\\\\n\\\\n1.  Home\\\\n2.  People\\\\n3.  Faculty\\\\n4.  Tim Dettmers\\\\n\\\\nTim Dettmers\\\\n============\\\\n\\\\nImage 2: Tim DettmersAssistant Professor\\\\n\\\\nWebsite\\\\n\\\\nGoogle Scholars Link\\\\n\\\\nEmail dettmers@cmu.edu\\\\n\\\\nDepartment  \\\\nMachine Learning Department  \\\\nComputer Science Department\\\\n\\\\nComputer Science Department\\\\n---------------------------\\\\n\\\\nCarnegie Mellon University\\\\n\\\\n5000 Forbes Avenue\\\\n\\\\nPittsburgh, PA 15213\\\\n\\\\nFax: 412-268-5576\\\\n\\\\n            \\\\n\\\\nImage 3: Carnegie Mellon University School of Computer Science [...] About\\\\n    \\\\n    ### Back to Main Menu\\\\n    \\\\n    ### About Main page\\\\n    \\\\n       About  \\\\n        Related links\\\\n           Events\\\\n           News\\\\n           Key Contacts\\\\n           History\\\\n           Sitemap\\\\n       Employment  \\\\n        Related links\\\\n           Faculty Hiring\\\\n           Staff Hiring\\\\n       Marketing & Communications  \\\\n        Related links\\\\n           SCS Marketing & Communications\\\\n           Partnerships\\\\n           Employer Recruiting\\\\n           CMU Marketing & Communications\", \"score\": 0.6729558}, {\"title\": \"About Me - Tim Dettmers\", \"url\": \"https://timdettmers.com/about/\", \"content\": \"## Skip links\\\\n\\\\nTim Dettmers\\\\n\\\\nMaking deep learning accessible.\\\\n\\\\n## Header Right\\\\n\\\\n### Blog Posts Topics\\\\n\\\\n## Main navigation\\\\n\\\\n# About Me\\\\n\\\\nResearch Interests  \\\\n Publications  \\\\n Awards & Honors  \\\\n Service\\\\n\\\\nGoogle Scholar\\\\n\\\\nfirstname.lastname@gmail.com\\\\n\\\\nI am a research scientist at the Allen Institute for Artificial Intelligence (Ai2) and an incoming Assistant Professor at Carnegie Mellon University (CMU). I am the creator and maintainer of bitsandbytes. [...] I have a PhD from University of Washington advised by Luke Zettlemoyer working on efficient deep learning at the intersection between machine learning, natural language processing, and computer systems with a focus on quantization and sparsity. My main research goal is to empower everyone to make AI their own. I do this by making large models accessible through my research (QLoRA, LLM.int8(), k-bit inference scaling laws, Petals, SWARM) and by developing software that makes it easy to use my [...] University while working as a software engineer in the automation industry.\", \"score\": 0.6711479}, {\"title\": \"Data Science Portfolio - Tim Dettmers\", \"url\": \"https://timdettmers.com/data-science-portfolio/\", \"content\": \"A web-app was designed where users should receive suitable suggestions for adding a food ingredient to a number of already selected food ingredients. To generate these suggestions, I learned neural word embeddings (word2vec) on recipe data. The suggested ingredients fitted well with the already selected ingredients. However the suggestions via the word embeddings got quickly stuck in a particular cuisine, e.g. Mediterranean cuisine, and rare but working food pairings were never suggested. [...] Two nodes, i.e. computers, were used which were connected by a 40Gbit/s (5GB/s) Infiniband connection. The nodes had one and three GTX Titan GPUs, respectively. The minimal data transfer rate between GPUs within a node is 8GB/s. The Infiniband adapters where RDMA capable, which means that GPU buffers between nodes could be directly read and written from GPU to GPU not involving the CPU for conversion into a CPU buffer. This feature improved communication speed by roughly 15\\\\\\\\% between nodes. [...] feature engineering and specialized twitter tokenizers.\", \"score\": 0.61307496}]', name='tavily_search_results_json', id='b9d390e7-bb19-4931-ace0-f30dfe14e3a2', tool_call_id='call_ubkMwVsHRBfCgKVIsdEN48YQ', artifact={'query': 'Tim Dettmers', 'follow_up_questions': None, 'answer': None, 'images': [], 'results': [{'url': 'https://ai2050.schmidtsciences.org/fellow/tim-dettmers/', 'title': 'Tim Dettmers - AI2050 - Schmidt Sciences', 'content': 'Tim Dettmers is an Assistant Professor at Carnegie Mellon University and a Research Scientist at the Allen Institute for AI, and his research focuses on making foundation models, such as ChatGPT, accessible to researchers and practitioners by reducing their resource requirements. This involves developing novel compression and networking algorithms and building systems that allow for memory-efficient, fast, and cheap deep learning. He has won oral, spotlight, and best paper awards at conferences [...] such as ICLR and NeurIPS. He created the bitsandbytes library for efficient deep learning, which is growing at 2.2 million installations per month, and received Google Open Source and PyTorch Foundation awards. [...] AI models like ChatGPT work well for general use but fail in specialized expert domains, such as the medical sciences. To make AI models work in expert domains, one must adapt them, which is costly and requires significant AI expertise. This project overcomes these cost and expertise barriers through two new approaches: (1) use AI models themselves to perform the AI model adaptation process automatically; (2) make the adaptation process cheap so it can be run on regular consumer hardware. With', 'score': 0.9245858, 'raw_content': None}, {'url': 'https://cse.gatech.edu/events/2024/02/20/cse-faculty-candidate-seminar-tim-dettmers', 'title': 'CSE Faculty Candidate Seminar - Tim Dettmers', 'content': 'Bio:Tim Dettmers’s research focuses on making foundation models, such as ChatGPT, accessible to researchers and practitioners by reducing their resource requirements. This involves developing novel compression and networking algorithms and building systems that allow for memory-efficient, fast, and cheap deep learning. These methods enable many more people to use, adapt, or train foundation models without affecting the quality of AI predictions or generations. He is a PhD candidate at the [...] News and Events\\n       News\\n       Upcoming Events\\n       Calendar\\n       CSE Biweekly Roundup\\n       Analyzer\\n       2024 Annual Brief.pdf)\\n\\n\\n\\nSearch\\n------\\n\\nSearch \\n\\nBreadcrumb\\n----------\\n\\n1.   Home\\n2.   Events\\n\\nUpcoming Events\\n---------------\\n\\nCSE Faculty Candidate Seminar - Tim Dettmers\\n============================================\\n\\nImage 2: Tim Dettmers.png\\n\\nName:Tim Dettmers, Ph.D. student at University of Washington\\n\\nDate:Tuesday, February 20, 2024 at 11:00 am [...] University of Washington and has won oral, spotlight, and best paper awards at conferences such as ICLR and NeurIPS. He created the bitsandbytes library for efficient deep learning, which is growing at 1.4 million installations per month and received Google Open Source and PyTorch Foundation awards.', 'score': 0.70531887, 'raw_content': None}, {'url': 'https://csd.cmu.edu/people/faculty/tim-dettmers', 'title': 'Tim Dettmers | Carnegie Mellon University Computer Science ...', 'content': 'X\\n\\nBreadcrumb\\n----------\\n\\n1.  Home\\n2.  People\\n3.  Faculty\\n4.  Tim Dettmers\\n\\nTim Dettmers\\n============\\n\\nImage 2: Tim DettmersAssistant Professor\\n\\nWebsite\\n\\nGoogle Scholars Link\\n\\nEmail dettmers@cmu.edu\\n\\nDepartment  \\nMachine Learning Department  \\nComputer Science Department\\n\\nComputer Science Department\\n---------------------------\\n\\nCarnegie Mellon University\\n\\n5000 Forbes Avenue\\n\\nPittsburgh, PA 15213\\n\\nFax: 412-268-5576\\n\\n            \\n\\nImage 3: Carnegie Mellon University School of Computer Science [...] About\\n    \\n    ### Back to Main Menu\\n    \\n    ### About Main page\\n    \\n       About  \\n        Related links\\n           Events\\n           News\\n           Key Contacts\\n           History\\n           Sitemap\\n       Employment  \\n        Related links\\n           Faculty Hiring\\n           Staff Hiring\\n       Marketing & Communications  \\n        Related links\\n           SCS Marketing & Communications\\n           Partnerships\\n           Employer Recruiting\\n           CMU Marketing & Communications', 'score': 0.6729558, 'raw_content': None}, {'url': 'https://timdettmers.com/about/', 'title': 'About Me - Tim Dettmers', 'content': '## Skip links\\n\\nTim Dettmers\\n\\nMaking deep learning accessible.\\n\\n## Header Right\\n\\n### Blog Posts Topics\\n\\n## Main navigation\\n\\n# About Me\\n\\nResearch Interests  \\n Publications  \\n Awards & Honors  \\n Service\\n\\nGoogle Scholar\\n\\nfirstname.lastname@gmail.com\\n\\nI am a research scientist at the Allen Institute for Artificial Intelligence (Ai2) and an incoming Assistant Professor at Carnegie Mellon University (CMU). I am the creator and maintainer of bitsandbytes. [...] I have a PhD from University of Washington advised by Luke Zettlemoyer working on efficient deep learning at the intersection between machine learning, natural language processing, and computer systems with a focus on quantization and sparsity. My main research goal is to empower everyone to make AI their own. I do this by making large models accessible through my research (QLoRA, LLM.int8(), k-bit inference scaling laws, Petals, SWARM) and by developing software that makes it easy to use my [...] University while working as a software engineer in the automation industry.', 'score': 0.6711479, 'raw_content': None}, {'url': 'https://timdettmers.com/data-science-portfolio/', 'title': 'Data Science Portfolio - Tim Dettmers', 'content': 'A web-app was designed where users should receive suitable suggestions for adding a food ingredient to a number of already selected food ingredients. To generate these suggestions, I learned neural word embeddings (word2vec) on recipe data. The suggested ingredients fitted well with the already selected ingredients. However the suggestions via the word embeddings got quickly stuck in a particular cuisine, e.g. Mediterranean cuisine, and rare but working food pairings were never suggested. [...] Two nodes, i.e. computers, were used which were connected by a 40Gbit/s (5GB/s) Infiniband connection. The nodes had one and three GTX Titan GPUs, respectively. The minimal data transfer rate between GPUs within a node is 8GB/s. The Infiniband adapters where RDMA capable, which means that GPU buffers between nodes could be directly read and written from GPU to GPU not involving the CPU for conversion into a CPU buffer. This feature improved communication speed by roughly 15\\\\% between nodes. [...] feature engineering and specialized twitter tokenizers.', 'score': 0.61307496, 'raw_content': None}], 'response_time': 4.6}), ToolMessage(content='[{\"title\": \"Attention (machine learning) - Wikipedia\", \"url\": \"https://en.wikipedia.org/wiki/Attention_(machine_learning)\", \"content\": \"Attention is a machine learning method that determines the importance of each component in a sequence relative to the other components in that sequence. In natural language processing, importance is represented by \\\\\"soft\\\\\" weights assigned to each word in a sentence. More generally, attention encodes vectors called tokenembeddings across a fixed-width sequence that can range from tens to millions of tokens in size. [...] Inspired by ideas about attention in humans, the attention mechanism was developed to address the weaknesses of leveraging information from the hidden layers of recurrent neural networks. Recurrent neural networks favor more recent information contained in words at the end of a sentence, while information earlier in the sentence tends to be attenuated. Attention allows a token equal access to any part of a sentence directly, rather than only through the previous state.\\\\n\\\\nHistory\\\\n------- [...] Attention(A Q,B K,B V)=A Attention(Q,K,V){\\\\\\\\displaystyle {\\\\\\\\text{Attention}}(\\\\\\\\mathbf {A} \\\\\\\\mathbf {Q} ,\\\\\\\\mathbf {B} \\\\\\\\mathbf {K} ,\\\\\\\\mathbf {B} \\\\\\\\mathbf {V} )=\\\\\\\\mathbf {A} \\\\\\\\,{\\\\\\\\text{Attention}}(\\\\\\\\mathbf {Q} ,\\\\\\\\mathbf {K} ,\\\\\\\\mathbf {V} )}Image 31: {\\\\\\\\displaystyle {\\\\\\\\text{Attention}}(\\\\\\\\mathbf {A} \\\\\\\\mathbf {Q} ,\\\\\\\\mathbf {B} \\\\\\\\mathbf {K} ,\\\\\\\\mathbf {B} \\\\\\\\mathbf {V} )=\\\\\\\\mathbf {A} \\\\\\\\,{\\\\\\\\text{Attention}}(\\\\\\\\mathbf {Q} ,\\\\\\\\mathbf {K} ,\\\\\\\\mathbf {V} )}\", \"score\": 0.94956195}, {\"title\": \"Attention models: a brief overview - DEV Community\", \"url\": \"https://dev.to/marcostx/attention-models-a-brief-timeline-593l\", \"content\": \"Machine learning has revolutionized various fields over the past decade, including computer vision, natural language processing, and speech recognition. Attention models have emerged as a powerful technique in machine learning, enabling models to selectively focus on relevant parts of the input, which has resulted in significant performance improvements in various tasks. From their first proposal with neural machine translation, attention models have rapidly evolved and have become a key [...] component of many state-of-the-art machine learning models. In this article, we will provide a brief history of attention models in machine learning, including their evolution, major breakthroughs, current advancements, and impact of attention models on the field of machine learning. Here, we focus on temporal attention for some but the core functions are similar for other types like spatial attention. [...] In short, the attention mechanism can be seen as a dynamic pooling in which the weights are learning along with the training. In some cases, these weights can be used as a tool to provide interpretability to the model, although it is not applied in specific scenarios . This is an important feature due to the growing interest in fairness and transparency in Machine Learning. Doughty et al.  employed multiple attention filters to discover essential parts in long videos for skill determination\", \"score\": 0.8790744}, {\"title\": \"5 Attention Mechanism Insights Every AI Developer Should Know\", \"url\": \"https://shelf.io/blog/attention-mechanism/\", \"content\": \"Attention allows a model to “remember” and focus on different parts of the input sequence, regardless of their position, by assigning different weights to different parts of the data. This means that instead of treating all the data equally, the model can learn to pay more attention to the bits that are more relevant to the task it’s performing. [...] The attention mechanism is a pivotal innovation in deep learning, drawing inspiration from the human ability to focus selectively on aspects of our environment. This mechanism has significantly enhanced the capabilities of neural networks, enabling them to process information more contextually and effectively. As we continue to explore and refine this technology, the potential for creating more intuitive and intelligent systems seems boundless.\\\\n\\\\n [ Blog ] [...] The attention mechanism has become a fundamental component in deep learning. Here are some key applications across different fields:\\\\n\\\\n### Natural Language Processing (NLP)\\\\n\\\\nMachine Translation:Attention mechanisms help models focus on relevant parts of the input sentence while translating it into another language, improving the quality and coherence of the translation.\", \"score\": 0.8088086}, {\"title\": \"Attention in the Human Brain and Its Applications in ML - The Gradient\", \"url\": \"https://thegradient.pub/attention-in-human-brain-and-its-applications-in-ml/\", \"content\": \"The importance weighing process of attention is intuitive from a machine learning perspective. Not all parts of the input (or encoded input, extracted features, embedding, etc.) have the same importance in generating (decoding) expected output. [...] We can construct saliency from bottom-up, i.e. a region that stimulates us through color, direction, and intensity and we put our fovea onto that region, or top-down, i.e. we select to attend a subset of input based on its importance. The importance is defined by the context of the task. For more details please see Koch and Ullman’s seminal work [\\\\\\\\[8\\\\\\\\]]( or [\\\\\\\\[9\\\\\\\\]](\\\\n\\\\nAttention in Machine Learning\\\\n============================= [...] I assume the start of attention mechanisms in machine learning with the paper \\\\\"Neural Machine Translation by Jointly Learning to Align and Translate\\\\\" by Bahdanau, Cho and Bengio [\\\\\\\\[10:1\\\\\\\\]]( I will explain another attention mechanism approach in computer vision, but the mainstream attention mechanism (which is very popular nowadays) first appeared in this paper.\\\\n\\\\nImage 4\\\\n\\\\nBahdanau et al. proposed a context vector before decoding.\", \"score\": 0.78866494}, {\"title\": \"ML - Attention mechanism - GeeksforGeeks\", \"url\": \"https://www.geeksforgeeks.org/ml-attention-mechanism/\", \"content\": \"Attention mechanism is a type of neural network that helps a model focus on specific parts of the input data, it is done by assigning weights to different elements in input which helps the model to decide which parts of information are most importart. This makes the model better at understanding complex relationships and dependencies in data. It helps the model to manage long-term dependencies and improves its ability to focus on important features. [...] Types of Attention Mechanism Attention mechanisms are crucial in deep learning, helping models perform better in tasks like NLP and computer vision. They enable models to focus on important parts of the input data, much like how humans concentrate on key details while ignoring irrelevant information helping in better understand 7 min read [...] Attention component find importance of each encoder’s hidden state with respect to the current target hidden state. It generates a context vector that captures the relevant information from the encoder’s hidden states. Its mechanism can be represented mathematically as follows:\", \"score\": 0.78334314}]', name='tavily_search_results_json', id='978075b0-6329-4588-9bf1-317e41e7a1ef', tool_call_id='call_E90shMAWCGIY7l29luK3oQAD', artifact={'query': 'Attention in machine learning', 'follow_up_questions': None, 'answer': None, 'images': [], 'results': [{'url': 'https://en.wikipedia.org/wiki/Attention_(machine_learning)', 'title': 'Attention (machine learning) - Wikipedia', 'content': 'Attention is a machine learning method that determines the importance of each component in a sequence relative to the other components in that sequence. In natural language processing, importance is represented by \"soft\" weights assigned to each word in a sentence. More generally, attention encodes vectors called tokenembeddings across a fixed-width sequence that can range from tens to millions of tokens in size. [...] Inspired by ideas about attention in humans, the attention mechanism was developed to address the weaknesses of leveraging information from the hidden layers of recurrent neural networks. Recurrent neural networks favor more recent information contained in words at the end of a sentence, while information earlier in the sentence tends to be attenuated. Attention allows a token equal access to any part of a sentence directly, rather than only through the previous state.\\n\\nHistory\\n------- [...] Attention(A Q,B K,B V)=A Attention(Q,K,V){\\\\displaystyle {\\\\text{Attention}}(\\\\mathbf {A} \\\\mathbf {Q} ,\\\\mathbf {B} \\\\mathbf {K} ,\\\\mathbf {B} \\\\mathbf {V} )=\\\\mathbf {A} \\\\,{\\\\text{Attention}}(\\\\mathbf {Q} ,\\\\mathbf {K} ,\\\\mathbf {V} )}Image 31: {\\\\displaystyle {\\\\text{Attention}}(\\\\mathbf {A} \\\\mathbf {Q} ,\\\\mathbf {B} \\\\mathbf {K} ,\\\\mathbf {B} \\\\mathbf {V} )=\\\\mathbf {A} \\\\,{\\\\text{Attention}}(\\\\mathbf {Q} ,\\\\mathbf {K} ,\\\\mathbf {V} )}', 'score': 0.94956195, 'raw_content': None}, {'url': 'https://dev.to/marcostx/attention-models-a-brief-timeline-593l', 'title': 'Attention models: a brief overview - DEV Community', 'content': 'Machine learning has revolutionized various fields over the past decade, including computer vision, natural language processing, and speech recognition. Attention models have emerged as a powerful technique in machine learning, enabling models to selectively focus on relevant parts of the input, which has resulted in significant performance improvements in various tasks. From their first proposal with neural machine translation, attention models have rapidly evolved and have become a key [...] component of many state-of-the-art machine learning models. In this article, we will provide a brief history of attention models in machine learning, including their evolution, major breakthroughs, current advancements, and impact of attention models on the field of machine learning. Here, we focus on temporal attention for some but the core functions are similar for other types like spatial attention. [...] In short, the attention mechanism can be seen as a dynamic pooling in which the weights are learning along with the training. In some cases, these weights can be used as a tool to provide interpretability to the model, although it is not applied in specific scenarios . This is an important feature due to the growing interest in fairness and transparency in Machine Learning. Doughty et al.  employed multiple attention filters to discover essential parts in long videos for skill determination', 'score': 0.8790744, 'raw_content': None}, {'url': 'https://shelf.io/blog/attention-mechanism/', 'title': '5 Attention Mechanism Insights Every AI Developer Should Know', 'content': 'Attention allows a model to “remember” and focus on different parts of the input sequence, regardless of their position, by assigning different weights to different parts of the data. This means that instead of treating all the data equally, the model can learn to pay more attention to the bits that are more relevant to the task it’s performing. [...] The attention mechanism is a pivotal innovation in deep learning, drawing inspiration from the human ability to focus selectively on aspects of our environment. This mechanism has significantly enhanced the capabilities of neural networks, enabling them to process information more contextually and effectively. As we continue to explore and refine this technology, the potential for creating more intuitive and intelligent systems seems boundless.\\n\\n [ Blog ] [...] The attention mechanism has become a fundamental component in deep learning. Here are some key applications across different fields:\\n\\n### Natural Language Processing (NLP)\\n\\nMachine Translation:Attention mechanisms help models focus on relevant parts of the input sentence while translating it into another language, improving the quality and coherence of the translation.', 'score': 0.8088086, 'raw_content': None}, {'url': 'https://thegradient.pub/attention-in-human-brain-and-its-applications-in-ml/', 'title': 'Attention in the Human Brain and Its Applications in ML - The Gradient', 'content': 'The importance weighing process of attention is intuitive from a machine learning perspective. Not all parts of the input (or encoded input, extracted features, embedding, etc.) have the same importance in generating (decoding) expected output. [...] We can construct saliency from bottom-up, i.e. a region that stimulates us through color, direction, and intensity and we put our fovea onto that region, or top-down, i.e. we select to attend a subset of input based on its importance. The importance is defined by the context of the task. For more details please see Koch and Ullman’s seminal work [\\\\[8\\\\]]( or [\\\\[9\\\\]](\\n\\nAttention in Machine Learning\\n============================= [...] I assume the start of attention mechanisms in machine learning with the paper \"Neural Machine Translation by Jointly Learning to Align and Translate\" by Bahdanau, Cho and Bengio [\\\\[10:1\\\\]]( I will explain another attention mechanism approach in computer vision, but the mainstream attention mechanism (which is very popular nowadays) first appeared in this paper.\\n\\nImage 4\\n\\nBahdanau et al. proposed a context vector before decoding.', 'score': 0.78866494, 'raw_content': None}, {'url': 'https://www.geeksforgeeks.org/ml-attention-mechanism/', 'title': 'ML - Attention mechanism - GeeksforGeeks', 'content': 'Attention mechanism is a type of neural network that helps a model focus on specific parts of the input data, it is done by assigning weights to different elements in input which helps the model to decide which parts of information are most importart. This makes the model better at understanding complex relationships and dependencies in data. It helps the model to manage long-term dependencies and improves its ability to focus on important features. [...] Types of Attention Mechanism Attention mechanisms are crucial in deep learning, helping models perform better in tasks like NLP and computer vision. They enable models to focus on important parts of the input data, much like how humans concentrate on key details while ignoring irrelevant information helping in better understand 7 min read [...] Attention component find importance of each encoder’s hidden state with respect to the current target hidden state. It generates a context vector that captures the relevant information from the encoder’s hidden states. Its mechanism can be represented mathematically as follows:', 'score': 0.78334314, 'raw_content': None}], 'response_time': 2.19})]\n",
            "\n",
            "\n",
            "\n",
            "Receiving update from node: 'agent'\n",
            "[AIMessage(content='LoRA, or Low-Rank Adaptation, is a machine learning technique designed to efficiently adapt large pre-trained models to specific tasks or domains. It works by adding lightweight, low-rank matrices to the original model\\'s weights, which are then fine-tuned, rather than retraining the entire model. This approach significantly reduces computational requirements and training time, making it easier to customize large models for particular applications. LoRA is especially useful for tasks like fine-tuning large language models (LLMs) and vision transformers.\\n\\nTim Dettmers is a researcher and assistant professor at Carnegie Mellon University. He is known for his work on making foundation models like ChatGPT more accessible by reducing their resource requirements. He has developed algorithms and systems for memory-efficient, fast, and cost-effective deep learning. Dettmers is also the creator of the bitsandbytes library, which is widely used for efficient deep learning. His research focuses on model compression, network algorithms, and enabling AI in specialized domains such as medicine.\\n\\nAttention in machine learning is a mechanism that allows models to weigh the importance of different parts of an input sequence relative to each other. Inspired by human attention, it helps models focus on relevant information, improving performance in tasks like natural language processing and computer vision. Attention assigns \"soft\" weights to elements in a sequence, enabling the model to consider all parts simultaneously and determine which are most relevant for the task at hand. This mechanism is a core component of transformer architectures and has revolutionized many areas of AI.', additional_kwargs={'refusal': None}, response_metadata={'token_usage': {'completion_tokens': 303, 'prompt_tokens': 4365, 'total_tokens': 4668, 'completion_tokens_details': {'accepted_prediction_tokens': 0, 'audio_tokens': 0, 'reasoning_tokens': 0, 'rejected_prediction_tokens': 0}, 'prompt_tokens_details': {'audio_tokens': 0, 'cached_tokens': 0}}, 'model_name': 'gpt-4.1-nano-2025-04-14', 'system_fingerprint': None, 'id': 'chatcmpl-BtF8m5IwJydglXSBQSggPBqBGjT0y', 'service_tier': 'default', 'finish_reason': 'stop', 'logprobs': None}, id='run--748f44cd-399f-4b74-9337-848054f29bb4-0', usage_metadata={'input_tokens': 4365, 'output_tokens': 303, 'total_tokens': 4668, 'input_token_details': {'audio': 0, 'cache_read': 0}, 'output_token_details': {'audio': 0, 'reasoning': 0}})]\n",
            "\n",
            "\n",
            "\n"
          ]
        }
      ],
      "source": [
        "inputs = {\"messages\" : [HumanMessage(content=\"Related to machine learning, what is LoRA? Also, who is Tim Dettmers? Also, what is Attention?\")]}\n",
        "\n",
        "async for chunk in agent_with_helpfulness_check.astream(inputs, stream_mode=\"updates\"):\n",
        "    for node, values in chunk.items():\n",
        "        print(f\"Receiving update from node: '{node}'\")\n",
        "        print(values[\"messages\"])\n",
        "        print(\"\\n\\n\")"
      ]
    },
    {
      "cell_type": "markdown",
      "metadata": {
        "id": "yVmZPs6lnpsM"
      },
      "source": [
        "### Task 4: LangGraph for the \"Patterns\" of GenAI\n",
        "\n",
        "Let's ask our system about the 4 patterns of Generative AI:\n",
        "\n",
        "1. Prompt Engineering\n",
        "2. RAG\n",
        "3. Fine-tuning\n",
        "4. Agents"
      ]
    },
    {
      "cell_type": "code",
      "execution_count": 96,
      "metadata": {
        "id": "ZoLl7GlXoae-"
      },
      "outputs": [],
      "source": [
        "patterns = [\"prompt engineering\", \"RAG\", \"fine-tuning\", \"LLM-based agents\"]"
      ]
    },
    {
      "cell_type": "code",
      "execution_count": 97,
      "metadata": {
        "colab": {
          "base_uri": "https://localhost:8080/"
        },
        "id": "Zkh0YJuCp3Zl",
        "outputId": "d847426e-71b3-47e6-b1ae-351a78d68d1e"
      },
      "outputs": [
        {
          "name": "stdout",
          "output_type": "stream",
          "text": [
            "Prompt engineering is the process of designing and refining input prompts to effectively communicate with AI language models, such as GPT-3 and GPT-4, to elicit desired responses. It involves crafting prompts that are clear, specific, and contextually rich to improve the quality, relevance, and accuracy of the generated outputs.\n",
            "\n",
            "Prompt engineering has gained significant prominence with the rise of large language models (LLMs) around 2020-2021. As these models became more capable and widely accessible, the importance of understanding how to interact with them effectively also grew. The term and practice of prompt engineering started to break onto the scene as a recognized discipline within AI and machine learning communities during this period, especially with the release of OpenAI's GPT-3 in 2020, which demonstrated the potential of prompt-based interactions.\n",
            "\n",
            "Would you like more detailed information on its development or specific techniques involved?\n",
            "\n",
            "\n",
            "\n",
            "RAG, which stands for Retrieval-Augmented Generation, is a technique in natural language processing that combines pre-trained language models with information retrieval systems. This approach allows models to access and incorporate external knowledge from a large corpus of documents or data sources, enhancing their ability to generate accurate and contextually relevant responses, especially when dealing with factual or specialized information.\n",
            "\n",
            "RAG was introduced by researchers at Facebook AI (now Meta AI) in a paper published in 2020. It marked a significant advancement in the field by enabling language models to dynamically retrieve relevant information during the generation process, rather than relying solely on their training data.\n",
            "\n",
            "Would you like more detailed information about the original RAG paper or its applications?\n",
            "\n",
            "\n",
            "\n",
            "Fine-tuning is a process in machine learning where a pre-trained model is further trained on a specific dataset to adapt it to a particular task or domain. This approach leverages the knowledge the model has already acquired during its initial training on large, general datasets, and then refines it to improve performance on specialized tasks. Fine-tuning typically involves adjusting the model's weights through additional training epochs on the new dataset, often with a smaller learning rate to make subtle adjustments.\n",
            "\n",
            "Fine-tuning has been a common practice in machine learning for many years, especially in fields like natural language processing and computer vision. However, it gained significant prominence and broke onto the mainstream scene with the advent of large pre-trained models such as BERT (Bidirectional Encoder Representations from Transformers) in 2018, and later with models like GPT (Generative Pre-trained Transformer) series. These models demonstrated that large-scale pre-training followed by fine-tuning could achieve state-of-the-art results across a wide range of tasks, revolutionizing the field and making fine-tuning a standard approach in AI development.\n",
            "\n",
            "Would you like more detailed information on the history or specific techniques involved in fine-tuning?\n",
            "\n",
            "\n",
            "\n",
            "LLM-based agents are intelligent systems that leverage large language models (LLMs) to perform a variety of tasks, such as understanding natural language, generating human-like responses, and making decisions or taking actions based on the input they receive. These agents can be used in applications like chatbots, virtual assistants, automated customer support, and more complex decision-making systems.\n",
            "\n",
            "The concept of LLM-based agents gained significant attention and broke onto the scene around 2020-2021, coinciding with the development and release of large-scale language models like OpenAI's GPT-3 in 2020. GPT-3's impressive capabilities demonstrated the potential of large language models to serve as the core component of autonomous agents capable of performing a wide range of tasks with minimal task-specific training.\n",
            "\n",
            "Since then, the field has rapidly evolved, with numerous advancements in model architectures, training techniques, and applications, making LLM-based agents a prominent area of research and development in artificial intelligence.\n",
            "\n",
            "Would you like more detailed information on the history, technical aspects, or recent developments of LLM-based agents?\n",
            "\n",
            "\n",
            "\n"
          ]
        }
      ],
      "source": [
        "for pattern in patterns:\n",
        "  what_is_string = f\"What is {pattern} and when did it break onto the scene??\"\n",
        "  inputs = {\"messages\" : [HumanMessage(content=what_is_string)]}\n",
        "  messages = agent_with_helpfulness_check.invoke(inputs)\n",
        "  print(messages[\"messages\"][-1].content)\n",
        "  print(\"\\n\\n\")"
      ]
    }
  ],
  "metadata": {
    "colab": {
      "provenance": []
    },
    "kernelspec": {
      "display_name": ".venv",
      "language": "python",
      "name": "python3"
    },
    "language_info": {
      "codemirror_mode": {
        "name": "ipython",
        "version": 3
      },
      "file_extension": ".py",
      "mimetype": "text/x-python",
      "name": "python",
      "nbconvert_exporter": "python",
      "pygments_lexer": "ipython3",
      "version": "3.13.5"
    }
  },
  "nbformat": 4,
  "nbformat_minor": 0
}
